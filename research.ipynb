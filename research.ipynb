{
  "cells": [
    {
      "cell_type": "markdown",
      "metadata": {
        "id": "xu8erJBYMxzn"
      },
      "source": [
        "# Загрузка библиотек"
      ],
      "id": "xu8erJBYMxzn"
    },
    {
      "cell_type": "code",
      "execution_count": 7,
      "metadata": {
        "id": "UoS--QzwMxzs"
      },
      "outputs": [],
      "source": [
        "# данные\n",
        "import pandas as pd\n",
        "pd.set_option('display.float_format', lambda x: '%.5f' % x)\n",
        "import math\n",
        "\n",
        "# визуализация\n",
        "from matplotlib import pyplot as plt\n",
        "import seaborn as sns\n",
        "\n",
        "# подготовка данных\n",
        "from sklearn.model_selection import train_test_split\n",
        "from sklearn.pipeline import make_pipeline\n",
        "from sklearn.preprocessing import StandardScaler, MinMaxScaler\n",
        "\n",
        "# отбор признаков\n",
        "from sklearn.feature_selection import SelectKBest\n",
        "from sklearn.feature_selection import f_regression\n",
        "\n",
        "# метрики\n",
        "from sklearn.metrics import mean_absolute_percentage_error as mape\n",
        "from sklearn.metrics import accuracy_score as acc\n",
        "from sklearn.metrics import roc_curve\n",
        "from sklearn.metrics import RocCurveDisplay\n",
        "\n",
        "# регресия\n",
        "from sklearn.linear_model import LinearRegression, Lasso\n",
        "from lightgbm import LGBMRegressor\n",
        "from xgboost.sklearn import XGBRegressor\n",
        "from sklearn.linear_model import SGDRegressor\n",
        "from sklearn.kernel_ridge import KernelRidge\n",
        "from sklearn.linear_model import ElasticNet\n",
        "from sklearn.linear_model import BayesianRidge\n",
        "from sklearn.ensemble import GradientBoostingRegressor\n",
        "from sklearn.svm import SVR\n",
        "from sklearn.ensemble import RandomForestRegressor\n",
        "\n",
        "# классификация\n",
        "from sklearn.linear_model import LogisticRegression\n",
        "from sklearn.ensemble import RandomForestClassifier\n",
        "from sklearn.discriminant_analysis import LinearDiscriminantAnalysis\n",
        "from sklearn.neighbors import KNeighborsClassifier\n",
        "from sklearn.naive_bayes import GaussianNB\n",
        "from sklearn.svm import SVC\n",
        "from sklearn.linear_model import SGDClassifier\n",
        "from sklearn.naive_bayes import MultinomialNB\n",
        "from sklearn.ensemble import GradientBoostingClassifier\n",
        "from lightgbm import LGBMClassifier\n",
        "from xgboost.sklearn import XGBClassifier"
      ],
      "id": "UoS--QzwMxzs"
    },
    {
      "cell_type": "markdown",
      "metadata": {
        "id": "gEMOGhZwMxzt"
      },
      "source": [
        "# Загрузка и анализ данных"
      ],
      "id": "gEMOGhZwMxzt"
    },
    {
      "cell_type": "code",
      "execution_count": 84,
      "metadata": {
        "id": "lC0ntklZMxzu",
        "colab": {
          "base_uri": "https://localhost:8080/",
          "height": 112
        },
        "outputId": "554c0922-8246-48ec-c78a-a85fd92d7ee3"
      },
      "outputs": [
        {
          "output_type": "execute_result",
          "data": {
            "text/plain": [
              "      <DATE>   <OPEN>   <HIGH>    <LOW>  <CLOSE>      <VOL>\n",
              "0 2010-01-11 86.56000 88.17000 85.51000 86.69000  148661237\n",
              "1 2010-01-12 86.55000 86.77000 84.90000 85.00000  130276079"
            ],
            "text/html": [
              "\n",
              "  <div id=\"df-9b3ce7c4-dc57-4d8c-90b0-14d61927f6c3\">\n",
              "    <div class=\"colab-df-container\">\n",
              "      <div>\n",
              "<style scoped>\n",
              "    .dataframe tbody tr th:only-of-type {\n",
              "        vertical-align: middle;\n",
              "    }\n",
              "\n",
              "    .dataframe tbody tr th {\n",
              "        vertical-align: top;\n",
              "    }\n",
              "\n",
              "    .dataframe thead th {\n",
              "        text-align: right;\n",
              "    }\n",
              "</style>\n",
              "<table border=\"1\" class=\"dataframe\">\n",
              "  <thead>\n",
              "    <tr style=\"text-align: right;\">\n",
              "      <th></th>\n",
              "      <th>&lt;DATE&gt;</th>\n",
              "      <th>&lt;OPEN&gt;</th>\n",
              "      <th>&lt;HIGH&gt;</th>\n",
              "      <th>&lt;LOW&gt;</th>\n",
              "      <th>&lt;CLOSE&gt;</th>\n",
              "      <th>&lt;VOL&gt;</th>\n",
              "    </tr>\n",
              "  </thead>\n",
              "  <tbody>\n",
              "    <tr>\n",
              "      <th>0</th>\n",
              "      <td>2010-01-11</td>\n",
              "      <td>86.56000</td>\n",
              "      <td>88.17000</td>\n",
              "      <td>85.51000</td>\n",
              "      <td>86.69000</td>\n",
              "      <td>148661237</td>\n",
              "    </tr>\n",
              "    <tr>\n",
              "      <th>1</th>\n",
              "      <td>2010-01-12</td>\n",
              "      <td>86.55000</td>\n",
              "      <td>86.77000</td>\n",
              "      <td>84.90000</td>\n",
              "      <td>85.00000</td>\n",
              "      <td>130276079</td>\n",
              "    </tr>\n",
              "  </tbody>\n",
              "</table>\n",
              "</div>\n",
              "      <button class=\"colab-df-convert\" onclick=\"convertToInteractive('df-9b3ce7c4-dc57-4d8c-90b0-14d61927f6c3')\"\n",
              "              title=\"Convert this dataframe to an interactive table.\"\n",
              "              style=\"display:none;\">\n",
              "        \n",
              "  <svg xmlns=\"http://www.w3.org/2000/svg\" height=\"24px\"viewBox=\"0 0 24 24\"\n",
              "       width=\"24px\">\n",
              "    <path d=\"M0 0h24v24H0V0z\" fill=\"none\"/>\n",
              "    <path d=\"M18.56 5.44l.94 2.06.94-2.06 2.06-.94-2.06-.94-.94-2.06-.94 2.06-2.06.94zm-11 1L8.5 8.5l.94-2.06 2.06-.94-2.06-.94L8.5 2.5l-.94 2.06-2.06.94zm10 10l.94 2.06.94-2.06 2.06-.94-2.06-.94-.94-2.06-.94 2.06-2.06.94z\"/><path d=\"M17.41 7.96l-1.37-1.37c-.4-.4-.92-.59-1.43-.59-.52 0-1.04.2-1.43.59L10.3 9.45l-7.72 7.72c-.78.78-.78 2.05 0 2.83L4 21.41c.39.39.9.59 1.41.59.51 0 1.02-.2 1.41-.59l7.78-7.78 2.81-2.81c.8-.78.8-2.07 0-2.86zM5.41 20L4 18.59l7.72-7.72 1.47 1.35L5.41 20z\"/>\n",
              "  </svg>\n",
              "      </button>\n",
              "      \n",
              "  <style>\n",
              "    .colab-df-container {\n",
              "      display:flex;\n",
              "      flex-wrap:wrap;\n",
              "      gap: 12px;\n",
              "    }\n",
              "\n",
              "    .colab-df-convert {\n",
              "      background-color: #E8F0FE;\n",
              "      border: none;\n",
              "      border-radius: 50%;\n",
              "      cursor: pointer;\n",
              "      display: none;\n",
              "      fill: #1967D2;\n",
              "      height: 32px;\n",
              "      padding: 0 0 0 0;\n",
              "      width: 32px;\n",
              "    }\n",
              "\n",
              "    .colab-df-convert:hover {\n",
              "      background-color: #E2EBFA;\n",
              "      box-shadow: 0px 1px 2px rgba(60, 64, 67, 0.3), 0px 1px 3px 1px rgba(60, 64, 67, 0.15);\n",
              "      fill: #174EA6;\n",
              "    }\n",
              "\n",
              "    [theme=dark] .colab-df-convert {\n",
              "      background-color: #3B4455;\n",
              "      fill: #D2E3FC;\n",
              "    }\n",
              "\n",
              "    [theme=dark] .colab-df-convert:hover {\n",
              "      background-color: #434B5C;\n",
              "      box-shadow: 0px 1px 3px 1px rgba(0, 0, 0, 0.15);\n",
              "      filter: drop-shadow(0px 1px 2px rgba(0, 0, 0, 0.3));\n",
              "      fill: #FFFFFF;\n",
              "    }\n",
              "  </style>\n",
              "\n",
              "      <script>\n",
              "        const buttonEl =\n",
              "          document.querySelector('#df-9b3ce7c4-dc57-4d8c-90b0-14d61927f6c3 button.colab-df-convert');\n",
              "        buttonEl.style.display =\n",
              "          google.colab.kernel.accessAllowed ? 'block' : 'none';\n",
              "\n",
              "        async function convertToInteractive(key) {\n",
              "          const element = document.querySelector('#df-9b3ce7c4-dc57-4d8c-90b0-14d61927f6c3');\n",
              "          const dataTable =\n",
              "            await google.colab.kernel.invokeFunction('convertToInteractive',\n",
              "                                                     [key], {});\n",
              "          if (!dataTable) return;\n",
              "\n",
              "          const docLinkHtml = 'Like what you see? Visit the ' +\n",
              "            '<a target=\"_blank\" href=https://colab.research.google.com/notebooks/data_table.ipynb>data table notebook</a>'\n",
              "            + ' to learn more about interactive tables.';\n",
              "          element.innerHTML = '';\n",
              "          dataTable['output_type'] = 'display_data';\n",
              "          await google.colab.output.renderOutput(dataTable, element);\n",
              "          const docLink = document.createElement('div');\n",
              "          docLink.innerHTML = docLinkHtml;\n",
              "          element.appendChild(docLink);\n",
              "        }\n",
              "      </script>\n",
              "    </div>\n",
              "  </div>\n",
              "  "
            ]
          },
          "metadata": {},
          "execution_count": 84
        }
      ],
      "source": [
        "# прочитаем файл csv с историческими данными\n",
        "parse_dates = ['<DATE>']\n",
        "data = pd.read_csv('SBER_100101_230501.csv', parse_dates=parse_dates)\n",
        "data.drop(columns=['<TICKER>', '<PER>', '<TIME>'], inplace=True)\n",
        "data.head(2)"
      ],
      "id": "lC0ntklZMxzu"
    },
    {
      "cell_type": "code",
      "execution_count": 85,
      "metadata": {
        "id": "4CfJo_lEMxzu",
        "colab": {
          "base_uri": "https://localhost:8080/",
          "height": 112
        },
        "outputId": "37c1c2b3-f281-4f20-a03f-54853ac46b31"
      },
      "outputs": [
        {
          "output_type": "execute_result",
          "data": {
            "text/plain": [
              "        DATE     OPEN     HIGH      LOW    CLOSE        VOL\n",
              "0 2010-01-11 86.56000 88.17000 85.51000 86.69000  148661237\n",
              "1 2010-01-12 86.55000 86.77000 84.90000 85.00000  130276079"
            ],
            "text/html": [
              "\n",
              "  <div id=\"df-37b5c7cb-1627-4441-b21a-1f2508371c04\">\n",
              "    <div class=\"colab-df-container\">\n",
              "      <div>\n",
              "<style scoped>\n",
              "    .dataframe tbody tr th:only-of-type {\n",
              "        vertical-align: middle;\n",
              "    }\n",
              "\n",
              "    .dataframe tbody tr th {\n",
              "        vertical-align: top;\n",
              "    }\n",
              "\n",
              "    .dataframe thead th {\n",
              "        text-align: right;\n",
              "    }\n",
              "</style>\n",
              "<table border=\"1\" class=\"dataframe\">\n",
              "  <thead>\n",
              "    <tr style=\"text-align: right;\">\n",
              "      <th></th>\n",
              "      <th>DATE</th>\n",
              "      <th>OPEN</th>\n",
              "      <th>HIGH</th>\n",
              "      <th>LOW</th>\n",
              "      <th>CLOSE</th>\n",
              "      <th>VOL</th>\n",
              "    </tr>\n",
              "  </thead>\n",
              "  <tbody>\n",
              "    <tr>\n",
              "      <th>0</th>\n",
              "      <td>2010-01-11</td>\n",
              "      <td>86.56000</td>\n",
              "      <td>88.17000</td>\n",
              "      <td>85.51000</td>\n",
              "      <td>86.69000</td>\n",
              "      <td>148661237</td>\n",
              "    </tr>\n",
              "    <tr>\n",
              "      <th>1</th>\n",
              "      <td>2010-01-12</td>\n",
              "      <td>86.55000</td>\n",
              "      <td>86.77000</td>\n",
              "      <td>84.90000</td>\n",
              "      <td>85.00000</td>\n",
              "      <td>130276079</td>\n",
              "    </tr>\n",
              "  </tbody>\n",
              "</table>\n",
              "</div>\n",
              "      <button class=\"colab-df-convert\" onclick=\"convertToInteractive('df-37b5c7cb-1627-4441-b21a-1f2508371c04')\"\n",
              "              title=\"Convert this dataframe to an interactive table.\"\n",
              "              style=\"display:none;\">\n",
              "        \n",
              "  <svg xmlns=\"http://www.w3.org/2000/svg\" height=\"24px\"viewBox=\"0 0 24 24\"\n",
              "       width=\"24px\">\n",
              "    <path d=\"M0 0h24v24H0V0z\" fill=\"none\"/>\n",
              "    <path d=\"M18.56 5.44l.94 2.06.94-2.06 2.06-.94-2.06-.94-.94-2.06-.94 2.06-2.06.94zm-11 1L8.5 8.5l.94-2.06 2.06-.94-2.06-.94L8.5 2.5l-.94 2.06-2.06.94zm10 10l.94 2.06.94-2.06 2.06-.94-2.06-.94-.94-2.06-.94 2.06-2.06.94z\"/><path d=\"M17.41 7.96l-1.37-1.37c-.4-.4-.92-.59-1.43-.59-.52 0-1.04.2-1.43.59L10.3 9.45l-7.72 7.72c-.78.78-.78 2.05 0 2.83L4 21.41c.39.39.9.59 1.41.59.51 0 1.02-.2 1.41-.59l7.78-7.78 2.81-2.81c.8-.78.8-2.07 0-2.86zM5.41 20L4 18.59l7.72-7.72 1.47 1.35L5.41 20z\"/>\n",
              "  </svg>\n",
              "      </button>\n",
              "      \n",
              "  <style>\n",
              "    .colab-df-container {\n",
              "      display:flex;\n",
              "      flex-wrap:wrap;\n",
              "      gap: 12px;\n",
              "    }\n",
              "\n",
              "    .colab-df-convert {\n",
              "      background-color: #E8F0FE;\n",
              "      border: none;\n",
              "      border-radius: 50%;\n",
              "      cursor: pointer;\n",
              "      display: none;\n",
              "      fill: #1967D2;\n",
              "      height: 32px;\n",
              "      padding: 0 0 0 0;\n",
              "      width: 32px;\n",
              "    }\n",
              "\n",
              "    .colab-df-convert:hover {\n",
              "      background-color: #E2EBFA;\n",
              "      box-shadow: 0px 1px 2px rgba(60, 64, 67, 0.3), 0px 1px 3px 1px rgba(60, 64, 67, 0.15);\n",
              "      fill: #174EA6;\n",
              "    }\n",
              "\n",
              "    [theme=dark] .colab-df-convert {\n",
              "      background-color: #3B4455;\n",
              "      fill: #D2E3FC;\n",
              "    }\n",
              "\n",
              "    [theme=dark] .colab-df-convert:hover {\n",
              "      background-color: #434B5C;\n",
              "      box-shadow: 0px 1px 3px 1px rgba(0, 0, 0, 0.15);\n",
              "      filter: drop-shadow(0px 1px 2px rgba(0, 0, 0, 0.3));\n",
              "      fill: #FFFFFF;\n",
              "    }\n",
              "  </style>\n",
              "\n",
              "      <script>\n",
              "        const buttonEl =\n",
              "          document.querySelector('#df-37b5c7cb-1627-4441-b21a-1f2508371c04 button.colab-df-convert');\n",
              "        buttonEl.style.display =\n",
              "          google.colab.kernel.accessAllowed ? 'block' : 'none';\n",
              "\n",
              "        async function convertToInteractive(key) {\n",
              "          const element = document.querySelector('#df-37b5c7cb-1627-4441-b21a-1f2508371c04');\n",
              "          const dataTable =\n",
              "            await google.colab.kernel.invokeFunction('convertToInteractive',\n",
              "                                                     [key], {});\n",
              "          if (!dataTable) return;\n",
              "\n",
              "          const docLinkHtml = 'Like what you see? Visit the ' +\n",
              "            '<a target=\"_blank\" href=https://colab.research.google.com/notebooks/data_table.ipynb>data table notebook</a>'\n",
              "            + ' to learn more about interactive tables.';\n",
              "          element.innerHTML = '';\n",
              "          dataTable['output_type'] = 'display_data';\n",
              "          await google.colab.output.renderOutput(dataTable, element);\n",
              "          const docLink = document.createElement('div');\n",
              "          docLink.innerHTML = docLinkHtml;\n",
              "          element.appendChild(docLink);\n",
              "        }\n",
              "      </script>\n",
              "    </div>\n",
              "  </div>\n",
              "  "
            ]
          },
          "metadata": {},
          "execution_count": 85
        }
      ],
      "source": [
        "# переименуем названия признаков в более удобные\n",
        "data.rename(columns={'<TICKER>':'TICKER', '<DATE>':'DATE', '<OPEN>':'OPEN', '<HIGH>':'HIGH', \n",
        "                     '<LOW>':'LOW', '<CLOSE>':'CLOSE', '<VOL>':'VOL'}, inplace=True)\n",
        "data.head(2)"
      ],
      "id": "4CfJo_lEMxzu"
    },
    {
      "cell_type": "code",
      "execution_count": 86,
      "metadata": {
        "id": "Ke5ZP4TUMxzv",
        "colab": {
          "base_uri": "https://localhost:8080/"
        },
        "outputId": "c0e987eb-4838-4a7c-e8cb-99f615fe9da1"
      },
      "outputs": [
        {
          "output_type": "stream",
          "name": "stdout",
          "text": [
            "<class 'pandas.core.frame.DataFrame'>\n",
            "RangeIndex: 3333 entries, 0 to 3332\n",
            "Data columns (total 6 columns):\n",
            " #   Column  Non-Null Count  Dtype         \n",
            "---  ------  --------------  -----         \n",
            " 0   DATE    3333 non-null   datetime64[ns]\n",
            " 1   OPEN    3333 non-null   float64       \n",
            " 2   HIGH    3333 non-null   float64       \n",
            " 3   LOW     3333 non-null   float64       \n",
            " 4   CLOSE   3333 non-null   float64       \n",
            " 5   VOL     3333 non-null   int64         \n",
            "dtypes: datetime64[ns](1), float64(4), int64(1)\n",
            "memory usage: 156.4 KB\n"
          ]
        }
      ],
      "source": [
        "data.info()"
      ],
      "id": "Ke5ZP4TUMxzv"
    },
    {
      "cell_type": "code",
      "source": [
        "# на сколько процентов в среднем в день \"ходит\" цена\n",
        "abs((data['OPEN'] - data['CLOSE']) / data['OPEN'] * 100).hist(bins=50)"
      ],
      "metadata": {
        "id": "hXnCfP4JZwY0",
        "colab": {
          "base_uri": "https://localhost:8080/",
          "height": 447
        },
        "outputId": "4ead9436-8ecc-4015-9a9a-cf9ca127b8df"
      },
      "id": "hXnCfP4JZwY0",
      "execution_count": 87,
      "outputs": [
        {
          "output_type": "execute_result",
          "data": {
            "text/plain": [
              "<Axes: >"
            ]
          },
          "metadata": {},
          "execution_count": 87
        },
        {
          "output_type": "display_data",
          "data": {
            "text/plain": [
              "<Figure size 640x480 with 1 Axes>"
            ],
            "image/png": "[encoded data removed]"
          },
          "metadata": {}
        }
      ]
    },
    {
      "cell_type": "code",
      "source": [
        "(abs((data['OPEN'] - data['CLOSE']) / data['OPEN'] * 100)).describe()"
      ],
      "metadata": {
        "colab": {
          "base_uri": "https://localhost:8080/"
        },
        "id": "MUCdevIb9-Ou",
        "outputId": "7a09b0ce-ec52-4f0b-c0dc-2d5f0d6cd082"
      },
      "id": "MUCdevIb9-Ou",
      "execution_count": 88,
      "outputs": [
        {
          "output_type": "execute_result",
          "data": {
            "text/plain": [
              "count   3333.00000\n",
              "mean       1.37796\n",
              "std        1.46670\n",
              "min        0.00000\n",
              "25%        0.44997\n",
              "50%        1.01810\n",
              "75%        1.82260\n",
              "max       29.15639\n",
              "dtype: float64"
            ]
          },
          "metadata": {},
          "execution_count": 88
        }
      ]
    },
    {
      "cell_type": "markdown",
      "source": [
        "В среднем акция \"ходит\" на 1,5% за день. Максимальное значение было почти 30% за день."
      ],
      "metadata": {
        "id": "DqXd4LYh-T5t"
      },
      "id": "DqXd4LYh-T5t"
    },
    {
      "cell_type": "markdown",
      "source": [
        "## Удаление выбросов\n",
        "\n",
        "Пробовал варианты без удаления выбросов и с удалением. Выбросными считаю записи, когда происходило резкое изменение цены (больше 10%). Вариант с удалением дает улучшение, но совсем немного (десятые доли процента mape)."
      ],
      "metadata": {
        "id": "0G2HE8Tqx0tv"
      },
      "id": "0G2HE8Tqx0tv"
    },
    {
      "cell_type": "code",
      "source": [
        "data.loc[(data['OPEN'] - data['CLOSE']) / data['OPEN']*100 > 10]"
      ],
      "metadata": {
        "colab": {
          "base_uri": "https://localhost:8080/",
          "height": 175
        },
        "id": "06iEXfnnx3LR",
        "outputId": "b414f525-b1a0-4a00-b420-4d7b62fc4b50"
      },
      "id": "06iEXfnnx3LR",
      "execution_count": 89,
      "outputs": [
        {
          "output_type": "execute_result",
          "data": {
            "text/plain": [
              "           DATE      OPEN      HIGH       LOW     CLOSE         VOL\n",
              "1240 2014-12-16  59.50000  61.95000  47.21000  53.50000   470470430\n",
              "2070 2018-04-09 255.10000 255.30000 205.00000 213.00000   249893540\n",
              "3050 2022-02-21 249.12000 258.32000 184.30000 201.00000  1084339130\n",
              "3052 2022-02-24 186.58000 187.54000  89.59000 132.18000   828329350"
            ],
            "text/html": [
              "\n",
              "  <div id=\"df-3f6c7535-0a79-4dc4-a06a-17f741cb996f\">\n",
              "    <div class=\"colab-df-container\">\n",
              "      <div>\n",
              "<style scoped>\n",
              "    .dataframe tbody tr th:only-of-type {\n",
              "        vertical-align: middle;\n",
              "    }\n",
              "\n",
              "    .dataframe tbody tr th {\n",
              "        vertical-align: top;\n",
              "    }\n",
              "\n",
              "    .dataframe thead th {\n",
              "        text-align: right;\n",
              "    }\n",
              "</style>\n",
              "<table border=\"1\" class=\"dataframe\">\n",
              "  <thead>\n",
              "    <tr style=\"text-align: right;\">\n",
              "      <th></th>\n",
              "      <th>DATE</th>\n",
              "      <th>OPEN</th>\n",
              "      <th>HIGH</th>\n",
              "      <th>LOW</th>\n",
              "      <th>CLOSE</th>\n",
              "      <th>VOL</th>\n",
              "    </tr>\n",
              "  </thead>\n",
              "  <tbody>\n",
              "    <tr>\n",
              "      <th>1240</th>\n",
              "      <td>2014-12-16</td>\n",
              "      <td>59.50000</td>\n",
              "      <td>61.95000</td>\n",
              "      <td>47.21000</td>\n",
              "      <td>53.50000</td>\n",
              "      <td>470470430</td>\n",
              "    </tr>\n",
              "    <tr>\n",
              "      <th>2070</th>\n",
              "      <td>2018-04-09</td>\n",
              "      <td>255.10000</td>\n",
              "      <td>255.30000</td>\n",
              "      <td>205.00000</td>\n",
              "      <td>213.00000</td>\n",
              "      <td>249893540</td>\n",
              "    </tr>\n",
              "    <tr>\n",
              "      <th>3050</th>\n",
              "      <td>2022-02-21</td>\n",
              "      <td>249.12000</td>\n",
              "      <td>258.32000</td>\n",
              "      <td>184.30000</td>\n",
              "      <td>201.00000</td>\n",
              "      <td>1084339130</td>\n",
              "    </tr>\n",
              "    <tr>\n",
              "      <th>3052</th>\n",
              "      <td>2022-02-24</td>\n",
              "      <td>186.58000</td>\n",
              "      <td>187.54000</td>\n",
              "      <td>89.59000</td>\n",
              "      <td>132.18000</td>\n",
              "      <td>828329350</td>\n",
              "    </tr>\n",
              "  </tbody>\n",
              "</table>\n",
              "</div>\n",
              "      <button class=\"colab-df-convert\" onclick=\"convertToInteractive('df-3f6c7535-0a79-4dc4-a06a-17f741cb996f')\"\n",
              "              title=\"Convert this dataframe to an interactive table.\"\n",
              "              style=\"display:none;\">\n",
              "        \n",
              "  <svg xmlns=\"http://www.w3.org/2000/svg\" height=\"24px\"viewBox=\"0 0 24 24\"\n",
              "       width=\"24px\">\n",
              "    <path d=\"M0 0h24v24H0V0z\" fill=\"none\"/>\n",
              "    <path d=\"M18.56 5.44l.94 2.06.94-2.06 2.06-.94-2.06-.94-.94-2.06-.94 2.06-2.06.94zm-11 1L8.5 8.5l.94-2.06 2.06-.94-2.06-.94L8.5 2.5l-.94 2.06-2.06.94zm10 10l.94 2.06.94-2.06 2.06-.94-2.06-.94-.94-2.06-.94 2.06-2.06.94z\"/><path d=\"M17.41 7.96l-1.37-1.37c-.4-.4-.92-.59-1.43-.59-.52 0-1.04.2-1.43.59L10.3 9.45l-7.72 7.72c-.78.78-.78 2.05 0 2.83L4 21.41c.39.39.9.59 1.41.59.51 0 1.02-.2 1.41-.59l7.78-7.78 2.81-2.81c.8-.78.8-2.07 0-2.86zM5.41 20L4 18.59l7.72-7.72 1.47 1.35L5.41 20z\"/>\n",
              "  </svg>\n",
              "      </button>\n",
              "      \n",
              "  <style>\n",
              "    .colab-df-container {\n",
              "      display:flex;\n",
              "      flex-wrap:wrap;\n",
              "      gap: 12px;\n",
              "    }\n",
              "\n",
              "    .colab-df-convert {\n",
              "      background-color: #E8F0FE;\n",
              "      border: none;\n",
              "      border-radius: 50%;\n",
              "      cursor: pointer;\n",
              "      display: none;\n",
              "      fill: #1967D2;\n",
              "      height: 32px;\n",
              "      padding: 0 0 0 0;\n",
              "      width: 32px;\n",
              "    }\n",
              "\n",
              "    .colab-df-convert:hover {\n",
              "      background-color: #E2EBFA;\n",
              "      box-shadow: 0px 1px 2px rgba(60, 64, 67, 0.3), 0px 1px 3px 1px rgba(60, 64, 67, 0.15);\n",
              "      fill: #174EA6;\n",
              "    }\n",
              "\n",
              "    [theme=dark] .colab-df-convert {\n",
              "      background-color: #3B4455;\n",
              "      fill: #D2E3FC;\n",
              "    }\n",
              "\n",
              "    [theme=dark] .colab-df-convert:hover {\n",
              "      background-color: #434B5C;\n",
              "      box-shadow: 0px 1px 3px 1px rgba(0, 0, 0, 0.15);\n",
              "      filter: drop-shadow(0px 1px 2px rgba(0, 0, 0, 0.3));\n",
              "      fill: #FFFFFF;\n",
              "    }\n",
              "  </style>\n",
              "\n",
              "      <script>\n",
              "        const buttonEl =\n",
              "          document.querySelector('#df-3f6c7535-0a79-4dc4-a06a-17f741cb996f button.colab-df-convert');\n",
              "        buttonEl.style.display =\n",
              "          google.colab.kernel.accessAllowed ? 'block' : 'none';\n",
              "\n",
              "        async function convertToInteractive(key) {\n",
              "          const element = document.querySelector('#df-3f6c7535-0a79-4dc4-a06a-17f741cb996f');\n",
              "          const dataTable =\n",
              "            await google.colab.kernel.invokeFunction('convertToInteractive',\n",
              "                                                     [key], {});\n",
              "          if (!dataTable) return;\n",
              "\n",
              "          const docLinkHtml = 'Like what you see? Visit the ' +\n",
              "            '<a target=\"_blank\" href=https://colab.research.google.com/notebooks/data_table.ipynb>data table notebook</a>'\n",
              "            + ' to learn more about interactive tables.';\n",
              "          element.innerHTML = '';\n",
              "          dataTable['output_type'] = 'display_data';\n",
              "          await google.colab.output.renderOutput(dataTable, element);\n",
              "          const docLink = document.createElement('div');\n",
              "          docLink.innerHTML = docLinkHtml;\n",
              "          element.appendChild(docLink);\n",
              "        }\n",
              "      </script>\n",
              "    </div>\n",
              "  </div>\n",
              "  "
            ]
          },
          "metadata": {},
          "execution_count": 89
        }
      ]
    },
    {
      "cell_type": "code",
      "source": [
        "drop_idx = data.loc[(data['OPEN'] - data['CLOSE']) / data['OPEN']*100 > 10].index\n",
        "drop_idx"
      ],
      "metadata": {
        "colab": {
          "base_uri": "https://localhost:8080/"
        },
        "id": "_ycflSTfyohD",
        "outputId": "269c3a31-211f-4f97-cfd2-c163f36cf244"
      },
      "id": "_ycflSTfyohD",
      "execution_count": 90,
      "outputs": [
        {
          "output_type": "execute_result",
          "data": {
            "text/plain": [
              "Int64Index([1240, 2070, 3050, 3052], dtype='int64')"
            ]
          },
          "metadata": {},
          "execution_count": 90
        }
      ]
    },
    {
      "cell_type": "code",
      "source": [
        "data.drop(index=drop_idx, inplace=True)\n",
        "data.info()"
      ],
      "metadata": {
        "colab": {
          "base_uri": "https://localhost:8080/"
        },
        "id": "fW9AUUw1yr4z",
        "outputId": "3e2ba628-9389-4cdd-beb6-070aa2ff408f"
      },
      "id": "fW9AUUw1yr4z",
      "execution_count": 91,
      "outputs": [
        {
          "output_type": "stream",
          "name": "stdout",
          "text": [
            "<class 'pandas.core.frame.DataFrame'>\n",
            "Int64Index: 3329 entries, 0 to 3332\n",
            "Data columns (total 6 columns):\n",
            " #   Column  Non-Null Count  Dtype         \n",
            "---  ------  --------------  -----         \n",
            " 0   DATE    3329 non-null   datetime64[ns]\n",
            " 1   OPEN    3329 non-null   float64       \n",
            " 2   HIGH    3329 non-null   float64       \n",
            " 3   LOW     3329 non-null   float64       \n",
            " 4   CLOSE   3329 non-null   float64       \n",
            " 5   VOL     3329 non-null   int64         \n",
            "dtypes: datetime64[ns](1), float64(4), int64(1)\n",
            "memory usage: 182.1 KB\n"
          ]
        }
      ]
    },
    {
      "cell_type": "code",
      "source": [
        "# без выбросов\n",
        "abs((data['OPEN'] - data['CLOSE']) / data['OPEN'] * 100).hist(bins=50)"
      ],
      "metadata": {
        "colab": {
          "base_uri": "https://localhost:8080/",
          "height": 447
        },
        "id": "WJeCxTLpzEy9",
        "outputId": "ee6a08c1-3248-4d4d-813b-58cc78d66760"
      },
      "id": "WJeCxTLpzEy9",
      "execution_count": 120,
      "outputs": [
        {
          "output_type": "execute_result",
          "data": {
            "text/plain": [
              "<Axes: >"
            ]
          },
          "metadata": {},
          "execution_count": 120
        },
        {
          "output_type": "display_data",
          "data": {
            "text/plain": [
              "<Figure size 640x480 with 1 Axes>"
            ],
            "image/png": "[encoded data removed]"
          },
          "metadata": {}
        }
      ]
    },
    {
      "cell_type": "markdown",
      "metadata": {
        "id": "LGsEoEzbMxzw"
      },
      "source": [
        "# Целевой признак\n",
        "\n",
        "Для задачи регрессии: предсказание цены закрытия/максимума/минимума "
      ],
      "id": "LGsEoEzbMxzw"
    },
    {
      "cell_type": "code",
      "execution_count": 93,
      "metadata": {
        "id": "eaL6KXCDMxzx",
        "colab": {
          "base_uri": "https://localhost:8080/",
          "height": 206
        },
        "outputId": "45139253-f25d-450b-aaa3-829ae228ec3c"
      },
      "outputs": [
        {
          "output_type": "execute_result",
          "data": {
            "text/plain": [
              "        DATE     OPEN     HIGH      LOW    CLOSE        VOL  TARGET_CLOSE  \\\n",
              "0 2010-01-11 86.56000 88.17000 85.51000 86.69000  148661237      85.00000   \n",
              "1 2010-01-12 86.55000 86.77000 84.90000 85.00000  130276079      86.61000   \n",
              "2 2010-01-13 84.40000 87.23000 84.10000 86.61000  128684773      87.55000   \n",
              "3 2010-01-14 87.50000 87.87000 86.75000 87.55000  111263614      88.15000   \n",
              "4 2010-01-15 87.47000 88.67000 87.16000 88.15000  142060148      90.49000   \n",
              "\n",
              "   TARGET_HIGH  TARGET_LOW  \n",
              "0     86.77000    84.90000  \n",
              "1     87.23000    84.10000  \n",
              "2     87.87000    86.75000  \n",
              "3     88.67000    87.16000  \n",
              "4     90.65000    87.79000  "
            ],
            "text/html": [
              "\n",
              "  <div id=\"df-bb5ea750-7ada-4291-ab2d-377336a888c3\">\n",
              "    <div class=\"colab-df-container\">\n",
              "      <div>\n",
              "<style scoped>\n",
              "    .dataframe tbody tr th:only-of-type {\n",
              "        vertical-align: middle;\n",
              "    }\n",
              "\n",
              "    .dataframe tbody tr th {\n",
              "        vertical-align: top;\n",
              "    }\n",
              "\n",
              "    .dataframe thead th {\n",
              "        text-align: right;\n",
              "    }\n",
              "</style>\n",
              "<table border=\"1\" class=\"dataframe\">\n",
              "  <thead>\n",
              "    <tr style=\"text-align: right;\">\n",
              "      <th></th>\n",
              "      <th>DATE</th>\n",
              "      <th>OPEN</th>\n",
              "      <th>HIGH</th>\n",
              "      <th>LOW</th>\n",
              "      <th>CLOSE</th>\n",
              "      <th>VOL</th>\n",
              "      <th>TARGET_CLOSE</th>\n",
              "      <th>TARGET_HIGH</th>\n",
              "      <th>TARGET_LOW</th>\n",
              "    </tr>\n",
              "  </thead>\n",
              "  <tbody>\n",
              "    <tr>\n",
              "      <th>0</th>\n",
              "      <td>2010-01-11</td>\n",
              "      <td>86.56000</td>\n",
              "      <td>88.17000</td>\n",
              "      <td>85.51000</td>\n",
              "      <td>86.69000</td>\n",
              "      <td>148661237</td>\n",
              "      <td>85.00000</td>\n",
              "      <td>86.77000</td>\n",
              "      <td>84.90000</td>\n",
              "    </tr>\n",
              "    <tr>\n",
              "      <th>1</th>\n",
              "      <td>2010-01-12</td>\n",
              "      <td>86.55000</td>\n",
              "      <td>86.77000</td>\n",
              "      <td>84.90000</td>\n",
              "      <td>85.00000</td>\n",
              "      <td>130276079</td>\n",
              "      <td>86.61000</td>\n",
              "      <td>87.23000</td>\n",
              "      <td>84.10000</td>\n",
              "    </tr>\n",
              "    <tr>\n",
              "      <th>2</th>\n",
              "      <td>2010-01-13</td>\n",
              "      <td>84.40000</td>\n",
              "      <td>87.23000</td>\n",
              "      <td>84.10000</td>\n",
              "      <td>86.61000</td>\n",
              "      <td>128684773</td>\n",
              "      <td>87.55000</td>\n",
              "      <td>87.87000</td>\n",
              "      <td>86.75000</td>\n",
              "    </tr>\n",
              "    <tr>\n",
              "      <th>3</th>\n",
              "      <td>2010-01-14</td>\n",
              "      <td>87.50000</td>\n",
              "      <td>87.87000</td>\n",
              "      <td>86.75000</td>\n",
              "      <td>87.55000</td>\n",
              "      <td>111263614</td>\n",
              "      <td>88.15000</td>\n",
              "      <td>88.67000</td>\n",
              "      <td>87.16000</td>\n",
              "    </tr>\n",
              "    <tr>\n",
              "      <th>4</th>\n",
              "      <td>2010-01-15</td>\n",
              "      <td>87.47000</td>\n",
              "      <td>88.67000</td>\n",
              "      <td>87.16000</td>\n",
              "      <td>88.15000</td>\n",
              "      <td>142060148</td>\n",
              "      <td>90.49000</td>\n",
              "      <td>90.65000</td>\n",
              "      <td>87.79000</td>\n",
              "    </tr>\n",
              "  </tbody>\n",
              "</table>\n",
              "</div>\n",
              "      <button class=\"colab-df-convert\" onclick=\"convertToInteractive('df-bb5ea750-7ada-4291-ab2d-377336a888c3')\"\n",
              "              title=\"Convert this dataframe to an interactive table.\"\n",
              "              style=\"display:none;\">\n",
              "        \n",
              "  <svg xmlns=\"http://www.w3.org/2000/svg\" height=\"24px\"viewBox=\"0 0 24 24\"\n",
              "       width=\"24px\">\n",
              "    <path d=\"M0 0h24v24H0V0z\" fill=\"none\"/>\n",
              "    <path d=\"M18.56 5.44l.94 2.06.94-2.06 2.06-.94-2.06-.94-.94-2.06-.94 2.06-2.06.94zm-11 1L8.5 8.5l.94-2.06 2.06-.94-2.06-.94L8.5 2.5l-.94 2.06-2.06.94zm10 10l.94 2.06.94-2.06 2.06-.94-2.06-.94-.94-2.06-.94 2.06-2.06.94z\"/><path d=\"M17.41 7.96l-1.37-1.37c-.4-.4-.92-.59-1.43-.59-.52 0-1.04.2-1.43.59L10.3 9.45l-7.72 7.72c-.78.78-.78 2.05 0 2.83L4 21.41c.39.39.9.59 1.41.59.51 0 1.02-.2 1.41-.59l7.78-7.78 2.81-2.81c.8-.78.8-2.07 0-2.86zM5.41 20L4 18.59l7.72-7.72 1.47 1.35L5.41 20z\"/>\n",
              "  </svg>\n",
              "      </button>\n",
              "      \n",
              "  <style>\n",
              "    .colab-df-container {\n",
              "      display:flex;\n",
              "      flex-wrap:wrap;\n",
              "      gap: 12px;\n",
              "    }\n",
              "\n",
              "    .colab-df-convert {\n",
              "      background-color: #E8F0FE;\n",
              "      border: none;\n",
              "      border-radius: 50%;\n",
              "      cursor: pointer;\n",
              "      display: none;\n",
              "      fill: #1967D2;\n",
              "      height: 32px;\n",
              "      padding: 0 0 0 0;\n",
              "      width: 32px;\n",
              "    }\n",
              "\n",
              "    .colab-df-convert:hover {\n",
              "      background-color: #E2EBFA;\n",
              "      box-shadow: 0px 1px 2px rgba(60, 64, 67, 0.3), 0px 1px 3px 1px rgba(60, 64, 67, 0.15);\n",
              "      fill: #174EA6;\n",
              "    }\n",
              "\n",
              "    [theme=dark] .colab-df-convert {\n",
              "      background-color: #3B4455;\n",
              "      fill: #D2E3FC;\n",
              "    }\n",
              "\n",
              "    [theme=dark] .colab-df-convert:hover {\n",
              "      background-color: #434B5C;\n",
              "      box-shadow: 0px 1px 3px 1px rgba(0, 0, 0, 0.15);\n",
              "      filter: drop-shadow(0px 1px 2px rgba(0, 0, 0, 0.3));\n",
              "      fill: #FFFFFF;\n",
              "    }\n",
              "  </style>\n",
              "\n",
              "      <script>\n",
              "        const buttonEl =\n",
              "          document.querySelector('#df-bb5ea750-7ada-4291-ab2d-377336a888c3 button.colab-df-convert');\n",
              "        buttonEl.style.display =\n",
              "          google.colab.kernel.accessAllowed ? 'block' : 'none';\n",
              "\n",
              "        async function convertToInteractive(key) {\n",
              "          const element = document.querySelector('#df-bb5ea750-7ada-4291-ab2d-377336a888c3');\n",
              "          const dataTable =\n",
              "            await google.colab.kernel.invokeFunction('convertToInteractive',\n",
              "                                                     [key], {});\n",
              "          if (!dataTable) return;\n",
              "\n",
              "          const docLinkHtml = 'Like what you see? Visit the ' +\n",
              "            '<a target=\"_blank\" href=https://colab.research.google.com/notebooks/data_table.ipynb>data table notebook</a>'\n",
              "            + ' to learn more about interactive tables.';\n",
              "          element.innerHTML = '';\n",
              "          dataTable['output_type'] = 'display_data';\n",
              "          await google.colab.output.renderOutput(dataTable, element);\n",
              "          const docLink = document.createElement('div');\n",
              "          docLink.innerHTML = docLinkHtml;\n",
              "          element.appendChild(docLink);\n",
              "        }\n",
              "      </script>\n",
              "    </div>\n",
              "  </div>\n",
              "  "
            ]
          },
          "metadata": {},
          "execution_count": 93
        }
      ],
      "source": [
        "# целевой признак для регресии - это цена закрытия/максимум/минимум дня\n",
        "# добавим его смещением признака с ценой закрытия вверх на единицу\n",
        "data['TARGET_CLOSE'] = data['CLOSE'].shift(-1)\n",
        "data['TARGET_HIGH'] = data['HIGH'].shift(-1)\n",
        "data['TARGET_LOW'] = data['LOW'].shift(-1)\n",
        "data.head(5)"
      ],
      "id": "eaL6KXCDMxzx"
    },
    {
      "cell_type": "code",
      "execution_count": 94,
      "metadata": {
        "id": "P6Z764MgMxzy"
      },
      "outputs": [],
      "source": [
        "# избавимся от nan-ов\n",
        "data = data.dropna()"
      ],
      "id": "P6Z764MgMxzy"
    },
    {
      "cell_type": "markdown",
      "source": [
        "# Решение \"в лоб\""
      ],
      "metadata": {
        "id": "pGDw71QINH4C"
      },
      "id": "pGDw71QINH4C"
    },
    {
      "cell_type": "code",
      "source": [
        "# предикторы\n",
        "X = data.drop(columns=['DATE', 'TARGET_CLOSE', 'TARGET_HIGH', 'TARGET_LOW'])\n",
        "# целевой признак\n",
        "y = data['TARGET_CLOSE']\n",
        "\n",
        "# разделим на трейн и тест без перемешивания\n",
        "# учимся на более ранних данных, тестируем на более поздних\n",
        "X_train, X_test, y_train, y_test = train_test_split(X, y, test_size=0.3, shuffle=False)"
      ],
      "metadata": {
        "id": "x6fNpUOAV3yk"
      },
      "id": "x6fNpUOAV3yk",
      "execution_count": 95,
      "outputs": []
    },
    {
      "cell_type": "markdown",
      "source": [
        "Bозмем несколько моделей регресии и обучим их с параметрами по умолчению. В качестве метрики будем использовать MAPE – среднюю абсолютную ошибку в процентах."
      ],
      "metadata": {
        "id": "Bcz2IurVftO5"
      },
      "id": "Bcz2IurVftO5"
    },
    {
      "cell_type": "code",
      "source": [
        "reg_models = [\n",
        "        LinearRegression(),\n",
        "        Lasso(),\n",
        "        LGBMRegressor(random_state=10),\n",
        "        KernelRidge(),\n",
        "        ElasticNet(random_state=10),\n",
        "        BayesianRidge(),\n",
        "        GradientBoostingRegressor(random_state=10),\n",
        "        SVR(),\n",
        "        RandomForestRegressor(random_state=10)\n",
        "        ]"
      ],
      "metadata": {
        "id": "CR22SkUkfiEB"
      },
      "id": "CR22SkUkfiEB",
      "execution_count": 96,
      "outputs": []
    },
    {
      "cell_type": "code",
      "source": [
        "# для записи метрик качества моделей\n",
        "reg_models_metrics = pd.DataFrame(columns=['model', 'mape'])\n",
        "\n",
        "for i, model in enumerate(reg_models):\n",
        "    print(model, end = '..........')\n",
        "    model.fit(X_train, y_train)\n",
        "    y_pred = model.predict(X_test)    \n",
        "    mape_ = mape(y_test, y_pred)\n",
        "    reg_models_metrics.loc[len(reg_models_metrics.index)] = [model, mape_]\n",
        "    print('Ok')\n",
        "\n",
        "reg_models_metrics "
      ],
      "metadata": {
        "colab": {
          "base_uri": "https://localhost:8080/",
          "height": 612
        },
        "id": "Bey7vXJgf34c",
        "outputId": "5a8fe39c-f5e9-4bd0-9ed7-3fbffad55ff5"
      },
      "id": "Bey7vXJgf34c",
      "execution_count": 97,
      "outputs": [
        {
          "output_type": "stream",
          "name": "stdout",
          "text": [
            "LinearRegression()..........Ok\n",
            "Lasso()..........Ok\n",
            "LGBMRegressor(random_state=10).........."
          ]
        },
        {
          "output_type": "stream",
          "name": "stderr",
          "text": [
            "/usr/local/lib/python3.10/dist-packages/sklearn/linear_model/_coordinate_descent.py:631: ConvergenceWarning: Objective did not converge. You might want to increase the number of iterations, check the scale of the features or consider increasing regularisation. Duality gap: 1.043e+03, tolerance: 6.097e+02\n",
            "  model = cd_fast.enet_coordinate_descent(\n"
          ]
        },
        {
          "output_type": "stream",
          "name": "stdout",
          "text": [
            "Ok\n",
            "KernelRidge().........."
          ]
        },
        {
          "output_type": "stream",
          "name": "stderr",
          "text": [
            "/usr/local/lib/python3.10/dist-packages/sklearn/linear_model/_ridge.py:255: UserWarning: Singular matrix in solving dual problem. Using least-squares solution instead.\n",
            "  warnings.warn(\n"
          ]
        },
        {
          "output_type": "stream",
          "name": "stdout",
          "text": [
            "Ok\n",
            "ElasticNet(random_state=10)..........Ok\n",
            "BayesianRidge()..........Ok\n",
            "GradientBoostingRegressor(random_state=10).........."
          ]
        },
        {
          "output_type": "stream",
          "name": "stderr",
          "text": [
            "/usr/local/lib/python3.10/dist-packages/sklearn/linear_model/_coordinate_descent.py:631: ConvergenceWarning: Objective did not converge. You might want to increase the number of iterations, check the scale of the features or consider increasing regularisation. Duality gap: 2.162e+03, tolerance: 6.097e+02\n",
            "  model = cd_fast.enet_coordinate_descent(\n"
          ]
        },
        {
          "output_type": "stream",
          "name": "stdout",
          "text": [
            "Ok\n",
            "SVR()..........Ok\n",
            "RandomForestRegressor(random_state=10)..........Ok\n"
          ]
        },
        {
          "output_type": "execute_result",
          "data": {
            "text/plain": [
              "                                               model    mape\n",
              "0                                 LinearRegression() 0.01574\n",
              "1                                            Lasso() 0.01585\n",
              "2                     LGBMRegressor(random_state=10) 0.04488\n",
              "3                                      KernelRidge() 0.01694\n",
              "4                        ElasticNet(random_state=10) 0.01587\n",
              "5                                    BayesianRidge() 0.01573\n",
              "6  ([DecisionTreeRegressor(criterion='friedman_ms... 0.04147\n",
              "7                                              SVR() 0.39118\n",
              "8  (DecisionTreeRegressor(max_features=1.0, rando... 0.04154"
            ],
            "text/html": [
              "\n",
              "  <div id=\"df-2cb1ff79-bb96-4ca6-a515-ff046d45e2f6\">\n",
              "    <div class=\"colab-df-container\">\n",
              "      <div>\n",
              "<style scoped>\n",
              "    .dataframe tbody tr th:only-of-type {\n",
              "        vertical-align: middle;\n",
              "    }\n",
              "\n",
              "    .dataframe tbody tr th {\n",
              "        vertical-align: top;\n",
              "    }\n",
              "\n",
              "    .dataframe thead th {\n",
              "        text-align: right;\n",
              "    }\n",
              "</style>\n",
              "<table border=\"1\" class=\"dataframe\">\n",
              "  <thead>\n",
              "    <tr style=\"text-align: right;\">\n",
              "      <th></th>\n",
              "      <th>model</th>\n",
              "      <th>mape</th>\n",
              "    </tr>\n",
              "  </thead>\n",
              "  <tbody>\n",
              "    <tr>\n",
              "      <th>0</th>\n",
              "      <td>LinearRegression()</td>\n",
              "      <td>0.01574</td>\n",
              "    </tr>\n",
              "    <tr>\n",
              "      <th>1</th>\n",
              "      <td>Lasso()</td>\n",
              "      <td>0.01585</td>\n",
              "    </tr>\n",
              "    <tr>\n",
              "      <th>2</th>\n",
              "      <td>LGBMRegressor(random_state=10)</td>\n",
              "      <td>0.04488</td>\n",
              "    </tr>\n",
              "    <tr>\n",
              "      <th>3</th>\n",
              "      <td>KernelRidge()</td>\n",
              "      <td>0.01694</td>\n",
              "    </tr>\n",
              "    <tr>\n",
              "      <th>4</th>\n",
              "      <td>ElasticNet(random_state=10)</td>\n",
              "      <td>0.01587</td>\n",
              "    </tr>\n",
              "    <tr>\n",
              "      <th>5</th>\n",
              "      <td>BayesianRidge()</td>\n",
              "      <td>0.01573</td>\n",
              "    </tr>\n",
              "    <tr>\n",
              "      <th>6</th>\n",
              "      <td>([DecisionTreeRegressor(criterion='friedman_ms...</td>\n",
              "      <td>0.04147</td>\n",
              "    </tr>\n",
              "    <tr>\n",
              "      <th>7</th>\n",
              "      <td>SVR()</td>\n",
              "      <td>0.39118</td>\n",
              "    </tr>\n",
              "    <tr>\n",
              "      <th>8</th>\n",
              "      <td>(DecisionTreeRegressor(max_features=1.0, rando...</td>\n",
              "      <td>0.04154</td>\n",
              "    </tr>\n",
              "  </tbody>\n",
              "</table>\n",
              "</div>\n",
              "      <button class=\"colab-df-convert\" onclick=\"convertToInteractive('df-2cb1ff79-bb96-4ca6-a515-ff046d45e2f6')\"\n",
              "              title=\"Convert this dataframe to an interactive table.\"\n",
              "              style=\"display:none;\">\n",
              "        \n",
              "  <svg xmlns=\"http://www.w3.org/2000/svg\" height=\"24px\"viewBox=\"0 0 24 24\"\n",
              "       width=\"24px\">\n",
              "    <path d=\"M0 0h24v24H0V0z\" fill=\"none\"/>\n",
              "    <path d=\"M18.56 5.44l.94 2.06.94-2.06 2.06-.94-2.06-.94-.94-2.06-.94 2.06-2.06.94zm-11 1L8.5 8.5l.94-2.06 2.06-.94-2.06-.94L8.5 2.5l-.94 2.06-2.06.94zm10 10l.94 2.06.94-2.06 2.06-.94-2.06-.94-.94-2.06-.94 2.06-2.06.94z\"/><path d=\"M17.41 7.96l-1.37-1.37c-.4-.4-.92-.59-1.43-.59-.52 0-1.04.2-1.43.59L10.3 9.45l-7.72 7.72c-.78.78-.78 2.05 0 2.83L4 21.41c.39.39.9.59 1.41.59.51 0 1.02-.2 1.41-.59l7.78-7.78 2.81-2.81c.8-.78.8-2.07 0-2.86zM5.41 20L4 18.59l7.72-7.72 1.47 1.35L5.41 20z\"/>\n",
              "  </svg>\n",
              "      </button>\n",
              "      \n",
              "  <style>\n",
              "    .colab-df-container {\n",
              "      display:flex;\n",
              "      flex-wrap:wrap;\n",
              "      gap: 12px;\n",
              "    }\n",
              "\n",
              "    .colab-df-convert {\n",
              "      background-color: #E8F0FE;\n",
              "      border: none;\n",
              "      border-radius: 50%;\n",
              "      cursor: pointer;\n",
              "      display: none;\n",
              "      fill: #1967D2;\n",
              "      height: 32px;\n",
              "      padding: 0 0 0 0;\n",
              "      width: 32px;\n",
              "    }\n",
              "\n",
              "    .colab-df-convert:hover {\n",
              "      background-color: #E2EBFA;\n",
              "      box-shadow: 0px 1px 2px rgba(60, 64, 67, 0.3), 0px 1px 3px 1px rgba(60, 64, 67, 0.15);\n",
              "      fill: #174EA6;\n",
              "    }\n",
              "\n",
              "    [theme=dark] .colab-df-convert {\n",
              "      background-color: #3B4455;\n",
              "      fill: #D2E3FC;\n",
              "    }\n",
              "\n",
              "    [theme=dark] .colab-df-convert:hover {\n",
              "      background-color: #434B5C;\n",
              "      box-shadow: 0px 1px 3px 1px rgba(0, 0, 0, 0.15);\n",
              "      filter: drop-shadow(0px 1px 2px rgba(0, 0, 0, 0.3));\n",
              "      fill: #FFFFFF;\n",
              "    }\n",
              "  </style>\n",
              "\n",
              "      <script>\n",
              "        const buttonEl =\n",
              "          document.querySelector('#df-2cb1ff79-bb96-4ca6-a515-ff046d45e2f6 button.colab-df-convert');\n",
              "        buttonEl.style.display =\n",
              "          google.colab.kernel.accessAllowed ? 'block' : 'none';\n",
              "\n",
              "        async function convertToInteractive(key) {\n",
              "          const element = document.querySelector('#df-2cb1ff79-bb96-4ca6-a515-ff046d45e2f6');\n",
              "          const dataTable =\n",
              "            await google.colab.kernel.invokeFunction('convertToInteractive',\n",
              "                                                     [key], {});\n",
              "          if (!dataTable) return;\n",
              "\n",
              "          const docLinkHtml = 'Like what you see? Visit the ' +\n",
              "            '<a target=\"_blank\" href=https://colab.research.google.com/notebooks/data_table.ipynb>data table notebook</a>'\n",
              "            + ' to learn more about interactive tables.';\n",
              "          element.innerHTML = '';\n",
              "          dataTable['output_type'] = 'display_data';\n",
              "          await google.colab.output.renderOutput(dataTable, element);\n",
              "          const docLink = document.createElement('div');\n",
              "          docLink.innerHTML = docLinkHtml;\n",
              "          element.appendChild(docLink);\n",
              "        }\n",
              "      </script>\n",
              "    </div>\n",
              "  </div>\n",
              "  "
            ]
          },
          "metadata": {},
          "execution_count": 97
        }
      ]
    },
    {
      "cell_type": "markdown",
      "source": [
        "Несколько моделей показывают похожие результаты - MAPE около 1,6-1,7%. Это соответсвует среднему ходу цены на акции за день. Поэтому такое предсказание не несет особого смысла."
      ],
      "metadata": {
        "id": "TaVgaCsy_RPF"
      },
      "id": "TaVgaCsy_RPF"
    },
    {
      "cell_type": "markdown",
      "metadata": {
        "id": "xLOiB-6zMxzv"
      },
      "source": [
        "# Feature engineering\n",
        "\n",
        "На основе имеющихся признаков придумаем новые и попробуем добавить их в модель. Добавим признаки:\n",
        "- основанные на дате (день недели, месяц)\n",
        "- основанные на ценах (разность между открытием и закрытием, между максимум и минимуом дня)\n",
        "- прошлые значения цены. \n",
        "\n",
        "Также добавим в признаки цену сегодняшнего открытия и будем делать предсказание уже после открытия рынка."
      ],
      "id": "xLOiB-6zMxzv"
    },
    {
      "cell_type": "code",
      "execution_count": 98,
      "metadata": {
        "id": "qzjl9j97Mxzv"
      },
      "outputs": [],
      "source": [
        "def features(data):\n",
        "\n",
        "    # день недели\n",
        "    data['DAY_OF_WEEK'] = data['DATE'].dt.dayofweek\n",
        "\n",
        "    # месяц\n",
        "    data['MONTH'] = data['DATE'].dt.month\n",
        "    \n",
        "    # разность между ценой открытия и закрытия\n",
        "    data['DIF_O_C'] = data['OPEN'] - data['CLOSE']\n",
        "    \n",
        "    # разность между максимальной и минимальной ценой\n",
        "    data['DIF_H_L'] = data['HIGH'] - data['LOW']\n",
        "\n",
        "    # средние цены закрытия за ... дней\n",
        "    data['MEAN_2'] = data['CLOSE'].rolling(window=2, center=False).mean()\n",
        "    data['MEAN_3'] = data['CLOSE'].rolling(window=3, center=False).mean()\n",
        "    data['MEAN_4'] = data['CLOSE'].rolling(window=4, center=False).mean()\n",
        "    data['MEAN_5'] = data['CLOSE'].rolling(window=5, center=False).mean()\n",
        "\n",
        "    # максимальные цены за ... дней\n",
        "    data['HIGH_2'] = data['HIGH'].rolling(window=2, center=False).max()\n",
        "    data['HIGH_3'] = data['HIGH'].rolling(window=3, center=False).max()\n",
        "    data['HIGH_4'] = data['HIGH'].rolling(window=4, center=False).max()\n",
        "    data['HIGH_5'] = data['HIGH'].rolling(window=5, center=False).max()\n",
        "\n",
        "    # минимальные цены за ... дней\n",
        "    data['LOW_2'] = data['LOW'].rolling(window=2, center=False).min()\n",
        "    data['LOW_3'] = data['LOW'].rolling(window=3, center=False).min()\n",
        "    data['LOW_4'] = data['LOW'].rolling(window=4, center=False).min()\n",
        "    data['LOW_5'] = data['LOW'].rolling(window=5, center=False).min()\n",
        "    \n",
        "    # цены и объем за прошлые дни\n",
        "    data[['OPEN_LAG_1', 'HIGH_LAG_1', 'LOW_LAG_1', 'CLOSE_LAG_1', 'VOL_LAG_1']] = data[['OPEN', 'HIGH', 'LOW', 'CLOSE', 'VOL']].shift(1)\n",
        "    data[['OPEN_LAG_2', 'HIGH_LAG_2', 'LOW_LAG_2', 'CLOSE_LAG_2', 'VOL_LAG_2']] = data[['OPEN', 'HIGH', 'LOW', 'CLOSE', 'VOL']].shift(2)\n",
        "    data[['OPEN_LAG_3', 'HIGH_LAG_3', 'LOW_LAG_3', 'CLOSE_LAG_3', 'VOL_LAG_3']] = data[['OPEN', 'HIGH', 'LOW', 'CLOSE', 'VOL']].shift(3)\n",
        "    data[['OPEN_LAG_4', 'HIGH_LAG_4', 'LOW_LAG_4', 'CLOSE_LAG_4', 'VOL_LAG_4']] = data[['OPEN', 'HIGH', 'LOW', 'CLOSE', 'VOL']].shift(4)\n",
        "    data[['OPEN_LAG_5', 'HIGH_LAG_5', 'LOW_LAG_5', 'CLOSE_LAG_5', 'VOL_LAG_5']] = data[['OPEN', 'HIGH', 'LOW', 'CLOSE', 'VOL']].shift(5)\n",
        "\n",
        "  \n",
        "    # цена открытия сегодня\n",
        "    data['OPEN_TODAY'] = data['OPEN'].shift(-1)\n",
        "\n",
        "    data.dropna(inplace=True)\n",
        "\n",
        "    return pd.get_dummies(data, columns=['DAY_OF_WEEK', 'MONTH'], prefix=['DAY_OF_WEEK', 'MONTH'])"
      ],
      "id": "qzjl9j97Mxzv"
    },
    {
      "cell_type": "code",
      "execution_count": 99,
      "metadata": {
        "id": "cwVCgWzOMxzw",
        "colab": {
          "base_uri": "https://localhost:8080/",
          "height": 386
        },
        "outputId": "2dbbfa3a-cf0f-4451-ce33-730d5a630988"
      },
      "outputs": [
        {
          "output_type": "execute_result",
          "data": {
            "text/plain": [
              "        DATE     OPEN     HIGH      LOW    CLOSE        VOL  TARGET_CLOSE  \\\n",
              "5 2010-01-18 87.86000 90.65000 87.79000 90.49000  179399350      92.02000   \n",
              "6 2010-01-19 90.52000 92.20000 88.80000 92.02000  268915291      90.62000   \n",
              "7 2010-01-20 92.02000 92.49000 90.42000 90.62000  220273259      89.18000   \n",
              "8 2010-01-21 91.26000 91.65000 88.92000 89.18000  219353508      86.50000   \n",
              "9 2010-01-22 88.46000 89.06000 85.75000 86.50000  221223200      88.07000   \n",
              "\n",
              "   TARGET_HIGH  TARGET_LOW  DIF_O_C  ...  MONTH_3  MONTH_4  MONTH_5  MONTH_6  \\\n",
              "5     92.20000    88.80000 -2.63000  ...        0        0        0        0   \n",
              "6     92.49000    90.42000 -1.50000  ...        0        0        0        0   \n",
              "7     91.65000    88.92000  1.40000  ...        0        0        0        0   \n",
              "8     89.06000    85.75000  2.08000  ...        0        0        0        0   \n",
              "9     88.80000    85.33000  1.96000  ...        0        0        0        0   \n",
              "\n",
              "   MONTH_7  MONTH_8  MONTH_9  MONTH_10  MONTH_11  MONTH_12  \n",
              "5        0        0        0         0         0         0  \n",
              "6        0        0        0         0         0         0  \n",
              "7        0        0        0         0         0         0  \n",
              "8        0        0        0         0         0         0  \n",
              "9        0        0        0         0         0         0  \n",
              "\n",
              "[5 rows x 68 columns]"
            ],
            "text/html": [
              "\n",
              "  <div id=\"df-f1e4e2fe-62ea-43a8-a463-c94ce601bde9\">\n",
              "    <div class=\"colab-df-container\">\n",
              "      <div>\n",
              "<style scoped>\n",
              "    .dataframe tbody tr th:only-of-type {\n",
              "        vertical-align: middle;\n",
              "    }\n",
              "\n",
              "    .dataframe tbody tr th {\n",
              "        vertical-align: top;\n",
              "    }\n",
              "\n",
              "    .dataframe thead th {\n",
              "        text-align: right;\n",
              "    }\n",
              "</style>\n",
              "<table border=\"1\" class=\"dataframe\">\n",
              "  <thead>\n",
              "    <tr style=\"text-align: right;\">\n",
              "      <th></th>\n",
              "      <th>DATE</th>\n",
              "      <th>OPEN</th>\n",
              "      <th>HIGH</th>\n",
              "      <th>LOW</th>\n",
              "      <th>CLOSE</th>\n",
              "      <th>VOL</th>\n",
              "      <th>TARGET_CLOSE</th>\n",
              "      <th>TARGET_HIGH</th>\n",
              "      <th>TARGET_LOW</th>\n",
              "      <th>DIF_O_C</th>\n",
              "      <th>...</th>\n",
              "      <th>MONTH_3</th>\n",
              "      <th>MONTH_4</th>\n",
              "      <th>MONTH_5</th>\n",
              "      <th>MONTH_6</th>\n",
              "      <th>MONTH_7</th>\n",
              "      <th>MONTH_8</th>\n",
              "      <th>MONTH_9</th>\n",
              "      <th>MONTH_10</th>\n",
              "      <th>MONTH_11</th>\n",
              "      <th>MONTH_12</th>\n",
              "    </tr>\n",
              "  </thead>\n",
              "  <tbody>\n",
              "    <tr>\n",
              "      <th>5</th>\n",
              "      <td>2010-01-18</td>\n",
              "      <td>87.86000</td>\n",
              "      <td>90.65000</td>\n",
              "      <td>87.79000</td>\n",
              "      <td>90.49000</td>\n",
              "      <td>179399350</td>\n",
              "      <td>92.02000</td>\n",
              "      <td>92.20000</td>\n",
              "      <td>88.80000</td>\n",
              "      <td>-2.63000</td>\n",
              "      <td>...</td>\n",
              "      <td>0</td>\n",
              "      <td>0</td>\n",
              "      <td>0</td>\n",
              "      <td>0</td>\n",
              "      <td>0</td>\n",
              "      <td>0</td>\n",
              "      <td>0</td>\n",
              "      <td>0</td>\n",
              "      <td>0</td>\n",
              "      <td>0</td>\n",
              "    </tr>\n",
              "    <tr>\n",
              "      <th>6</th>\n",
              "      <td>2010-01-19</td>\n",
              "      <td>90.52000</td>\n",
              "      <td>92.20000</td>\n",
              "      <td>88.80000</td>\n",
              "      <td>92.02000</td>\n",
              "      <td>268915291</td>\n",
              "      <td>90.62000</td>\n",
              "      <td>92.49000</td>\n",
              "      <td>90.42000</td>\n",
              "      <td>-1.50000</td>\n",
              "      <td>...</td>\n",
              "      <td>0</td>\n",
              "      <td>0</td>\n",
              "      <td>0</td>\n",
              "      <td>0</td>\n",
              "      <td>0</td>\n",
              "      <td>0</td>\n",
              "      <td>0</td>\n",
              "      <td>0</td>\n",
              "      <td>0</td>\n",
              "      <td>0</td>\n",
              "    </tr>\n",
              "    <tr>\n",
              "      <th>7</th>\n",
              "      <td>2010-01-20</td>\n",
              "      <td>92.02000</td>\n",
              "      <td>92.49000</td>\n",
              "      <td>90.42000</td>\n",
              "      <td>90.62000</td>\n",
              "      <td>220273259</td>\n",
              "      <td>89.18000</td>\n",
              "      <td>91.65000</td>\n",
              "      <td>88.92000</td>\n",
              "      <td>1.40000</td>\n",
              "      <td>...</td>\n",
              "      <td>0</td>\n",
              "      <td>0</td>\n",
              "      <td>0</td>\n",
              "      <td>0</td>\n",
              "      <td>0</td>\n",
              "      <td>0</td>\n",
              "      <td>0</td>\n",
              "      <td>0</td>\n",
              "      <td>0</td>\n",
              "      <td>0</td>\n",
              "    </tr>\n",
              "    <tr>\n",
              "      <th>8</th>\n",
              "      <td>2010-01-21</td>\n",
              "      <td>91.26000</td>\n",
              "      <td>91.65000</td>\n",
              "      <td>88.92000</td>\n",
              "      <td>89.18000</td>\n",
              "      <td>219353508</td>\n",
              "      <td>86.50000</td>\n",
              "      <td>89.06000</td>\n",
              "      <td>85.75000</td>\n",
              "      <td>2.08000</td>\n",
              "      <td>...</td>\n",
              "      <td>0</td>\n",
              "      <td>0</td>\n",
              "      <td>0</td>\n",
              "      <td>0</td>\n",
              "      <td>0</td>\n",
              "      <td>0</td>\n",
              "      <td>0</td>\n",
              "      <td>0</td>\n",
              "      <td>0</td>\n",
              "      <td>0</td>\n",
              "    </tr>\n",
              "    <tr>\n",
              "      <th>9</th>\n",
              "      <td>2010-01-22</td>\n",
              "      <td>88.46000</td>\n",
              "      <td>89.06000</td>\n",
              "      <td>85.75000</td>\n",
              "      <td>86.50000</td>\n",
              "      <td>221223200</td>\n",
              "      <td>88.07000</td>\n",
              "      <td>88.80000</td>\n",
              "      <td>85.33000</td>\n",
              "      <td>1.96000</td>\n",
              "      <td>...</td>\n",
              "      <td>0</td>\n",
              "      <td>0</td>\n",
              "      <td>0</td>\n",
              "      <td>0</td>\n",
              "      <td>0</td>\n",
              "      <td>0</td>\n",
              "      <td>0</td>\n",
              "      <td>0</td>\n",
              "      <td>0</td>\n",
              "      <td>0</td>\n",
              "    </tr>\n",
              "  </tbody>\n",
              "</table>\n",
              "<p>5 rows × 68 columns</p>\n",
              "</div>\n",
              "      <button class=\"colab-df-convert\" onclick=\"convertToInteractive('df-f1e4e2fe-62ea-43a8-a463-c94ce601bde9')\"\n",
              "              title=\"Convert this dataframe to an interactive table.\"\n",
              "              style=\"display:none;\">\n",
              "        \n",
              "  <svg xmlns=\"http://www.w3.org/2000/svg\" height=\"24px\"viewBox=\"0 0 24 24\"\n",
              "       width=\"24px\">\n",
              "    <path d=\"M0 0h24v24H0V0z\" fill=\"none\"/>\n",
              "    <path d=\"M18.56 5.44l.94 2.06.94-2.06 2.06-.94-2.06-.94-.94-2.06-.94 2.06-2.06.94zm-11 1L8.5 8.5l.94-2.06 2.06-.94-2.06-.94L8.5 2.5l-.94 2.06-2.06.94zm10 10l.94 2.06.94-2.06 2.06-.94-2.06-.94-.94-2.06-.94 2.06-2.06.94z\"/><path d=\"M17.41 7.96l-1.37-1.37c-.4-.4-.92-.59-1.43-.59-.52 0-1.04.2-1.43.59L10.3 9.45l-7.72 7.72c-.78.78-.78 2.05 0 2.83L4 21.41c.39.39.9.59 1.41.59.51 0 1.02-.2 1.41-.59l7.78-7.78 2.81-2.81c.8-.78.8-2.07 0-2.86zM5.41 20L4 18.59l7.72-7.72 1.47 1.35L5.41 20z\"/>\n",
              "  </svg>\n",
              "      </button>\n",
              "      \n",
              "  <style>\n",
              "    .colab-df-container {\n",
              "      display:flex;\n",
              "      flex-wrap:wrap;\n",
              "      gap: 12px;\n",
              "    }\n",
              "\n",
              "    .colab-df-convert {\n",
              "      background-color: #E8F0FE;\n",
              "      border: none;\n",
              "      border-radius: 50%;\n",
              "      cursor: pointer;\n",
              "      display: none;\n",
              "      fill: #1967D2;\n",
              "      height: 32px;\n",
              "      padding: 0 0 0 0;\n",
              "      width: 32px;\n",
              "    }\n",
              "\n",
              "    .colab-df-convert:hover {\n",
              "      background-color: #E2EBFA;\n",
              "      box-shadow: 0px 1px 2px rgba(60, 64, 67, 0.3), 0px 1px 3px 1px rgba(60, 64, 67, 0.15);\n",
              "      fill: #174EA6;\n",
              "    }\n",
              "\n",
              "    [theme=dark] .colab-df-convert {\n",
              "      background-color: #3B4455;\n",
              "      fill: #D2E3FC;\n",
              "    }\n",
              "\n",
              "    [theme=dark] .colab-df-convert:hover {\n",
              "      background-color: #434B5C;\n",
              "      box-shadow: 0px 1px 3px 1px rgba(0, 0, 0, 0.15);\n",
              "      filter: drop-shadow(0px 1px 2px rgba(0, 0, 0, 0.3));\n",
              "      fill: #FFFFFF;\n",
              "    }\n",
              "  </style>\n",
              "\n",
              "      <script>\n",
              "        const buttonEl =\n",
              "          document.querySelector('#df-f1e4e2fe-62ea-43a8-a463-c94ce601bde9 button.colab-df-convert');\n",
              "        buttonEl.style.display =\n",
              "          google.colab.kernel.accessAllowed ? 'block' : 'none';\n",
              "\n",
              "        async function convertToInteractive(key) {\n",
              "          const element = document.querySelector('#df-f1e4e2fe-62ea-43a8-a463-c94ce601bde9');\n",
              "          const dataTable =\n",
              "            await google.colab.kernel.invokeFunction('convertToInteractive',\n",
              "                                                     [key], {});\n",
              "          if (!dataTable) return;\n",
              "\n",
              "          const docLinkHtml = 'Like what you see? Visit the ' +\n",
              "            '<a target=\"_blank\" href=https://colab.research.google.com/notebooks/data_table.ipynb>data table notebook</a>'\n",
              "            + ' to learn more about interactive tables.';\n",
              "          element.innerHTML = '';\n",
              "          dataTable['output_type'] = 'display_data';\n",
              "          await google.colab.output.renderOutput(dataTable, element);\n",
              "          const docLink = document.createElement('div');\n",
              "          docLink.innerHTML = docLinkHtml;\n",
              "          element.appendChild(docLink);\n",
              "        }\n",
              "      </script>\n",
              "    </div>\n",
              "  </div>\n",
              "  "
            ]
          },
          "metadata": {},
          "execution_count": 99
        }
      ],
      "source": [
        "data1 = features(data.copy())\n",
        "data1.head()"
      ],
      "id": "cwVCgWzOMxzw"
    },
    {
      "cell_type": "markdown",
      "source": [
        "# Feature Selection\n",
        "Посмотрим какие из признаков имеют наибольший вес и, в зависимости от этого, отберем наиболее подходящие."
      ],
      "metadata": {
        "id": "Utckah3gX3ih"
      },
      "id": "Utckah3gX3ih"
    },
    {
      "cell_type": "code",
      "source": [
        "fs = SelectKBest(score_func=f_regression, k='all')\n",
        "# предикторы\n",
        "X = data1.drop(columns=['DATE', 'TARGET_CLOSE', 'TARGET_HIGH', 'TARGET_LOW'])\n",
        "# целевой признак\n",
        "y = data1['TARGET_CLOSE']\n",
        "fs.fit(X, y)"
      ],
      "metadata": {
        "colab": {
          "base_uri": "https://localhost:8080/",
          "height": 74
        },
        "id": "egErTaeESH4r",
        "outputId": "a95f7f63-6d40-47db-a0ba-84c78bee23ed"
      },
      "id": "egErTaeESH4r",
      "execution_count": 100,
      "outputs": [
        {
          "output_type": "execute_result",
          "data": {
            "text/plain": [
              "SelectKBest(k='all', score_func=<function f_regression at 0x7faa4ce8c790>)"
            ],
            "text/html": [
              "<style>#sk-container-id-3 {color: black;background-color: white;}#sk-container-id-3 pre{padding: 0;}#sk-container-id-3 div.sk-toggleable {background-color: white;}#sk-container-id-3 label.sk-toggleable__label {cursor: pointer;display: block;width: 100%;margin-bottom: 0;padding: 0.3em;box-sizing: border-box;text-align: center;}#sk-container-id-3 label.sk-toggleable__label-arrow:before {content: \"▸\";float: left;margin-right: 0.25em;color: #696969;}#sk-container-id-3 label.sk-toggleable__label-arrow:hover:before {color: black;}#sk-container-id-3 div.sk-estimator:hover label.sk-toggleable__label-arrow:before {color: black;}#sk-container-id-3 div.sk-toggleable__content {max-height: 0;max-width: 0;overflow: hidden;text-align: left;background-color: #f0f8ff;}#sk-container-id-3 div.sk-toggleable__content pre {margin: 0.2em;color: black;border-radius: 0.25em;background-color: #f0f8ff;}#sk-container-id-3 input.sk-toggleable__control:checked~div.sk-toggleable__content {max-height: 200px;max-width: 100%;overflow: auto;}#sk-container-id-3 input.sk-toggleable__control:checked~label.sk-toggleable__label-arrow:before {content: \"▾\";}#sk-container-id-3 div.sk-estimator input.sk-toggleable__control:checked~label.sk-toggleable__label {background-color: #d4ebff;}#sk-container-id-3 div.sk-label input.sk-toggleable__control:checked~label.sk-toggleable__label {background-color: #d4ebff;}#sk-container-id-3 input.sk-hidden--visually {border: 0;clip: rect(1px 1px 1px 1px);clip: rect(1px, 1px, 1px, 1px);height: 1px;margin: -1px;overflow: hidden;padding: 0;position: absolute;width: 1px;}#sk-container-id-3 div.sk-estimator {font-family: monospace;background-color: #f0f8ff;border: 1px dotted black;border-radius: 0.25em;box-sizing: border-box;margin-bottom: 0.5em;}#sk-container-id-3 div.sk-estimator:hover {background-color: #d4ebff;}#sk-container-id-3 div.sk-parallel-item::after {content: \"\";width: 100%;border-bottom: 1px solid gray;flex-grow: 1;}#sk-container-id-3 div.sk-label:hover label.sk-toggleable__label {background-color: #d4ebff;}#sk-container-id-3 div.sk-serial::before {content: \"\";position: absolute;border-left: 1px solid gray;box-sizing: border-box;top: 0;bottom: 0;left: 50%;z-index: 0;}#sk-container-id-3 div.sk-serial {display: flex;flex-direction: column;align-items: center;background-color: white;padding-right: 0.2em;padding-left: 0.2em;position: relative;}#sk-container-id-3 div.sk-item {position: relative;z-index: 1;}#sk-container-id-3 div.sk-parallel {display: flex;align-items: stretch;justify-content: center;background-color: white;position: relative;}#sk-container-id-3 div.sk-item::before, #sk-container-id-3 div.sk-parallel-item::before {content: \"\";position: absolute;border-left: 1px solid gray;box-sizing: border-box;top: 0;bottom: 0;left: 50%;z-index: -1;}#sk-container-id-3 div.sk-parallel-item {display: flex;flex-direction: column;z-index: 1;position: relative;background-color: white;}#sk-container-id-3 div.sk-parallel-item:first-child::after {align-self: flex-end;width: 50%;}#sk-container-id-3 div.sk-parallel-item:last-child::after {align-self: flex-start;width: 50%;}#sk-container-id-3 div.sk-parallel-item:only-child::after {width: 0;}#sk-container-id-3 div.sk-dashed-wrapped {border: 1px dashed gray;margin: 0 0.4em 0.5em 0.4em;box-sizing: border-box;padding-bottom: 0.4em;background-color: white;}#sk-container-id-3 div.sk-label label {font-family: monospace;font-weight: bold;display: inline-block;line-height: 1.2em;}#sk-container-id-3 div.sk-label-container {text-align: center;}#sk-container-id-3 div.sk-container {/* jupyter's `normalize.less` sets `[hidden] { display: none; }` but bootstrap.min.css set `[hidden] { display: none !important; }` so we also need the `!important` here to be able to override the default hidden behavior on the sphinx rendered scikit-learn.org. See: https://github.com/scikit-learn/scikit-learn/issues/21755 */display: inline-block !important;position: relative;}#sk-container-id-3 div.sk-text-repr-fallback {display: none;}</style><div id=\"sk-container-id-3\" class=\"sk-top-container\"><div class=\"sk-text-repr-fallback\"><pre>SelectKBest(k=&#x27;all&#x27;, score_func=&lt;function f_regression at 0x7faa4ce8c790&gt;)</pre><b>In a Jupyter environment, please rerun this cell to show the HTML representation or trust the notebook. <br />On GitHub, the HTML representation is unable to render, please try loading this page with nbviewer.org.</b></div><div class=\"sk-container\" hidden><div class=\"sk-item\"><div class=\"sk-estimator sk-toggleable\"><input class=\"sk-toggleable__control sk-hidden--visually\" id=\"sk-estimator-id-3\" type=\"checkbox\" checked><label for=\"sk-estimator-id-3\" class=\"sk-toggleable__label sk-toggleable__label-arrow\">SelectKBest</label><div class=\"sk-toggleable__content\"><pre>SelectKBest(k=&#x27;all&#x27;, score_func=&lt;function f_regression at 0x7faa4ce8c790&gt;)</pre></div></div></div></div></div>"
            ]
          },
          "metadata": {},
          "execution_count": 100
        }
      ]
    },
    {
      "cell_type": "code",
      "source": [
        "# для удобства визуализируем в виде гистограммы\n",
        "scores = pd.DataFrame(fs.scores_, fs.get_feature_names_out(), columns=['score']).sort_values(by='score', ascending=False)\n",
        "scores.score.plot.bar(figsize=(15,5))"
      ],
      "metadata": {
        "colab": {
          "base_uri": "https://localhost:8080/",
          "height": 532
        },
        "id": "fm5gqcv-SH7U",
        "outputId": "d0771011-1a8d-4e8b-ce56-3d3aff73b817"
      },
      "id": "fm5gqcv-SH7U",
      "execution_count": 101,
      "outputs": [
        {
          "output_type": "execute_result",
          "data": {
            "text/plain": [
              "<Axes: >"
            ]
          },
          "metadata": {},
          "execution_count": 101
        },
        {
          "output_type": "display_data",
          "data": {
            "text/plain": [
              "<Figure size 1500x500 with 1 Axes>"
            ],
            "image/png": "[encoded data removed]"
          },
          "metadata": {}
        }
      ]
    },
    {
      "cell_type": "code",
      "source": [],
      "metadata": {
        "id": "gNHKw_smGjZy"
      },
      "id": "gNHKw_smGjZy",
      "execution_count": 101,
      "outputs": []
    },
    {
      "cell_type": "markdown",
      "metadata": {
        "id": "IOnCaoQSMxz1"
      },
      "source": [
        "# Финальная модель регресии\n",
        "\n",
        "В качестве финальной модели регресии возьмем линейную регрессию."
      ],
      "id": "IOnCaoQSMxz1"
    },
    {
      "cell_type": "markdown",
      "source": [
        "## Предсказание CLOSE"
      ],
      "metadata": {
        "id": "nMBBr5oQw-t_"
      },
      "id": "nMBBr5oQw-t_"
    },
    {
      "cell_type": "code",
      "source": [
        "model_close = LinearRegression()"
      ],
      "metadata": {
        "id": "xTQCyLG_hzIO"
      },
      "id": "xTQCyLG_hzIO",
      "execution_count": 102,
      "outputs": []
    },
    {
      "cell_type": "markdown",
      "source": [
        "Обучим на полном наборе признаков."
      ],
      "metadata": {
        "id": "6C6Pbuech-Mt"
      },
      "id": "6C6Pbuech-Mt"
    },
    {
      "cell_type": "code",
      "source": [
        "# предикторы\n",
        "X = data1.drop(columns=['DATE', 'TARGET_CLOSE', 'TARGET_HIGH', 'TARGET_LOW'])\n",
        "# целевой признак\n",
        "y = data1['TARGET_CLOSE']\n",
        "\n",
        "# разделим на трейн и тест без перемешивания\n",
        "X_train, X_test, y_train, y_test = train_test_split(X, y, test_size=0.3, shuffle=False)\n",
        "\n",
        "# обучение и результат\n",
        "model_close.fit(X_train, y_train)\n",
        "y_pred = model_close.predict(X_test) \n",
        "mape(y_test, y_pred)"
      ],
      "metadata": {
        "colab": {
          "base_uri": "https://localhost:8080/"
        },
        "id": "WEsUeUvniBlO",
        "outputId": "ed15a393-c407-438e-cab9-46964b35c1d4"
      },
      "id": "WEsUeUvniBlO",
      "execution_count": 103,
      "outputs": [
        {
          "output_type": "execute_result",
          "data": {
            "text/plain": [
              "0.01426119206962078"
            ]
          },
          "metadata": {},
          "execution_count": 103
        }
      ]
    },
    {
      "cell_type": "markdown",
      "source": [
        "Попробуем обучить ее только с отобранными признаками."
      ],
      "metadata": {
        "id": "1kzudNJRh17e"
      },
      "id": "1kzudNJRh17e"
    },
    {
      "cell_type": "code",
      "source": [
        "# отбор признаков\n",
        "fs = SelectKBest(score_func=f_regression, k=30)\n",
        "fs.fit(X_train, y_train)\n",
        "\n",
        "# преобразования\n",
        "X_train_fs = fs.transform(X_train)\n",
        "X_test_fs = fs.transform(X_test)\n",
        "\n",
        "# обучение и результаты\n",
        "model_close.fit(X_train_fs, y_train)\n",
        "y_pred_fs = model_close.predict(X_test_fs) \n",
        "mape(y_test, y_pred_fs)"
      ],
      "metadata": {
        "colab": {
          "base_uri": "https://localhost:8080/"
        },
        "id": "eTp3663tcbK9",
        "outputId": "774770a5-d53c-4739-d0b0-02493296b0bf"
      },
      "id": "eTp3663tcbK9",
      "execution_count": 104,
      "outputs": [
        {
          "output_type": "execute_result",
          "data": {
            "text/plain": [
              "0.014076077093609717"
            ]
          },
          "metadata": {},
          "execution_count": 104
        }
      ]
    },
    {
      "cell_type": "markdown",
      "source": [
        "Разница между этими двумя вариантами получается небольшой. В целом результаты стали лучше, но ненамного (1,41% против 1,57%)"
      ],
      "metadata": {
        "id": "bChju0-nilVu"
      },
      "id": "bChju0-nilVu"
    },
    {
      "cell_type": "markdown",
      "source": [
        "## Предсказание HIGH"
      ],
      "metadata": {
        "id": "azM2h9TOxNyc"
      },
      "id": "azM2h9TOxNyc"
    },
    {
      "cell_type": "code",
      "source": [
        "model_high = LinearRegression()"
      ],
      "metadata": {
        "id": "_Vz5pvIVxNyk"
      },
      "execution_count": 105,
      "outputs": [],
      "id": "_Vz5pvIVxNyk"
    },
    {
      "cell_type": "code",
      "source": [
        "# предикторы\n",
        "X = data1.drop(columns=['DATE', 'TARGET_CLOSE', 'TARGET_HIGH', 'TARGET_LOW'])\n",
        "# целевой признак\n",
        "y = data1['TARGET_HIGH']\n",
        "\n",
        "# разделим на трейн и тест без перемешивания\n",
        "X_train, X_test, y_train, y_test = train_test_split(X, y, test_size=0.3, shuffle=False)\n",
        "\n",
        "# отбор признаков\n",
        "fs = SelectKBest(score_func=f_regression, k=30)\n",
        "fs.fit(X_train, y_train)\n",
        "\n",
        "# преобразования\n",
        "X_train_fs = fs.transform(X_train)\n",
        "X_test_fs = fs.transform(X_test)\n",
        "\n",
        "# обучение и результаты\n",
        "model_high.fit(X_train_fs, y_train)\n",
        "y_pred_fs = model_high.predict(X_test_fs) \n",
        "mape(y_test, y_pred_fs)"
      ],
      "metadata": {
        "colab": {
          "base_uri": "https://localhost:8080/"
        },
        "outputId": "9b24b39f-195f-498f-b66f-b3bc09fe4af0",
        "id": "Y7R05nMTxNyl"
      },
      "execution_count": 106,
      "outputs": [
        {
          "output_type": "execute_result",
          "data": {
            "text/plain": [
              "0.00856981881322237"
            ]
          },
          "metadata": {},
          "execution_count": 106
        }
      ],
      "id": "Y7R05nMTxNyl"
    },
    {
      "cell_type": "markdown",
      "source": [
        "## Предсказание LOW"
      ],
      "metadata": {
        "id": "4FIJFH-axn3i"
      },
      "id": "4FIJFH-axn3i"
    },
    {
      "cell_type": "code",
      "source": [
        "model_low = LinearRegression()"
      ],
      "metadata": {
        "id": "NvUWuIYgxn3j"
      },
      "execution_count": 107,
      "outputs": [],
      "id": "NvUWuIYgxn3j"
    },
    {
      "cell_type": "markdown",
      "source": [
        "Обучим на полном наборе признаков."
      ],
      "metadata": {
        "id": "CoNqEtmUxn3j"
      },
      "id": "CoNqEtmUxn3j"
    },
    {
      "cell_type": "code",
      "source": [
        "# предикторы\n",
        "X = data1.drop(columns=['DATE', 'TARGET_CLOSE', 'TARGET_HIGH', 'TARGET_LOW'])\n",
        "# целевой признак\n",
        "y = data1['TARGET_LOW']\n",
        "\n",
        "# разделим на трейн и тест без перемешивания\n",
        "X_train, X_test, y_train, y_test = train_test_split(X, y, test_size=0.3, shuffle=False)\n",
        "\n",
        "# отбор признаков\n",
        "fs = SelectKBest(score_func=f_regression, k=30)\n",
        "fs.fit(X_train, y_train)\n",
        "\n",
        "# преобразования\n",
        "X_train_fs = fs.transform(X_train)\n",
        "X_test_fs = fs.transform(X_test)\n",
        "\n",
        "# обучение и результаты\n",
        "model_high.fit(X_train_fs, y_train)\n",
        "y_pred_fs = model_high.predict(X_test_fs) \n",
        "mape(y_test, y_pred_fs)"
      ],
      "metadata": {
        "colab": {
          "base_uri": "https://localhost:8080/"
        },
        "outputId": "0684ac67-cf8f-4f3b-caaf-3848e5a92c72",
        "id": "Hi9rXFzDxn3j"
      },
      "execution_count": 108,
      "outputs": [
        {
          "output_type": "execute_result",
          "data": {
            "text/plain": [
              "0.009030180342985859"
            ]
          },
          "metadata": {},
          "execution_count": 108
        }
      ],
      "id": "Hi9rXFzDxn3j"
    },
    {
      "cell_type": "markdown",
      "source": [
        "Максимум и минимум получается предсказывать точнее, чем закрытие."
      ],
      "metadata": {
        "id": "fPddlFFYxn3j"
      },
      "id": "fPddlFFYxn3j"
    },
    {
      "cell_type": "markdown",
      "metadata": {
        "id": "EQXLeyxRMxz2"
      },
      "source": [
        "# Визуализация результатов\n",
        "\n",
        "Какие были бы результаты, если использовать полученные предсказания для покупки/продажи бумаги. Для простоты считаем так:\n",
        "\n",
        "- предсказанная цена закрытия выше цены открытия - покупаем\n",
        "- предсказанная цена закрытия ниже цены открытия - продаем\n",
        "- покупается/продается одна акция\n",
        "- открытие позиции происходит ежедневно по цене открытия дня\n",
        "- закрытие - по реальной цене закрытия"
      ],
      "id": "EQXLeyxRMxz2"
    },
    {
      "cell_type": "code",
      "source": [
        "# для удобства сведем в отдельный датафрейм ...\n",
        "open_close = pd.DataFrame()\n",
        "# цену открытия - open\n",
        "open_close['open'] = X_test['OPEN']\n",
        "# реальную цену закрытия - close_real\n",
        "open_close['close_real'] = y_test\n",
        "# и предсказанные моделями цены закрытия - close_pred\n",
        "open_close['close_pred'] = y_pred\n",
        "\n",
        "open_close.head()"
      ],
      "metadata": {
        "colab": {
          "base_uri": "https://localhost:8080/",
          "height": 206
        },
        "id": "cuNiZ-zKjkNH",
        "outputId": "c7ad5fd8-3af0-4b2d-cb8c-9dd7c15deba9"
      },
      "id": "cuNiZ-zKjkNH",
      "execution_count": 109,
      "outputs": [
        {
          "output_type": "execute_result",
          "data": {
            "text/plain": [
              "          open  close_real  close_pred\n",
              "2332 233.80000   231.90000   233.92303\n",
              "2333 233.48000   233.05000   234.24629\n",
              "2334 233.70000   234.16000   236.42327\n",
              "2335 235.99000   233.94000   234.95080\n",
              "2336 235.00000   227.80000   235.78880"
            ],
            "text/html": [
              "\n",
              "  <div id=\"df-8b2df806-3b17-4acb-89e5-9cdcef1b344c\">\n",
              "    <div class=\"colab-df-container\">\n",
              "      <div>\n",
              "<style scoped>\n",
              "    .dataframe tbody tr th:only-of-type {\n",
              "        vertical-align: middle;\n",
              "    }\n",
              "\n",
              "    .dataframe tbody tr th {\n",
              "        vertical-align: top;\n",
              "    }\n",
              "\n",
              "    .dataframe thead th {\n",
              "        text-align: right;\n",
              "    }\n",
              "</style>\n",
              "<table border=\"1\" class=\"dataframe\">\n",
              "  <thead>\n",
              "    <tr style=\"text-align: right;\">\n",
              "      <th></th>\n",
              "      <th>open</th>\n",
              "      <th>close_real</th>\n",
              "      <th>close_pred</th>\n",
              "    </tr>\n",
              "  </thead>\n",
              "  <tbody>\n",
              "    <tr>\n",
              "      <th>2332</th>\n",
              "      <td>233.80000</td>\n",
              "      <td>231.90000</td>\n",
              "      <td>233.92303</td>\n",
              "    </tr>\n",
              "    <tr>\n",
              "      <th>2333</th>\n",
              "      <td>233.48000</td>\n",
              "      <td>233.05000</td>\n",
              "      <td>234.24629</td>\n",
              "    </tr>\n",
              "    <tr>\n",
              "      <th>2334</th>\n",
              "      <td>233.70000</td>\n",
              "      <td>234.16000</td>\n",
              "      <td>236.42327</td>\n",
              "    </tr>\n",
              "    <tr>\n",
              "      <th>2335</th>\n",
              "      <td>235.99000</td>\n",
              "      <td>233.94000</td>\n",
              "      <td>234.95080</td>\n",
              "    </tr>\n",
              "    <tr>\n",
              "      <th>2336</th>\n",
              "      <td>235.00000</td>\n",
              "      <td>227.80000</td>\n",
              "      <td>235.78880</td>\n",
              "    </tr>\n",
              "  </tbody>\n",
              "</table>\n",
              "</div>\n",
              "      <button class=\"colab-df-convert\" onclick=\"convertToInteractive('df-8b2df806-3b17-4acb-89e5-9cdcef1b344c')\"\n",
              "              title=\"Convert this dataframe to an interactive table.\"\n",
              "              style=\"display:none;\">\n",
              "        \n",
              "  <svg xmlns=\"http://www.w3.org/2000/svg\" height=\"24px\"viewBox=\"0 0 24 24\"\n",
              "       width=\"24px\">\n",
              "    <path d=\"M0 0h24v24H0V0z\" fill=\"none\"/>\n",
              "    <path d=\"M18.56 5.44l.94 2.06.94-2.06 2.06-.94-2.06-.94-.94-2.06-.94 2.06-2.06.94zm-11 1L8.5 8.5l.94-2.06 2.06-.94-2.06-.94L8.5 2.5l-.94 2.06-2.06.94zm10 10l.94 2.06.94-2.06 2.06-.94-2.06-.94-.94-2.06-.94 2.06-2.06.94z\"/><path d=\"M17.41 7.96l-1.37-1.37c-.4-.4-.92-.59-1.43-.59-.52 0-1.04.2-1.43.59L10.3 9.45l-7.72 7.72c-.78.78-.78 2.05 0 2.83L4 21.41c.39.39.9.59 1.41.59.51 0 1.02-.2 1.41-.59l7.78-7.78 2.81-2.81c.8-.78.8-2.07 0-2.86zM5.41 20L4 18.59l7.72-7.72 1.47 1.35L5.41 20z\"/>\n",
              "  </svg>\n",
              "      </button>\n",
              "      \n",
              "  <style>\n",
              "    .colab-df-container {\n",
              "      display:flex;\n",
              "      flex-wrap:wrap;\n",
              "      gap: 12px;\n",
              "    }\n",
              "\n",
              "    .colab-df-convert {\n",
              "      background-color: #E8F0FE;\n",
              "      border: none;\n",
              "      border-radius: 50%;\n",
              "      cursor: pointer;\n",
              "      display: none;\n",
              "      fill: #1967D2;\n",
              "      height: 32px;\n",
              "      padding: 0 0 0 0;\n",
              "      width: 32px;\n",
              "    }\n",
              "\n",
              "    .colab-df-convert:hover {\n",
              "      background-color: #E2EBFA;\n",
              "      box-shadow: 0px 1px 2px rgba(60, 64, 67, 0.3), 0px 1px 3px 1px rgba(60, 64, 67, 0.15);\n",
              "      fill: #174EA6;\n",
              "    }\n",
              "\n",
              "    [theme=dark] .colab-df-convert {\n",
              "      background-color: #3B4455;\n",
              "      fill: #D2E3FC;\n",
              "    }\n",
              "\n",
              "    [theme=dark] .colab-df-convert:hover {\n",
              "      background-color: #434B5C;\n",
              "      box-shadow: 0px 1px 3px 1px rgba(0, 0, 0, 0.15);\n",
              "      filter: drop-shadow(0px 1px 2px rgba(0, 0, 0, 0.3));\n",
              "      fill: #FFFFFF;\n",
              "    }\n",
              "  </style>\n",
              "\n",
              "      <script>\n",
              "        const buttonEl =\n",
              "          document.querySelector('#df-8b2df806-3b17-4acb-89e5-9cdcef1b344c button.colab-df-convert');\n",
              "        buttonEl.style.display =\n",
              "          google.colab.kernel.accessAllowed ? 'block' : 'none';\n",
              "\n",
              "        async function convertToInteractive(key) {\n",
              "          const element = document.querySelector('#df-8b2df806-3b17-4acb-89e5-9cdcef1b344c');\n",
              "          const dataTable =\n",
              "            await google.colab.kernel.invokeFunction('convertToInteractive',\n",
              "                                                     [key], {});\n",
              "          if (!dataTable) return;\n",
              "\n",
              "          const docLinkHtml = 'Like what you see? Visit the ' +\n",
              "            '<a target=\"_blank\" href=https://colab.research.google.com/notebooks/data_table.ipynb>data table notebook</a>'\n",
              "            + ' to learn more about interactive tables.';\n",
              "          element.innerHTML = '';\n",
              "          dataTable['output_type'] = 'display_data';\n",
              "          await google.colab.output.renderOutput(dataTable, element);\n",
              "          const docLink = document.createElement('div');\n",
              "          docLink.innerHTML = docLinkHtml;\n",
              "          element.appendChild(docLink);\n",
              "        }\n",
              "      </script>\n",
              "    </div>\n",
              "  </div>\n",
              "  "
            ]
          },
          "metadata": {},
          "execution_count": 109
        }
      ]
    },
    {
      "cell_type": "code",
      "execution_count": 110,
      "metadata": {
        "id": "kadgo4mQMxz2",
        "colab": {
          "base_uri": "https://localhost:8080/",
          "height": 206
        },
        "outputId": "fbc1d105-5068-4144-e6d1-3c5e2f7d2d85"
      },
      "outputs": [
        {
          "output_type": "execute_result",
          "data": {
            "text/plain": [
              "          res    res_\n",
              "2332 -1.90000 0.00000\n",
              "2333 -0.43000 0.00000\n",
              "2334  0.46000 1.00000\n",
              "2335  2.05000 1.00000\n",
              "2336 -7.20000 0.00000"
            ],
            "text/html": [
              "\n",
              "  <div id=\"df-b110fe0f-e18a-47d6-a426-80b84f81aff9\">\n",
              "    <div class=\"colab-df-container\">\n",
              "      <div>\n",
              "<style scoped>\n",
              "    .dataframe tbody tr th:only-of-type {\n",
              "        vertical-align: middle;\n",
              "    }\n",
              "\n",
              "    .dataframe tbody tr th {\n",
              "        vertical-align: top;\n",
              "    }\n",
              "\n",
              "    .dataframe thead th {\n",
              "        text-align: right;\n",
              "    }\n",
              "</style>\n",
              "<table border=\"1\" class=\"dataframe\">\n",
              "  <thead>\n",
              "    <tr style=\"text-align: right;\">\n",
              "      <th></th>\n",
              "      <th>res</th>\n",
              "      <th>res_</th>\n",
              "    </tr>\n",
              "  </thead>\n",
              "  <tbody>\n",
              "    <tr>\n",
              "      <th>2332</th>\n",
              "      <td>-1.90000</td>\n",
              "      <td>0.00000</td>\n",
              "    </tr>\n",
              "    <tr>\n",
              "      <th>2333</th>\n",
              "      <td>-0.43000</td>\n",
              "      <td>0.00000</td>\n",
              "    </tr>\n",
              "    <tr>\n",
              "      <th>2334</th>\n",
              "      <td>0.46000</td>\n",
              "      <td>1.00000</td>\n",
              "    </tr>\n",
              "    <tr>\n",
              "      <th>2335</th>\n",
              "      <td>2.05000</td>\n",
              "      <td>1.00000</td>\n",
              "    </tr>\n",
              "    <tr>\n",
              "      <th>2336</th>\n",
              "      <td>-7.20000</td>\n",
              "      <td>0.00000</td>\n",
              "    </tr>\n",
              "  </tbody>\n",
              "</table>\n",
              "</div>\n",
              "      <button class=\"colab-df-convert\" onclick=\"convertToInteractive('df-b110fe0f-e18a-47d6-a426-80b84f81aff9')\"\n",
              "              title=\"Convert this dataframe to an interactive table.\"\n",
              "              style=\"display:none;\">\n",
              "        \n",
              "  <svg xmlns=\"http://www.w3.org/2000/svg\" height=\"24px\"viewBox=\"0 0 24 24\"\n",
              "       width=\"24px\">\n",
              "    <path d=\"M0 0h24v24H0V0z\" fill=\"none\"/>\n",
              "    <path d=\"M18.56 5.44l.94 2.06.94-2.06 2.06-.94-2.06-.94-.94-2.06-.94 2.06-2.06.94zm-11 1L8.5 8.5l.94-2.06 2.06-.94-2.06-.94L8.5 2.5l-.94 2.06-2.06.94zm10 10l.94 2.06.94-2.06 2.06-.94-2.06-.94-.94-2.06-.94 2.06-2.06.94z\"/><path d=\"M17.41 7.96l-1.37-1.37c-.4-.4-.92-.59-1.43-.59-.52 0-1.04.2-1.43.59L10.3 9.45l-7.72 7.72c-.78.78-.78 2.05 0 2.83L4 21.41c.39.39.9.59 1.41.59.51 0 1.02-.2 1.41-.59l7.78-7.78 2.81-2.81c.8-.78.8-2.07 0-2.86zM5.41 20L4 18.59l7.72-7.72 1.47 1.35L5.41 20z\"/>\n",
              "  </svg>\n",
              "      </button>\n",
              "      \n",
              "  <style>\n",
              "    .colab-df-container {\n",
              "      display:flex;\n",
              "      flex-wrap:wrap;\n",
              "      gap: 12px;\n",
              "    }\n",
              "\n",
              "    .colab-df-convert {\n",
              "      background-color: #E8F0FE;\n",
              "      border: none;\n",
              "      border-radius: 50%;\n",
              "      cursor: pointer;\n",
              "      display: none;\n",
              "      fill: #1967D2;\n",
              "      height: 32px;\n",
              "      padding: 0 0 0 0;\n",
              "      width: 32px;\n",
              "    }\n",
              "\n",
              "    .colab-df-convert:hover {\n",
              "      background-color: #E2EBFA;\n",
              "      box-shadow: 0px 1px 2px rgba(60, 64, 67, 0.3), 0px 1px 3px 1px rgba(60, 64, 67, 0.15);\n",
              "      fill: #174EA6;\n",
              "    }\n",
              "\n",
              "    [theme=dark] .colab-df-convert {\n",
              "      background-color: #3B4455;\n",
              "      fill: #D2E3FC;\n",
              "    }\n",
              "\n",
              "    [theme=dark] .colab-df-convert:hover {\n",
              "      background-color: #434B5C;\n",
              "      box-shadow: 0px 1px 3px 1px rgba(0, 0, 0, 0.15);\n",
              "      filter: drop-shadow(0px 1px 2px rgba(0, 0, 0, 0.3));\n",
              "      fill: #FFFFFF;\n",
              "    }\n",
              "  </style>\n",
              "\n",
              "      <script>\n",
              "        const buttonEl =\n",
              "          document.querySelector('#df-b110fe0f-e18a-47d6-a426-80b84f81aff9 button.colab-df-convert');\n",
              "        buttonEl.style.display =\n",
              "          google.colab.kernel.accessAllowed ? 'block' : 'none';\n",
              "\n",
              "        async function convertToInteractive(key) {\n",
              "          const element = document.querySelector('#df-b110fe0f-e18a-47d6-a426-80b84f81aff9');\n",
              "          const dataTable =\n",
              "            await google.colab.kernel.invokeFunction('convertToInteractive',\n",
              "                                                     [key], {});\n",
              "          if (!dataTable) return;\n",
              "\n",
              "          const docLinkHtml = 'Like what you see? Visit the ' +\n",
              "            '<a target=\"_blank\" href=https://colab.research.google.com/notebooks/data_table.ipynb>data table notebook</a>'\n",
              "            + ' to learn more about interactive tables.';\n",
              "          element.innerHTML = '';\n",
              "          dataTable['output_type'] = 'display_data';\n",
              "          await google.colab.output.renderOutput(dataTable, element);\n",
              "          const docLink = document.createElement('div');\n",
              "          docLink.innerHTML = docLinkHtml;\n",
              "          element.appendChild(docLink);\n",
              "        }\n",
              "      </script>\n",
              "    </div>\n",
              "  </div>\n",
              "  "
            ]
          },
          "metadata": {},
          "execution_count": 110
        }
      ],
      "source": [
        "# табличка, в которую будем заносить результаты\n",
        "results = pd.DataFrame()\n",
        "\n",
        "# если предсказанная цена выше цены открытия - покупаем.\n",
        "# результат считаем как разность цены закрытия и цены открытия\n",
        "results.loc[open_close.open < open_close.close_pred, 'res'] = open_close.close_real - open_close.open \n",
        "\n",
        "# если предсказанная цена ниже цены открытия - продаем.\n",
        "# результат считаем как разность цены открытия и цены закрытия\n",
        "results.loc[open_close.open > open_close.close_pred, 'res'] = open_close.open - open_close.close_real \n",
        "\n",
        "# если результат сделки положительный\n",
        "results.loc[results['res'] > 0, 'res_'] = 1\n",
        "# если результат сделки отрицательный\n",
        "results.loc[results['res'] <= 0, f'res_'] = 0\n",
        "\n",
        "results.head()"
      ],
      "id": "kadgo4mQMxz2"
    },
    {
      "cell_type": "code",
      "source": [
        "print('Итоговая сумма сделок:', results.res.sum())\n",
        "print('Кол-во удачных сделок:', results.res_.value_counts().sort_index()[1])\n",
        "print('Кол-во неудачных сделок:', results.res_.value_counts().sort_index()[0])"
      ],
      "metadata": {
        "colab": {
          "base_uri": "https://localhost:8080/"
        },
        "id": "-QrUt22YmVm7",
        "outputId": "5e2b1154-824e-4f70-da5a-df8e3bdf4b29"
      },
      "id": "-QrUt22YmVm7",
      "execution_count": 111,
      "outputs": [
        {
          "output_type": "stream",
          "name": "stdout",
          "text": [
            "Итоговая сумма сделок: 3386.1000000000004\n",
            "Кол-во удачных сделок: 746\n",
            "Кол-во неудачных сделок: 251\n"
          ]
        }
      ]
    },
    {
      "cell_type": "code",
      "source": [
        "plt.figure(figsize=(10, 5))\n",
        "eq = []\n",
        "depo = 0\n",
        "for i in results['res']:\n",
        "    depo = depo + i\n",
        "    eq.append(depo)\n",
        "    \n",
        "plt.title('Кривая изменения депозита')\n",
        "plt.xlabel('Сделки')   \n",
        "plt.ylabel('Депозит')        \n",
        "plt.plot(eq)\n",
        "plt.show()"
      ],
      "metadata": {
        "colab": {
          "base_uri": "https://localhost:8080/",
          "height": 487
        },
        "id": "E-VLlE64oePQ",
        "outputId": "d1e44eb4-b635-4d98-8769-007a97203a82"
      },
      "id": "E-VLlE64oePQ",
      "execution_count": 112,
      "outputs": [
        {
          "output_type": "display_data",
          "data": {
            "text/plain": [
              "<Figure size 1000x500 with 1 Axes>"
            ],
            "image/png": "[encoded data removed]"
          },
          "metadata": {}
        }
      ]
    },
    {
      "cell_type": "markdown",
      "metadata": {
        "id": "KvgcYLg-Mxzz"
      },
      "source": [
        "# Классификации\n",
        "\n",
        "Попробуем использовать модели классификации для предсказания цена закрытия будет выше или ниже открытия. Обучим сразу несколько моделей \"из коробки\""
      ],
      "id": "KvgcYLg-Mxzz"
    },
    {
      "cell_type": "code",
      "source": [
        "data2 = data1.copy()\n",
        "# определим целевой признак для классификации - закрытие выше (1) или ниже (0) \"сегодняшнего\" открытия\n",
        "data2['TARGET_UP_DOWN'] = data2.apply(lambda x: 1 if x['TARGET_CLOSE'] > x['OPEN_TODAY'] else 0,  axis=1)\n",
        "data2.head(5)"
      ],
      "metadata": {
        "colab": {
          "base_uri": "https://localhost:8080/",
          "height": 386
        },
        "id": "sTM7-qTItQ9d",
        "outputId": "c15dcf79-c579-4808-8d9f-d51f3ffcb057"
      },
      "id": "sTM7-qTItQ9d",
      "execution_count": 113,
      "outputs": [
        {
          "output_type": "execute_result",
          "data": {
            "text/plain": [
              "        DATE     OPEN     HIGH      LOW    CLOSE        VOL  TARGET_CLOSE  \\\n",
              "5 2010-01-18 87.86000 90.65000 87.79000 90.49000  179399350      92.02000   \n",
              "6 2010-01-19 90.52000 92.20000 88.80000 92.02000  268915291      90.62000   \n",
              "7 2010-01-20 92.02000 92.49000 90.42000 90.62000  220273259      89.18000   \n",
              "8 2010-01-21 91.26000 91.65000 88.92000 89.18000  219353508      86.50000   \n",
              "9 2010-01-22 88.46000 89.06000 85.75000 86.50000  221223200      88.07000   \n",
              "\n",
              "   TARGET_HIGH  TARGET_LOW  DIF_O_C  ...  MONTH_4  MONTH_5  MONTH_6  MONTH_7  \\\n",
              "5     92.20000    88.80000 -2.63000  ...        0        0        0        0   \n",
              "6     92.49000    90.42000 -1.50000  ...        0        0        0        0   \n",
              "7     91.65000    88.92000  1.40000  ...        0        0        0        0   \n",
              "8     89.06000    85.75000  2.08000  ...        0        0        0        0   \n",
              "9     88.80000    85.33000  1.96000  ...        0        0        0        0   \n",
              "\n",
              "   MONTH_8  MONTH_9  MONTH_10  MONTH_11  MONTH_12  TARGET_UP_DOWN  \n",
              "5        0        0         0         0         0               1  \n",
              "6        0        0         0         0         0               0  \n",
              "7        0        0         0         0         0               0  \n",
              "8        0        0         0         0         0               0  \n",
              "9        0        0         0         0         0               1  \n",
              "\n",
              "[5 rows x 69 columns]"
            ],
            "text/html": [
              "\n",
              "  <div id=\"df-9a210407-219d-490f-b70b-ca335fd24b73\">\n",
              "    <div class=\"colab-df-container\">\n",
              "      <div>\n",
              "<style scoped>\n",
              "    .dataframe tbody tr th:only-of-type {\n",
              "        vertical-align: middle;\n",
              "    }\n",
              "\n",
              "    .dataframe tbody tr th {\n",
              "        vertical-align: top;\n",
              "    }\n",
              "\n",
              "    .dataframe thead th {\n",
              "        text-align: right;\n",
              "    }\n",
              "</style>\n",
              "<table border=\"1\" class=\"dataframe\">\n",
              "  <thead>\n",
              "    <tr style=\"text-align: right;\">\n",
              "      <th></th>\n",
              "      <th>DATE</th>\n",
              "      <th>OPEN</th>\n",
              "      <th>HIGH</th>\n",
              "      <th>LOW</th>\n",
              "      <th>CLOSE</th>\n",
              "      <th>VOL</th>\n",
              "      <th>TARGET_CLOSE</th>\n",
              "      <th>TARGET_HIGH</th>\n",
              "      <th>TARGET_LOW</th>\n",
              "      <th>DIF_O_C</th>\n",
              "      <th>...</th>\n",
              "      <th>MONTH_4</th>\n",
              "      <th>MONTH_5</th>\n",
              "      <th>MONTH_6</th>\n",
              "      <th>MONTH_7</th>\n",
              "      <th>MONTH_8</th>\n",
              "      <th>MONTH_9</th>\n",
              "      <th>MONTH_10</th>\n",
              "      <th>MONTH_11</th>\n",
              "      <th>MONTH_12</th>\n",
              "      <th>TARGET_UP_DOWN</th>\n",
              "    </tr>\n",
              "  </thead>\n",
              "  <tbody>\n",
              "    <tr>\n",
              "      <th>5</th>\n",
              "      <td>2010-01-18</td>\n",
              "      <td>87.86000</td>\n",
              "      <td>90.65000</td>\n",
              "      <td>87.79000</td>\n",
              "      <td>90.49000</td>\n",
              "      <td>179399350</td>\n",
              "      <td>92.02000</td>\n",
              "      <td>92.20000</td>\n",
              "      <td>88.80000</td>\n",
              "      <td>-2.63000</td>\n",
              "      <td>...</td>\n",
              "      <td>0</td>\n",
              "      <td>0</td>\n",
              "      <td>0</td>\n",
              "      <td>0</td>\n",
              "      <td>0</td>\n",
              "      <td>0</td>\n",
              "      <td>0</td>\n",
              "      <td>0</td>\n",
              "      <td>0</td>\n",
              "      <td>1</td>\n",
              "    </tr>\n",
              "    <tr>\n",
              "      <th>6</th>\n",
              "      <td>2010-01-19</td>\n",
              "      <td>90.52000</td>\n",
              "      <td>92.20000</td>\n",
              "      <td>88.80000</td>\n",
              "      <td>92.02000</td>\n",
              "      <td>268915291</td>\n",
              "      <td>90.62000</td>\n",
              "      <td>92.49000</td>\n",
              "      <td>90.42000</td>\n",
              "      <td>-1.50000</td>\n",
              "      <td>...</td>\n",
              "      <td>0</td>\n",
              "      <td>0</td>\n",
              "      <td>0</td>\n",
              "      <td>0</td>\n",
              "      <td>0</td>\n",
              "      <td>0</td>\n",
              "      <td>0</td>\n",
              "      <td>0</td>\n",
              "      <td>0</td>\n",
              "      <td>0</td>\n",
              "    </tr>\n",
              "    <tr>\n",
              "      <th>7</th>\n",
              "      <td>2010-01-20</td>\n",
              "      <td>92.02000</td>\n",
              "      <td>92.49000</td>\n",
              "      <td>90.42000</td>\n",
              "      <td>90.62000</td>\n",
              "      <td>220273259</td>\n",
              "      <td>89.18000</td>\n",
              "      <td>91.65000</td>\n",
              "      <td>88.92000</td>\n",
              "      <td>1.40000</td>\n",
              "      <td>...</td>\n",
              "      <td>0</td>\n",
              "      <td>0</td>\n",
              "      <td>0</td>\n",
              "      <td>0</td>\n",
              "      <td>0</td>\n",
              "      <td>0</td>\n",
              "      <td>0</td>\n",
              "      <td>0</td>\n",
              "      <td>0</td>\n",
              "      <td>0</td>\n",
              "    </tr>\n",
              "    <tr>\n",
              "      <th>8</th>\n",
              "      <td>2010-01-21</td>\n",
              "      <td>91.26000</td>\n",
              "      <td>91.65000</td>\n",
              "      <td>88.92000</td>\n",
              "      <td>89.18000</td>\n",
              "      <td>219353508</td>\n",
              "      <td>86.50000</td>\n",
              "      <td>89.06000</td>\n",
              "      <td>85.75000</td>\n",
              "      <td>2.08000</td>\n",
              "      <td>...</td>\n",
              "      <td>0</td>\n",
              "      <td>0</td>\n",
              "      <td>0</td>\n",
              "      <td>0</td>\n",
              "      <td>0</td>\n",
              "      <td>0</td>\n",
              "      <td>0</td>\n",
              "      <td>0</td>\n",
              "      <td>0</td>\n",
              "      <td>0</td>\n",
              "    </tr>\n",
              "    <tr>\n",
              "      <th>9</th>\n",
              "      <td>2010-01-22</td>\n",
              "      <td>88.46000</td>\n",
              "      <td>89.06000</td>\n",
              "      <td>85.75000</td>\n",
              "      <td>86.50000</td>\n",
              "      <td>221223200</td>\n",
              "      <td>88.07000</td>\n",
              "      <td>88.80000</td>\n",
              "      <td>85.33000</td>\n",
              "      <td>1.96000</td>\n",
              "      <td>...</td>\n",
              "      <td>0</td>\n",
              "      <td>0</td>\n",
              "      <td>0</td>\n",
              "      <td>0</td>\n",
              "      <td>0</td>\n",
              "      <td>0</td>\n",
              "      <td>0</td>\n",
              "      <td>0</td>\n",
              "      <td>0</td>\n",
              "      <td>1</td>\n",
              "    </tr>\n",
              "  </tbody>\n",
              "</table>\n",
              "<p>5 rows × 69 columns</p>\n",
              "</div>\n",
              "      <button class=\"colab-df-convert\" onclick=\"convertToInteractive('df-9a210407-219d-490f-b70b-ca335fd24b73')\"\n",
              "              title=\"Convert this dataframe to an interactive table.\"\n",
              "              style=\"display:none;\">\n",
              "        \n",
              "  <svg xmlns=\"http://www.w3.org/2000/svg\" height=\"24px\"viewBox=\"0 0 24 24\"\n",
              "       width=\"24px\">\n",
              "    <path d=\"M0 0h24v24H0V0z\" fill=\"none\"/>\n",
              "    <path d=\"M18.56 5.44l.94 2.06.94-2.06 2.06-.94-2.06-.94-.94-2.06-.94 2.06-2.06.94zm-11 1L8.5 8.5l.94-2.06 2.06-.94-2.06-.94L8.5 2.5l-.94 2.06-2.06.94zm10 10l.94 2.06.94-2.06 2.06-.94-2.06-.94-.94-2.06-.94 2.06-2.06.94z\"/><path d=\"M17.41 7.96l-1.37-1.37c-.4-.4-.92-.59-1.43-.59-.52 0-1.04.2-1.43.59L10.3 9.45l-7.72 7.72c-.78.78-.78 2.05 0 2.83L4 21.41c.39.39.9.59 1.41.59.51 0 1.02-.2 1.41-.59l7.78-7.78 2.81-2.81c.8-.78.8-2.07 0-2.86zM5.41 20L4 18.59l7.72-7.72 1.47 1.35L5.41 20z\"/>\n",
              "  </svg>\n",
              "      </button>\n",
              "      \n",
              "  <style>\n",
              "    .colab-df-container {\n",
              "      display:flex;\n",
              "      flex-wrap:wrap;\n",
              "      gap: 12px;\n",
              "    }\n",
              "\n",
              "    .colab-df-convert {\n",
              "      background-color: #E8F0FE;\n",
              "      border: none;\n",
              "      border-radius: 50%;\n",
              "      cursor: pointer;\n",
              "      display: none;\n",
              "      fill: #1967D2;\n",
              "      height: 32px;\n",
              "      padding: 0 0 0 0;\n",
              "      width: 32px;\n",
              "    }\n",
              "\n",
              "    .colab-df-convert:hover {\n",
              "      background-color: #E2EBFA;\n",
              "      box-shadow: 0px 1px 2px rgba(60, 64, 67, 0.3), 0px 1px 3px 1px rgba(60, 64, 67, 0.15);\n",
              "      fill: #174EA6;\n",
              "    }\n",
              "\n",
              "    [theme=dark] .colab-df-convert {\n",
              "      background-color: #3B4455;\n",
              "      fill: #D2E3FC;\n",
              "    }\n",
              "\n",
              "    [theme=dark] .colab-df-convert:hover {\n",
              "      background-color: #434B5C;\n",
              "      box-shadow: 0px 1px 3px 1px rgba(0, 0, 0, 0.15);\n",
              "      filter: drop-shadow(0px 1px 2px rgba(0, 0, 0, 0.3));\n",
              "      fill: #FFFFFF;\n",
              "    }\n",
              "  </style>\n",
              "\n",
              "      <script>\n",
              "        const buttonEl =\n",
              "          document.querySelector('#df-9a210407-219d-490f-b70b-ca335fd24b73 button.colab-df-convert');\n",
              "        buttonEl.style.display =\n",
              "          google.colab.kernel.accessAllowed ? 'block' : 'none';\n",
              "\n",
              "        async function convertToInteractive(key) {\n",
              "          const element = document.querySelector('#df-9a210407-219d-490f-b70b-ca335fd24b73');\n",
              "          const dataTable =\n",
              "            await google.colab.kernel.invokeFunction('convertToInteractive',\n",
              "                                                     [key], {});\n",
              "          if (!dataTable) return;\n",
              "\n",
              "          const docLinkHtml = 'Like what you see? Visit the ' +\n",
              "            '<a target=\"_blank\" href=https://colab.research.google.com/notebooks/data_table.ipynb>data table notebook</a>'\n",
              "            + ' to learn more about interactive tables.';\n",
              "          element.innerHTML = '';\n",
              "          dataTable['output_type'] = 'display_data';\n",
              "          await google.colab.output.renderOutput(dataTable, element);\n",
              "          const docLink = document.createElement('div');\n",
              "          docLink.innerHTML = docLinkHtml;\n",
              "          element.appendChild(docLink);\n",
              "        }\n",
              "      </script>\n",
              "    </div>\n",
              "  </div>\n",
              "  "
            ]
          },
          "metadata": {},
          "execution_count": 113
        }
      ]
    },
    {
      "cell_type": "code",
      "execution_count": 114,
      "metadata": {
        "id": "ACSEcF3YMxzx",
        "colab": {
          "base_uri": "https://localhost:8080/"
        },
        "outputId": "5a45da7f-10c8-4657-d7bc-ec65bba39247"
      },
      "outputs": [
        {
          "output_type": "execute_result",
          "data": {
            "text/plain": [
              "0    1709\n",
              "1    1613\n",
              "Name: TARGET_UP_DOWN, dtype: int64"
            ]
          },
          "metadata": {},
          "execution_count": 114
        }
      ],
      "source": [
        "data2.TARGET_UP_DOWN.value_counts()"
      ],
      "id": "ACSEcF3YMxzx"
    },
    {
      "cell_type": "markdown",
      "metadata": {
        "id": "PJTNgTwJMxzy"
      },
      "source": [
        "Закрытий по обе стороны примерно одинаковое количество."
      ],
      "id": "PJTNgTwJMxzy"
    },
    {
      "cell_type": "code",
      "execution_count": 115,
      "metadata": {
        "id": "jc7WuD21Mxzz"
      },
      "outputs": [],
      "source": [
        "# предикторы\n",
        "X = data2.drop(columns=['DATE', 'TARGET_CLOSE', 'TARGET_HIGH', 'TARGET_LOW',  'TARGET_UP_DOWN'])\n",
        "# целевой признак\n",
        "y = data2['TARGET_UP_DOWN']\n",
        "\n",
        "# разделим на трейн и тест без перемешивания\n",
        "# учимся на более ранних данных, тестируем на более поздних\n",
        "X_train, X_test, y_train, y_test = train_test_split(X, y, test_size=0.3, shuffle=False)"
      ],
      "id": "jc7WuD21Mxzz"
    },
    {
      "cell_type": "code",
      "execution_count": 116,
      "metadata": {
        "id": "0V1ut-lCMxz0"
      },
      "outputs": [],
      "source": [
        "cls_models = [\n",
        "            LogisticRegression(random_state=10),\n",
        "            RandomForestClassifier (random_state=10),\n",
        "            LinearDiscriminantAnalysis(),\n",
        "            KNeighborsClassifier(),\n",
        "            GaussianNB(),\n",
        "            SVC(random_state=10),\n",
        "            GradientBoostingClassifier(random_state=10),\n",
        "            LGBMClassifier(random_state=10),\n",
        "            XGBClassifier(random_state=10)\n",
        "            ]"
      ],
      "id": "0V1ut-lCMxz0"
    },
    {
      "cell_type": "code",
      "execution_count": 117,
      "metadata": {
        "id": "Uf2qAar8Mxz0",
        "colab": {
          "base_uri": "https://localhost:8080/",
          "height": 661
        },
        "outputId": "c9e521a4-dd00-413c-ee8a-9631c3a11b81"
      },
      "outputs": [
        {
          "output_type": "stream",
          "name": "stdout",
          "text": [
            "LogisticRegression(random_state=10)..........Ok\n",
            "RandomForestClassifier(random_state=10)..........Ok\n",
            "LinearDiscriminantAnalysis()..........Ok\n",
            "KNeighborsClassifier()..........Ok\n",
            "GaussianNB()..........Ok\n",
            "SVC(random_state=10)..........Ok\n",
            "GradientBoostingClassifier(random_state=10)..........Ok\n",
            "LGBMClassifier(random_state=10)..........Ok\n",
            "XGBClassifier(base_score=None, booster=None, callbacks=None,\n",
            "              colsample_bylevel=None, colsample_bynode=None,\n",
            "              colsample_bytree=None, early_stopping_rounds=None,\n",
            "              enable_categorical=False, eval_metric=None, feature_types=None,\n",
            "              gamma=None, gpu_id=None, grow_policy=None, importance_type=None,\n",
            "              interaction_constraints=None, learning_rate=None, max_bin=None,\n",
            "              max_cat_threshold=None, max_cat_to_onehot=None,\n",
            "              max_delta_step=None, max_depth=None, max_leaves=None,\n",
            "              min_child_weight=None, missing=nan, monotone_constraints=None,\n",
            "              n_estimators=100, n_jobs=None, num_parallel_tree=None,\n",
            "              predictor=None, random_state=10, ...)..........Ok\n"
          ]
        },
        {
          "output_type": "execute_result",
          "data": {
            "text/plain": [
              "                                               model     acc\n",
              "0                LogisticRegression(random_state=10) 0.49598\n",
              "1  (DecisionTreeClassifier(max_features='sqrt', r... 0.50703\n",
              "2                       LinearDiscriminantAnalysis() 0.52309\n",
              "3                             KNeighborsClassifier() 0.50602\n",
              "4                                       GaussianNB() 0.50803\n",
              "5                               SVC(random_state=10) 0.50803\n",
              "6  ([DecisionTreeRegressor(criterion='friedman_ms... 0.51908\n",
              "7                    LGBMClassifier(random_state=10) 0.54819\n",
              "8  XGBClassifier(base_score=None, booster=None, c... 0.52711"
            ],
            "text/html": [
              "\n",
              "  <div id=\"df-bf4cf6a3-697e-4c8a-950a-6bb2898b125a\">\n",
              "    <div class=\"colab-df-container\">\n",
              "      <div>\n",
              "<style scoped>\n",
              "    .dataframe tbody tr th:only-of-type {\n",
              "        vertical-align: middle;\n",
              "    }\n",
              "\n",
              "    .dataframe tbody tr th {\n",
              "        vertical-align: top;\n",
              "    }\n",
              "\n",
              "    .dataframe thead th {\n",
              "        text-align: right;\n",
              "    }\n",
              "</style>\n",
              "<table border=\"1\" class=\"dataframe\">\n",
              "  <thead>\n",
              "    <tr style=\"text-align: right;\">\n",
              "      <th></th>\n",
              "      <th>model</th>\n",
              "      <th>acc</th>\n",
              "    </tr>\n",
              "  </thead>\n",
              "  <tbody>\n",
              "    <tr>\n",
              "      <th>0</th>\n",
              "      <td>LogisticRegression(random_state=10)</td>\n",
              "      <td>0.49598</td>\n",
              "    </tr>\n",
              "    <tr>\n",
              "      <th>1</th>\n",
              "      <td>(DecisionTreeClassifier(max_features='sqrt', r...</td>\n",
              "      <td>0.50703</td>\n",
              "    </tr>\n",
              "    <tr>\n",
              "      <th>2</th>\n",
              "      <td>LinearDiscriminantAnalysis()</td>\n",
              "      <td>0.52309</td>\n",
              "    </tr>\n",
              "    <tr>\n",
              "      <th>3</th>\n",
              "      <td>KNeighborsClassifier()</td>\n",
              "      <td>0.50602</td>\n",
              "    </tr>\n",
              "    <tr>\n",
              "      <th>4</th>\n",
              "      <td>GaussianNB()</td>\n",
              "      <td>0.50803</td>\n",
              "    </tr>\n",
              "    <tr>\n",
              "      <th>5</th>\n",
              "      <td>SVC(random_state=10)</td>\n",
              "      <td>0.50803</td>\n",
              "    </tr>\n",
              "    <tr>\n",
              "      <th>6</th>\n",
              "      <td>([DecisionTreeRegressor(criterion='friedman_ms...</td>\n",
              "      <td>0.51908</td>\n",
              "    </tr>\n",
              "    <tr>\n",
              "      <th>7</th>\n",
              "      <td>LGBMClassifier(random_state=10)</td>\n",
              "      <td>0.54819</td>\n",
              "    </tr>\n",
              "    <tr>\n",
              "      <th>8</th>\n",
              "      <td>XGBClassifier(base_score=None, booster=None, c...</td>\n",
              "      <td>0.52711</td>\n",
              "    </tr>\n",
              "  </tbody>\n",
              "</table>\n",
              "</div>\n",
              "      <button class=\"colab-df-convert\" onclick=\"convertToInteractive('df-bf4cf6a3-697e-4c8a-950a-6bb2898b125a')\"\n",
              "              title=\"Convert this dataframe to an interactive table.\"\n",
              "              style=\"display:none;\">\n",
              "        \n",
              "  <svg xmlns=\"http://www.w3.org/2000/svg\" height=\"24px\"viewBox=\"0 0 24 24\"\n",
              "       width=\"24px\">\n",
              "    <path d=\"M0 0h24v24H0V0z\" fill=\"none\"/>\n",
              "    <path d=\"M18.56 5.44l.94 2.06.94-2.06 2.06-.94-2.06-.94-.94-2.06-.94 2.06-2.06.94zm-11 1L8.5 8.5l.94-2.06 2.06-.94-2.06-.94L8.5 2.5l-.94 2.06-2.06.94zm10 10l.94 2.06.94-2.06 2.06-.94-2.06-.94-.94-2.06-.94 2.06-2.06.94z\"/><path d=\"M17.41 7.96l-1.37-1.37c-.4-.4-.92-.59-1.43-.59-.52 0-1.04.2-1.43.59L10.3 9.45l-7.72 7.72c-.78.78-.78 2.05 0 2.83L4 21.41c.39.39.9.59 1.41.59.51 0 1.02-.2 1.41-.59l7.78-7.78 2.81-2.81c.8-.78.8-2.07 0-2.86zM5.41 20L4 18.59l7.72-7.72 1.47 1.35L5.41 20z\"/>\n",
              "  </svg>\n",
              "      </button>\n",
              "      \n",
              "  <style>\n",
              "    .colab-df-container {\n",
              "      display:flex;\n",
              "      flex-wrap:wrap;\n",
              "      gap: 12px;\n",
              "    }\n",
              "\n",
              "    .colab-df-convert {\n",
              "      background-color: #E8F0FE;\n",
              "      border: none;\n",
              "      border-radius: 50%;\n",
              "      cursor: pointer;\n",
              "      display: none;\n",
              "      fill: #1967D2;\n",
              "      height: 32px;\n",
              "      padding: 0 0 0 0;\n",
              "      width: 32px;\n",
              "    }\n",
              "\n",
              "    .colab-df-convert:hover {\n",
              "      background-color: #E2EBFA;\n",
              "      box-shadow: 0px 1px 2px rgba(60, 64, 67, 0.3), 0px 1px 3px 1px rgba(60, 64, 67, 0.15);\n",
              "      fill: #174EA6;\n",
              "    }\n",
              "\n",
              "    [theme=dark] .colab-df-convert {\n",
              "      background-color: #3B4455;\n",
              "      fill: #D2E3FC;\n",
              "    }\n",
              "\n",
              "    [theme=dark] .colab-df-convert:hover {\n",
              "      background-color: #434B5C;\n",
              "      box-shadow: 0px 1px 3px 1px rgba(0, 0, 0, 0.15);\n",
              "      filter: drop-shadow(0px 1px 2px rgba(0, 0, 0, 0.3));\n",
              "      fill: #FFFFFF;\n",
              "    }\n",
              "  </style>\n",
              "\n",
              "      <script>\n",
              "        const buttonEl =\n",
              "          document.querySelector('#df-bf4cf6a3-697e-4c8a-950a-6bb2898b125a button.colab-df-convert');\n",
              "        buttonEl.style.display =\n",
              "          google.colab.kernel.accessAllowed ? 'block' : 'none';\n",
              "\n",
              "        async function convertToInteractive(key) {\n",
              "          const element = document.querySelector('#df-bf4cf6a3-697e-4c8a-950a-6bb2898b125a');\n",
              "          const dataTable =\n",
              "            await google.colab.kernel.invokeFunction('convertToInteractive',\n",
              "                                                     [key], {});\n",
              "          if (!dataTable) return;\n",
              "\n",
              "          const docLinkHtml = 'Like what you see? Visit the ' +\n",
              "            '<a target=\"_blank\" href=https://colab.research.google.com/notebooks/data_table.ipynb>data table notebook</a>'\n",
              "            + ' to learn more about interactive tables.';\n",
              "          element.innerHTML = '';\n",
              "          dataTable['output_type'] = 'display_data';\n",
              "          await google.colab.output.renderOutput(dataTable, element);\n",
              "          const docLink = document.createElement('div');\n",
              "          docLink.innerHTML = docLinkHtml;\n",
              "          element.appendChild(docLink);\n",
              "        }\n",
              "      </script>\n",
              "    </div>\n",
              "  </div>\n",
              "  "
            ]
          },
          "metadata": {},
          "execution_count": 117
        }
      ],
      "source": [
        "# для записи метрик качества (будем считать accuracy) моделей\n",
        "cls_models_metrics = pd.DataFrame(columns=['model', 'acc'])\n",
        "\n",
        "for i, model in enumerate(cls_models):\n",
        "    print(model, end = '..........')\n",
        "    model.fit(X_train, y_train)\n",
        "    y_pred = model.predict(X_test)    \n",
        "    acc_ = acc (y_test[:-1], y_pred[:-1])\n",
        "    cls_models_metrics.loc[len(cls_models_metrics.index)] = [model, acc_]\n",
        "    #models_close[f'close_pred_{i}'] = y_pred\n",
        "    print('Ok')\n",
        "cls_models_metrics  "
      ],
      "id": "Uf2qAar8Mxz0"
    },
    {
      "cell_type": "markdown",
      "metadata": {
        "id": "w1IycGKDMxz0"
      },
      "source": [
        "Метрика accuracy чуть-чуть превышает 0,5. Предсказывать получается чуть лучше, чем случайно.\\\n",
        "Посмотроим roc-кривую для одной из моделей."
      ],
      "id": "w1IycGKDMxz0"
    },
    {
      "cell_type": "code",
      "execution_count": 118,
      "metadata": {
        "id": "-Vlv_Gf4Mxz0",
        "colab": {
          "base_uri": "https://localhost:8080/",
          "height": 74
        },
        "outputId": "340b4fb1-bdd0-4d10-9a8f-72296cdb2625"
      },
      "outputs": [
        {
          "output_type": "execute_result",
          "data": {
            "text/plain": [
              "LGBMClassifier(random_state=10)"
            ],
            "text/html": [
              "<style>#sk-container-id-4 {color: black;background-color: white;}#sk-container-id-4 pre{padding: 0;}#sk-container-id-4 div.sk-toggleable {background-color: white;}#sk-container-id-4 label.sk-toggleable__label {cursor: pointer;display: block;width: 100%;margin-bottom: 0;padding: 0.3em;box-sizing: border-box;text-align: center;}#sk-container-id-4 label.sk-toggleable__label-arrow:before {content: \"▸\";float: left;margin-right: 0.25em;color: #696969;}#sk-container-id-4 label.sk-toggleable__label-arrow:hover:before {color: black;}#sk-container-id-4 div.sk-estimator:hover label.sk-toggleable__label-arrow:before {color: black;}#sk-container-id-4 div.sk-toggleable__content {max-height: 0;max-width: 0;overflow: hidden;text-align: left;background-color: #f0f8ff;}#sk-container-id-4 div.sk-toggleable__content pre {margin: 0.2em;color: black;border-radius: 0.25em;background-color: #f0f8ff;}#sk-container-id-4 input.sk-toggleable__control:checked~div.sk-toggleable__content {max-height: 200px;max-width: 100%;overflow: auto;}#sk-container-id-4 input.sk-toggleable__control:checked~label.sk-toggleable__label-arrow:before {content: \"▾\";}#sk-container-id-4 div.sk-estimator input.sk-toggleable__control:checked~label.sk-toggleable__label {background-color: #d4ebff;}#sk-container-id-4 div.sk-label input.sk-toggleable__control:checked~label.sk-toggleable__label {background-color: #d4ebff;}#sk-container-id-4 input.sk-hidden--visually {border: 0;clip: rect(1px 1px 1px 1px);clip: rect(1px, 1px, 1px, 1px);height: 1px;margin: -1px;overflow: hidden;padding: 0;position: absolute;width: 1px;}#sk-container-id-4 div.sk-estimator {font-family: monospace;background-color: #f0f8ff;border: 1px dotted black;border-radius: 0.25em;box-sizing: border-box;margin-bottom: 0.5em;}#sk-container-id-4 div.sk-estimator:hover {background-color: #d4ebff;}#sk-container-id-4 div.sk-parallel-item::after {content: \"\";width: 100%;border-bottom: 1px solid gray;flex-grow: 1;}#sk-container-id-4 div.sk-label:hover label.sk-toggleable__label {background-color: #d4ebff;}#sk-container-id-4 div.sk-serial::before {content: \"\";position: absolute;border-left: 1px solid gray;box-sizing: border-box;top: 0;bottom: 0;left: 50%;z-index: 0;}#sk-container-id-4 div.sk-serial {display: flex;flex-direction: column;align-items: center;background-color: white;padding-right: 0.2em;padding-left: 0.2em;position: relative;}#sk-container-id-4 div.sk-item {position: relative;z-index: 1;}#sk-container-id-4 div.sk-parallel {display: flex;align-items: stretch;justify-content: center;background-color: white;position: relative;}#sk-container-id-4 div.sk-item::before, #sk-container-id-4 div.sk-parallel-item::before {content: \"\";position: absolute;border-left: 1px solid gray;box-sizing: border-box;top: 0;bottom: 0;left: 50%;z-index: -1;}#sk-container-id-4 div.sk-parallel-item {display: flex;flex-direction: column;z-index: 1;position: relative;background-color: white;}#sk-container-id-4 div.sk-parallel-item:first-child::after {align-self: flex-end;width: 50%;}#sk-container-id-4 div.sk-parallel-item:last-child::after {align-self: flex-start;width: 50%;}#sk-container-id-4 div.sk-parallel-item:only-child::after {width: 0;}#sk-container-id-4 div.sk-dashed-wrapped {border: 1px dashed gray;margin: 0 0.4em 0.5em 0.4em;box-sizing: border-box;padding-bottom: 0.4em;background-color: white;}#sk-container-id-4 div.sk-label label {font-family: monospace;font-weight: bold;display: inline-block;line-height: 1.2em;}#sk-container-id-4 div.sk-label-container {text-align: center;}#sk-container-id-4 div.sk-container {/* jupyter's `normalize.less` sets `[hidden] { display: none; }` but bootstrap.min.css set `[hidden] { display: none !important; }` so we also need the `!important` here to be able to override the default hidden behavior on the sphinx rendered scikit-learn.org. See: https://github.com/scikit-learn/scikit-learn/issues/21755 */display: inline-block !important;position: relative;}#sk-container-id-4 div.sk-text-repr-fallback {display: none;}</style><div id=\"sk-container-id-4\" class=\"sk-top-container\"><div class=\"sk-text-repr-fallback\"><pre>LGBMClassifier(random_state=10)</pre><b>In a Jupyter environment, please rerun this cell to show the HTML representation or trust the notebook. <br />On GitHub, the HTML representation is unable to render, please try loading this page with nbviewer.org.</b></div><div class=\"sk-container\" hidden><div class=\"sk-item\"><div class=\"sk-estimator sk-toggleable\"><input class=\"sk-toggleable__control sk-hidden--visually\" id=\"sk-estimator-id-4\" type=\"checkbox\" checked><label for=\"sk-estimator-id-4\" class=\"sk-toggleable__label sk-toggleable__label-arrow\">LGBMClassifier</label><div class=\"sk-toggleable__content\"><pre>LGBMClassifier(random_state=10)</pre></div></div></div></div></div>"
            ]
          },
          "metadata": {},
          "execution_count": 118
        }
      ],
      "source": [
        "clf = LGBMClassifier(random_state=10)\n",
        "clf.fit(X_train, y_train)"
      ],
      "id": "-Vlv_Gf4Mxz0"
    },
    {
      "cell_type": "code",
      "execution_count": 119,
      "metadata": {
        "id": "ATreYNX8Mxz0",
        "colab": {
          "base_uri": "https://localhost:8080/",
          "height": 466
        },
        "outputId": "3a41fe85-a655-493b-c52b-457bb110fc02"
      },
      "outputs": [
        {
          "output_type": "execute_result",
          "data": {
            "text/plain": [
              "<sklearn.metrics._plot.roc_curve.RocCurveDisplay at 0x7faa3118a3e0>"
            ]
          },
          "metadata": {},
          "execution_count": 119
        },
        {
          "output_type": "display_data",
          "data": {
            "text/plain": [
              "<Figure size 640x480 with 1 Axes>"
            ],
            "image/png": "[encoded data removed]"
          },
          "metadata": {}
        }
      ],
      "source": [
        "RocCurveDisplay.from_estimator(clf, X_test, y_test)"
      ],
      "id": "ATreYNX8Mxz0"
    },
    {
      "cell_type": "code",
      "source": [],
      "metadata": {
        "id": "VcBxigcMGjSM"
      },
      "execution_count": 39,
      "outputs": [],
      "id": "VcBxigcMGjSM"
    },
    {
      "cell_type": "code",
      "source": [],
      "metadata": {
        "id": "z0zC25EzXBTt"
      },
      "id": "z0zC25EzXBTt",
      "execution_count": 39,
      "outputs": []
    },
    {
      "cell_type": "code",
      "source": [],
      "metadata": {
        "id": "tbwYfbIZha1s"
      },
      "id": "tbwYfbIZha1s",
      "execution_count": 39,
      "outputs": []
    }
  ],
  "metadata": {
    "kernelspec": {
      "display_name": "Python 3",
      "language": "python",
      "name": "python3"
    },
    "language_info": {
      "codemirror_mode": {
        "name": "ipython",
        "version": 3
      },
      "file_extension": ".py",
      "mimetype": "text/x-python",
      "name": "python",
      "nbconvert_exporter": "python",
      "pygments_lexer": "ipython3",
      "version": "3.8.5"
    },
    "colab": {
      "provenance": [],
      "toc_visible": true
    }
  },
  "nbformat": 4,
  "nbformat_minor": 5
}