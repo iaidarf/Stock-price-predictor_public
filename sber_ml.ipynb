{
  "cells": [
    {
      "cell_type": "markdown",
      "source": [
        "В этом блоке обучаю модель на предсказание цен закрытия, максимальную и минимальную по акциям SBER.\n"
      ],
      "metadata": {
        "id": "wEeVtn3drcPu"
      },
      "id": "wEeVtn3drcPu"
    },
    {
      "cell_type": "markdown",
      "metadata": {
        "id": "xu8erJBYMxzn"
      },
      "source": [
        "# Загрузка библиотек"
      ],
      "id": "xu8erJBYMxzn"
    },
    {
      "cell_type": "code",
      "execution_count": 19,
      "metadata": {
        "id": "UoS--QzwMxzs"
      },
      "outputs": [],
      "source": [
        "# данные\n",
        "import pandas as pd\n",
        "pd.set_option('display.float_format', lambda x: '%.3f' % x)\n",
        "import math\n",
        "\n",
        "# подготовка данных\n",
        "from sklearn.model_selection import train_test_split\n",
        "\n",
        "# метрики\n",
        "from sklearn.metrics import mean_absolute_percentage_error as mape\n",
        "\n",
        "# отбор признаков\n",
        "from sklearn.feature_selection import SelectKBest\n",
        "from sklearn.feature_selection import f_regression\n",
        "\n",
        "# регресия\n",
        "from sklearn.linear_model import LinearRegression\n",
        "\n",
        "# сохранение/загрузка модели\n",
        "from joblib import dump, load"
      ],
      "id": "UoS--QzwMxzs"
    },
    {
      "cell_type": "markdown",
      "metadata": {
        "id": "gEMOGhZwMxzt"
      },
      "source": [
        "# Загрузка и анализ данных"
      ],
      "id": "gEMOGhZwMxzt"
    },
    {
      "cell_type": "code",
      "execution_count": 4,
      "metadata": {
        "id": "lC0ntklZMxzu",
        "colab": {
          "base_uri": "https://localhost:8080/",
          "height": 112
        },
        "outputId": "16e9cc74-a028-4912-be07-eeea320ec920"
      },
      "outputs": [
        {
          "output_type": "execute_result",
          "data": {
            "text/plain": [
              "      <DATE>  <OPEN>  <HIGH>  <LOW>  <CLOSE>      <VOL>\n",
              "0 2010-01-11  86.560  88.170 85.510   86.690  148661237\n",
              "1 2010-01-12  86.550  86.770 84.900   85.000  130276079"
            ],
            "text/html": [
              "\n",
              "  <div id=\"df-767fb310-9b22-4373-8dc4-a4882fa12aea\">\n",
              "    <div class=\"colab-df-container\">\n",
              "      <div>\n",
              "<style scoped>\n",
              "    .dataframe tbody tr th:only-of-type {\n",
              "        vertical-align: middle;\n",
              "    }\n",
              "\n",
              "    .dataframe tbody tr th {\n",
              "        vertical-align: top;\n",
              "    }\n",
              "\n",
              "    .dataframe thead th {\n",
              "        text-align: right;\n",
              "    }\n",
              "</style>\n",
              "<table border=\"1\" class=\"dataframe\">\n",
              "  <thead>\n",
              "    <tr style=\"text-align: right;\">\n",
              "      <th></th>\n",
              "      <th>&lt;DATE&gt;</th>\n",
              "      <th>&lt;OPEN&gt;</th>\n",
              "      <th>&lt;HIGH&gt;</th>\n",
              "      <th>&lt;LOW&gt;</th>\n",
              "      <th>&lt;CLOSE&gt;</th>\n",
              "      <th>&lt;VOL&gt;</th>\n",
              "    </tr>\n",
              "  </thead>\n",
              "  <tbody>\n",
              "    <tr>\n",
              "      <th>0</th>\n",
              "      <td>2010-01-11</td>\n",
              "      <td>86.560</td>\n",
              "      <td>88.170</td>\n",
              "      <td>85.510</td>\n",
              "      <td>86.690</td>\n",
              "      <td>148661237</td>\n",
              "    </tr>\n",
              "    <tr>\n",
              "      <th>1</th>\n",
              "      <td>2010-01-12</td>\n",
              "      <td>86.550</td>\n",
              "      <td>86.770</td>\n",
              "      <td>84.900</td>\n",
              "      <td>85.000</td>\n",
              "      <td>130276079</td>\n",
              "    </tr>\n",
              "  </tbody>\n",
              "</table>\n",
              "</div>\n",
              "      <button class=\"colab-df-convert\" onclick=\"convertToInteractive('df-767fb310-9b22-4373-8dc4-a4882fa12aea')\"\n",
              "              title=\"Convert this dataframe to an interactive table.\"\n",
              "              style=\"display:none;\">\n",
              "        \n",
              "  <svg xmlns=\"http://www.w3.org/2000/svg\" height=\"24px\"viewBox=\"0 0 24 24\"\n",
              "       width=\"24px\">\n",
              "    <path d=\"M0 0h24v24H0V0z\" fill=\"none\"/>\n",
              "    <path d=\"M18.56 5.44l.94 2.06.94-2.06 2.06-.94-2.06-.94-.94-2.06-.94 2.06-2.06.94zm-11 1L8.5 8.5l.94-2.06 2.06-.94-2.06-.94L8.5 2.5l-.94 2.06-2.06.94zm10 10l.94 2.06.94-2.06 2.06-.94-2.06-.94-.94-2.06-.94 2.06-2.06.94z\"/><path d=\"M17.41 7.96l-1.37-1.37c-.4-.4-.92-.59-1.43-.59-.52 0-1.04.2-1.43.59L10.3 9.45l-7.72 7.72c-.78.78-.78 2.05 0 2.83L4 21.41c.39.39.9.59 1.41.59.51 0 1.02-.2 1.41-.59l7.78-7.78 2.81-2.81c.8-.78.8-2.07 0-2.86zM5.41 20L4 18.59l7.72-7.72 1.47 1.35L5.41 20z\"/>\n",
              "  </svg>\n",
              "      </button>\n",
              "      \n",
              "  <style>\n",
              "    .colab-df-container {\n",
              "      display:flex;\n",
              "      flex-wrap:wrap;\n",
              "      gap: 12px;\n",
              "    }\n",
              "\n",
              "    .colab-df-convert {\n",
              "      background-color: #E8F0FE;\n",
              "      border: none;\n",
              "      border-radius: 50%;\n",
              "      cursor: pointer;\n",
              "      display: none;\n",
              "      fill: #1967D2;\n",
              "      height: 32px;\n",
              "      padding: 0 0 0 0;\n",
              "      width: 32px;\n",
              "    }\n",
              "\n",
              "    .colab-df-convert:hover {\n",
              "      background-color: #E2EBFA;\n",
              "      box-shadow: 0px 1px 2px rgba(60, 64, 67, 0.3), 0px 1px 3px 1px rgba(60, 64, 67, 0.15);\n",
              "      fill: #174EA6;\n",
              "    }\n",
              "\n",
              "    [theme=dark] .colab-df-convert {\n",
              "      background-color: #3B4455;\n",
              "      fill: #D2E3FC;\n",
              "    }\n",
              "\n",
              "    [theme=dark] .colab-df-convert:hover {\n",
              "      background-color: #434B5C;\n",
              "      box-shadow: 0px 1px 3px 1px rgba(0, 0, 0, 0.15);\n",
              "      filter: drop-shadow(0px 1px 2px rgba(0, 0, 0, 0.3));\n",
              "      fill: #FFFFFF;\n",
              "    }\n",
              "  </style>\n",
              "\n",
              "      <script>\n",
              "        const buttonEl =\n",
              "          document.querySelector('#df-767fb310-9b22-4373-8dc4-a4882fa12aea button.colab-df-convert');\n",
              "        buttonEl.style.display =\n",
              "          google.colab.kernel.accessAllowed ? 'block' : 'none';\n",
              "\n",
              "        async function convertToInteractive(key) {\n",
              "          const element = document.querySelector('#df-767fb310-9b22-4373-8dc4-a4882fa12aea');\n",
              "          const dataTable =\n",
              "            await google.colab.kernel.invokeFunction('convertToInteractive',\n",
              "                                                     [key], {});\n",
              "          if (!dataTable) return;\n",
              "\n",
              "          const docLinkHtml = 'Like what you see? Visit the ' +\n",
              "            '<a target=\"_blank\" href=https://colab.research.google.com/notebooks/data_table.ipynb>data table notebook</a>'\n",
              "            + ' to learn more about interactive tables.';\n",
              "          element.innerHTML = '';\n",
              "          dataTable['output_type'] = 'display_data';\n",
              "          await google.colab.output.renderOutput(dataTable, element);\n",
              "          const docLink = document.createElement('div');\n",
              "          docLink.innerHTML = docLinkHtml;\n",
              "          element.appendChild(docLink);\n",
              "        }\n",
              "      </script>\n",
              "    </div>\n",
              "  </div>\n",
              "  "
            ]
          },
          "metadata": {},
          "execution_count": 4
        }
      ],
      "source": [
        "# прочитаем файл csv с историческими данными\n",
        "parse_dates = ['<DATE>']\n",
        "data = pd.read_csv('SBER_100101_230501.csv', parse_dates=parse_dates)\n",
        "data.drop(columns=['<TICKER>', '<PER>', '<TIME>'], inplace=True)\n",
        "data.head(2)"
      ],
      "id": "lC0ntklZMxzu"
    },
    {
      "cell_type": "code",
      "execution_count": 5,
      "metadata": {
        "id": "4CfJo_lEMxzu"
      },
      "outputs": [],
      "source": [
        "# переименуем названия признаков в более удобные\n",
        "data.rename(columns={'<TICKER>':'TICKER', '<DATE>':'DATE', '<OPEN>':'OPEN', '<HIGH>':'HIGH', \n",
        "                     '<LOW>':'LOW', '<CLOSE>':'CLOSE', '<VOL>':'VOL'}, inplace=True)"
      ],
      "id": "4CfJo_lEMxzu"
    },
    {
      "cell_type": "code",
      "execution_count": 6,
      "metadata": {
        "id": "Ke5ZP4TUMxzv",
        "colab": {
          "base_uri": "https://localhost:8080/"
        },
        "outputId": "cc47ded1-f432-4c59-90c6-03ecfdc19db7"
      },
      "outputs": [
        {
          "output_type": "stream",
          "name": "stdout",
          "text": [
            "<class 'pandas.core.frame.DataFrame'>\n",
            "RangeIndex: 3333 entries, 0 to 3332\n",
            "Data columns (total 6 columns):\n",
            " #   Column  Non-Null Count  Dtype         \n",
            "---  ------  --------------  -----         \n",
            " 0   DATE    3333 non-null   datetime64[ns]\n",
            " 1   OPEN    3333 non-null   float64       \n",
            " 2   HIGH    3333 non-null   float64       \n",
            " 3   LOW     3333 non-null   float64       \n",
            " 4   CLOSE   3333 non-null   float64       \n",
            " 5   VOL     3333 non-null   int64         \n",
            "dtypes: datetime64[ns](1), float64(4), int64(1)\n",
            "memory usage: 156.4 KB\n"
          ]
        }
      ],
      "source": [
        "data.info()"
      ],
      "id": "Ke5ZP4TUMxzv"
    },
    {
      "cell_type": "code",
      "source": [
        "# на сколько процентов в среднем в день \"ходит\" цена\n",
        "abs((data['OPEN'] - data['CLOSE']) / data['OPEN'] * 100).hist(bins=50)"
      ],
      "metadata": {
        "id": "hXnCfP4JZwY0",
        "colab": {
          "base_uri": "https://localhost:8080/",
          "height": 447
        },
        "outputId": "2ec1ea42-cbc4-48d5-cfbd-4c90b3f844f3"
      },
      "execution_count": 8,
      "outputs": [
        {
          "output_type": "execute_result",
          "data": {
            "text/plain": [
              "<Axes: >"
            ]
          },
          "metadata": {},
          "execution_count": 8
        },
        {
          "output_type": "display_data",
          "data": {
            "text/plain": [
              "<Figure size 640x480 with 1 Axes>"
            ],
            "image/png": "[encoded data removed]"
          },
          "metadata": {}
        }
      ],
      "id": "hXnCfP4JZwY0"
    },
    {
      "cell_type": "code",
      "source": [
        "(abs((data['OPEN'] - data['CLOSE']) / data['OPEN'] * 100)).describe()"
      ],
      "metadata": {
        "colab": {
          "base_uri": "https://localhost:8080/"
        },
        "id": "MUCdevIb9-Ou",
        "outputId": "b7683ad9-6827-4acc-f50f-118647fa81d9"
      },
      "execution_count": 9,
      "outputs": [
        {
          "output_type": "execute_result",
          "data": {
            "text/plain": [
              "count   3333.000\n",
              "mean       1.378\n",
              "std        1.467\n",
              "min        0.000\n",
              "25%        0.450\n",
              "50%        1.018\n",
              "75%        1.823\n",
              "max       29.156\n",
              "dtype: float64"
            ]
          },
          "metadata": {},
          "execution_count": 9
        }
      ],
      "id": "MUCdevIb9-Ou"
    },
    {
      "cell_type": "markdown",
      "source": [
        "## Удаление выбросов"
      ],
      "metadata": {
        "id": "0G2HE8Tqx0tv"
      },
      "id": "0G2HE8Tqx0tv"
    },
    {
      "cell_type": "code",
      "source": [
        "data.loc[(data['OPEN'] - data['CLOSE']) / data['OPEN']*100 > 10]"
      ],
      "metadata": {
        "colab": {
          "base_uri": "https://localhost:8080/",
          "height": 175
        },
        "id": "06iEXfnnx3LR",
        "outputId": "e42c2c30-7d07-4e62-8fc2-4e8c6e3aef0d"
      },
      "execution_count": 10,
      "outputs": [
        {
          "output_type": "execute_result",
          "data": {
            "text/plain": [
              "           DATE    OPEN    HIGH     LOW   CLOSE         VOL\n",
              "1240 2014-12-16  59.500  61.950  47.210  53.500   470470430\n",
              "2070 2018-04-09 255.100 255.300 205.000 213.000   249893540\n",
              "3050 2022-02-21 249.120 258.320 184.300 201.000  1084339130\n",
              "3052 2022-02-24 186.580 187.540  89.590 132.180   828329350"
            ],
            "text/html": [
              "\n",
              "  <div id=\"df-bba05783-bed8-41d6-9d55-2180cc2a2468\">\n",
              "    <div class=\"colab-df-container\">\n",
              "      <div>\n",
              "<style scoped>\n",
              "    .dataframe tbody tr th:only-of-type {\n",
              "        vertical-align: middle;\n",
              "    }\n",
              "\n",
              "    .dataframe tbody tr th {\n",
              "        vertical-align: top;\n",
              "    }\n",
              "\n",
              "    .dataframe thead th {\n",
              "        text-align: right;\n",
              "    }\n",
              "</style>\n",
              "<table border=\"1\" class=\"dataframe\">\n",
              "  <thead>\n",
              "    <tr style=\"text-align: right;\">\n",
              "      <th></th>\n",
              "      <th>DATE</th>\n",
              "      <th>OPEN</th>\n",
              "      <th>HIGH</th>\n",
              "      <th>LOW</th>\n",
              "      <th>CLOSE</th>\n",
              "      <th>VOL</th>\n",
              "    </tr>\n",
              "  </thead>\n",
              "  <tbody>\n",
              "    <tr>\n",
              "      <th>1240</th>\n",
              "      <td>2014-12-16</td>\n",
              "      <td>59.500</td>\n",
              "      <td>61.950</td>\n",
              "      <td>47.210</td>\n",
              "      <td>53.500</td>\n",
              "      <td>470470430</td>\n",
              "    </tr>\n",
              "    <tr>\n",
              "      <th>2070</th>\n",
              "      <td>2018-04-09</td>\n",
              "      <td>255.100</td>\n",
              "      <td>255.300</td>\n",
              "      <td>205.000</td>\n",
              "      <td>213.000</td>\n",
              "      <td>249893540</td>\n",
              "    </tr>\n",
              "    <tr>\n",
              "      <th>3050</th>\n",
              "      <td>2022-02-21</td>\n",
              "      <td>249.120</td>\n",
              "      <td>258.320</td>\n",
              "      <td>184.300</td>\n",
              "      <td>201.000</td>\n",
              "      <td>1084339130</td>\n",
              "    </tr>\n",
              "    <tr>\n",
              "      <th>3052</th>\n",
              "      <td>2022-02-24</td>\n",
              "      <td>186.580</td>\n",
              "      <td>187.540</td>\n",
              "      <td>89.590</td>\n",
              "      <td>132.180</td>\n",
              "      <td>828329350</td>\n",
              "    </tr>\n",
              "  </tbody>\n",
              "</table>\n",
              "</div>\n",
              "      <button class=\"colab-df-convert\" onclick=\"convertToInteractive('df-bba05783-bed8-41d6-9d55-2180cc2a2468')\"\n",
              "              title=\"Convert this dataframe to an interactive table.\"\n",
              "              style=\"display:none;\">\n",
              "        \n",
              "  <svg xmlns=\"http://www.w3.org/2000/svg\" height=\"24px\"viewBox=\"0 0 24 24\"\n",
              "       width=\"24px\">\n",
              "    <path d=\"M0 0h24v24H0V0z\" fill=\"none\"/>\n",
              "    <path d=\"M18.56 5.44l.94 2.06.94-2.06 2.06-.94-2.06-.94-.94-2.06-.94 2.06-2.06.94zm-11 1L8.5 8.5l.94-2.06 2.06-.94-2.06-.94L8.5 2.5l-.94 2.06-2.06.94zm10 10l.94 2.06.94-2.06 2.06-.94-2.06-.94-.94-2.06-.94 2.06-2.06.94z\"/><path d=\"M17.41 7.96l-1.37-1.37c-.4-.4-.92-.59-1.43-.59-.52 0-1.04.2-1.43.59L10.3 9.45l-7.72 7.72c-.78.78-.78 2.05 0 2.83L4 21.41c.39.39.9.59 1.41.59.51 0 1.02-.2 1.41-.59l7.78-7.78 2.81-2.81c.8-.78.8-2.07 0-2.86zM5.41 20L4 18.59l7.72-7.72 1.47 1.35L5.41 20z\"/>\n",
              "  </svg>\n",
              "      </button>\n",
              "      \n",
              "  <style>\n",
              "    .colab-df-container {\n",
              "      display:flex;\n",
              "      flex-wrap:wrap;\n",
              "      gap: 12px;\n",
              "    }\n",
              "\n",
              "    .colab-df-convert {\n",
              "      background-color: #E8F0FE;\n",
              "      border: none;\n",
              "      border-radius: 50%;\n",
              "      cursor: pointer;\n",
              "      display: none;\n",
              "      fill: #1967D2;\n",
              "      height: 32px;\n",
              "      padding: 0 0 0 0;\n",
              "      width: 32px;\n",
              "    }\n",
              "\n",
              "    .colab-df-convert:hover {\n",
              "      background-color: #E2EBFA;\n",
              "      box-shadow: 0px 1px 2px rgba(60, 64, 67, 0.3), 0px 1px 3px 1px rgba(60, 64, 67, 0.15);\n",
              "      fill: #174EA6;\n",
              "    }\n",
              "\n",
              "    [theme=dark] .colab-df-convert {\n",
              "      background-color: #3B4455;\n",
              "      fill: #D2E3FC;\n",
              "    }\n",
              "\n",
              "    [theme=dark] .colab-df-convert:hover {\n",
              "      background-color: #434B5C;\n",
              "      box-shadow: 0px 1px 3px 1px rgba(0, 0, 0, 0.15);\n",
              "      filter: drop-shadow(0px 1px 2px rgba(0, 0, 0, 0.3));\n",
              "      fill: #FFFFFF;\n",
              "    }\n",
              "  </style>\n",
              "\n",
              "      <script>\n",
              "        const buttonEl =\n",
              "          document.querySelector('#df-bba05783-bed8-41d6-9d55-2180cc2a2468 button.colab-df-convert');\n",
              "        buttonEl.style.display =\n",
              "          google.colab.kernel.accessAllowed ? 'block' : 'none';\n",
              "\n",
              "        async function convertToInteractive(key) {\n",
              "          const element = document.querySelector('#df-bba05783-bed8-41d6-9d55-2180cc2a2468');\n",
              "          const dataTable =\n",
              "            await google.colab.kernel.invokeFunction('convertToInteractive',\n",
              "                                                     [key], {});\n",
              "          if (!dataTable) return;\n",
              "\n",
              "          const docLinkHtml = 'Like what you see? Visit the ' +\n",
              "            '<a target=\"_blank\" href=https://colab.research.google.com/notebooks/data_table.ipynb>data table notebook</a>'\n",
              "            + ' to learn more about interactive tables.';\n",
              "          element.innerHTML = '';\n",
              "          dataTable['output_type'] = 'display_data';\n",
              "          await google.colab.output.renderOutput(dataTable, element);\n",
              "          const docLink = document.createElement('div');\n",
              "          docLink.innerHTML = docLinkHtml;\n",
              "          element.appendChild(docLink);\n",
              "        }\n",
              "      </script>\n",
              "    </div>\n",
              "  </div>\n",
              "  "
            ]
          },
          "metadata": {},
          "execution_count": 10
        }
      ],
      "id": "06iEXfnnx3LR"
    },
    {
      "cell_type": "code",
      "source": [
        "drop_idx = data.loc[(data['OPEN'] - data['CLOSE']) / data['OPEN']*100 > 10].index\n",
        "drop_idx"
      ],
      "metadata": {
        "colab": {
          "base_uri": "https://localhost:8080/"
        },
        "id": "_ycflSTfyohD",
        "outputId": "0b0e76f5-81d1-48e6-bbb5-6370e02b1482"
      },
      "execution_count": 11,
      "outputs": [
        {
          "output_type": "execute_result",
          "data": {
            "text/plain": [
              "Int64Index([1240, 2070, 3050, 3052], dtype='int64')"
            ]
          },
          "metadata": {},
          "execution_count": 11
        }
      ],
      "id": "_ycflSTfyohD"
    },
    {
      "cell_type": "code",
      "source": [
        "data.drop(index=drop_idx, inplace=True)\n",
        "data.info()"
      ],
      "metadata": {
        "colab": {
          "base_uri": "https://localhost:8080/"
        },
        "id": "fW9AUUw1yr4z",
        "outputId": "05c8752b-c9fa-4d98-f24e-c68788639cd6"
      },
      "execution_count": 12,
      "outputs": [
        {
          "output_type": "stream",
          "name": "stdout",
          "text": [
            "<class 'pandas.core.frame.DataFrame'>\n",
            "Int64Index: 3329 entries, 0 to 3332\n",
            "Data columns (total 6 columns):\n",
            " #   Column  Non-Null Count  Dtype         \n",
            "---  ------  --------------  -----         \n",
            " 0   DATE    3329 non-null   datetime64[ns]\n",
            " 1   OPEN    3329 non-null   float64       \n",
            " 2   HIGH    3329 non-null   float64       \n",
            " 3   LOW     3329 non-null   float64       \n",
            " 4   CLOSE   3329 non-null   float64       \n",
            " 5   VOL     3329 non-null   int64         \n",
            "dtypes: datetime64[ns](1), float64(4), int64(1)\n",
            "memory usage: 182.1 KB\n"
          ]
        }
      ],
      "id": "fW9AUUw1yr4z"
    },
    {
      "cell_type": "code",
      "source": [
        "# без выбросов\n",
        "abs((data['OPEN'] - data['CLOSE']) / data['OPEN'] * 100).hist(bins=50)"
      ],
      "metadata": {
        "colab": {
          "base_uri": "https://localhost:8080/",
          "height": 447
        },
        "id": "WJeCxTLpzEy9",
        "outputId": "5682469c-4f12-4d6f-f31a-b3ce2bbbbe96"
      },
      "execution_count": 13,
      "outputs": [
        {
          "output_type": "execute_result",
          "data": {
            "text/plain": [
              "<Axes: >"
            ]
          },
          "metadata": {},
          "execution_count": 13
        },
        {
          "output_type": "display_data",
          "data": {
            "text/plain": [
              "<Figure size 640x480 with 1 Axes>"
            ],
            "image/png": "[encoded data removed]"
          },
          "metadata": {}
        }
      ],
      "id": "WJeCxTLpzEy9"
    },
    {
      "cell_type": "code",
      "source": [],
      "metadata": {
        "id": "L2tf-ars4Hew"
      },
      "id": "L2tf-ars4Hew",
      "execution_count": null,
      "outputs": []
    },
    {
      "cell_type": "markdown",
      "metadata": {
        "id": "LGsEoEzbMxzw"
      },
      "source": [
        "# Целевой признак"
      ],
      "id": "LGsEoEzbMxzw"
    },
    {
      "cell_type": "code",
      "execution_count": 14,
      "metadata": {
        "id": "eaL6KXCDMxzx",
        "colab": {
          "base_uri": "https://localhost:8080/",
          "height": 206
        },
        "outputId": "e6613ed1-ba57-401a-9f80-7433ed14fd16"
      },
      "outputs": [
        {
          "output_type": "execute_result",
          "data": {
            "text/plain": [
              "        DATE   OPEN   HIGH    LOW  CLOSE        VOL  TARGET_CLOSE  \\\n",
              "0 2010-01-11 86.560 88.170 85.510 86.690  148661237        85.000   \n",
              "1 2010-01-12 86.550 86.770 84.900 85.000  130276079        86.610   \n",
              "2 2010-01-13 84.400 87.230 84.100 86.610  128684773        87.550   \n",
              "3 2010-01-14 87.500 87.870 86.750 87.550  111263614        88.150   \n",
              "4 2010-01-15 87.470 88.670 87.160 88.150  142060148        90.490   \n",
              "\n",
              "   TARGET_HIGH  TARGET_LOW  \n",
              "0       86.770      84.900  \n",
              "1       87.230      84.100  \n",
              "2       87.870      86.750  \n",
              "3       88.670      87.160  \n",
              "4       90.650      87.790  "
            ],
            "text/html": [
              "\n",
              "  <div id=\"df-67180b7b-01e0-407b-933a-115ad48366c2\">\n",
              "    <div class=\"colab-df-container\">\n",
              "      <div>\n",
              "<style scoped>\n",
              "    .dataframe tbody tr th:only-of-type {\n",
              "        vertical-align: middle;\n",
              "    }\n",
              "\n",
              "    .dataframe tbody tr th {\n",
              "        vertical-align: top;\n",
              "    }\n",
              "\n",
              "    .dataframe thead th {\n",
              "        text-align: right;\n",
              "    }\n",
              "</style>\n",
              "<table border=\"1\" class=\"dataframe\">\n",
              "  <thead>\n",
              "    <tr style=\"text-align: right;\">\n",
              "      <th></th>\n",
              "      <th>DATE</th>\n",
              "      <th>OPEN</th>\n",
              "      <th>HIGH</th>\n",
              "      <th>LOW</th>\n",
              "      <th>CLOSE</th>\n",
              "      <th>VOL</th>\n",
              "      <th>TARGET_CLOSE</th>\n",
              "      <th>TARGET_HIGH</th>\n",
              "      <th>TARGET_LOW</th>\n",
              "    </tr>\n",
              "  </thead>\n",
              "  <tbody>\n",
              "    <tr>\n",
              "      <th>0</th>\n",
              "      <td>2010-01-11</td>\n",
              "      <td>86.560</td>\n",
              "      <td>88.170</td>\n",
              "      <td>85.510</td>\n",
              "      <td>86.690</td>\n",
              "      <td>148661237</td>\n",
              "      <td>85.000</td>\n",
              "      <td>86.770</td>\n",
              "      <td>84.900</td>\n",
              "    </tr>\n",
              "    <tr>\n",
              "      <th>1</th>\n",
              "      <td>2010-01-12</td>\n",
              "      <td>86.550</td>\n",
              "      <td>86.770</td>\n",
              "      <td>84.900</td>\n",
              "      <td>85.000</td>\n",
              "      <td>130276079</td>\n",
              "      <td>86.610</td>\n",
              "      <td>87.230</td>\n",
              "      <td>84.100</td>\n",
              "    </tr>\n",
              "    <tr>\n",
              "      <th>2</th>\n",
              "      <td>2010-01-13</td>\n",
              "      <td>84.400</td>\n",
              "      <td>87.230</td>\n",
              "      <td>84.100</td>\n",
              "      <td>86.610</td>\n",
              "      <td>128684773</td>\n",
              "      <td>87.550</td>\n",
              "      <td>87.870</td>\n",
              "      <td>86.750</td>\n",
              "    </tr>\n",
              "    <tr>\n",
              "      <th>3</th>\n",
              "      <td>2010-01-14</td>\n",
              "      <td>87.500</td>\n",
              "      <td>87.870</td>\n",
              "      <td>86.750</td>\n",
              "      <td>87.550</td>\n",
              "      <td>111263614</td>\n",
              "      <td>88.150</td>\n",
              "      <td>88.670</td>\n",
              "      <td>87.160</td>\n",
              "    </tr>\n",
              "    <tr>\n",
              "      <th>4</th>\n",
              "      <td>2010-01-15</td>\n",
              "      <td>87.470</td>\n",
              "      <td>88.670</td>\n",
              "      <td>87.160</td>\n",
              "      <td>88.150</td>\n",
              "      <td>142060148</td>\n",
              "      <td>90.490</td>\n",
              "      <td>90.650</td>\n",
              "      <td>87.790</td>\n",
              "    </tr>\n",
              "  </tbody>\n",
              "</table>\n",
              "</div>\n",
              "      <button class=\"colab-df-convert\" onclick=\"convertToInteractive('df-67180b7b-01e0-407b-933a-115ad48366c2')\"\n",
              "              title=\"Convert this dataframe to an interactive table.\"\n",
              "              style=\"display:none;\">\n",
              "        \n",
              "  <svg xmlns=\"http://www.w3.org/2000/svg\" height=\"24px\"viewBox=\"0 0 24 24\"\n",
              "       width=\"24px\">\n",
              "    <path d=\"M0 0h24v24H0V0z\" fill=\"none\"/>\n",
              "    <path d=\"M18.56 5.44l.94 2.06.94-2.06 2.06-.94-2.06-.94-.94-2.06-.94 2.06-2.06.94zm-11 1L8.5 8.5l.94-2.06 2.06-.94-2.06-.94L8.5 2.5l-.94 2.06-2.06.94zm10 10l.94 2.06.94-2.06 2.06-.94-2.06-.94-.94-2.06-.94 2.06-2.06.94z\"/><path d=\"M17.41 7.96l-1.37-1.37c-.4-.4-.92-.59-1.43-.59-.52 0-1.04.2-1.43.59L10.3 9.45l-7.72 7.72c-.78.78-.78 2.05 0 2.83L4 21.41c.39.39.9.59 1.41.59.51 0 1.02-.2 1.41-.59l7.78-7.78 2.81-2.81c.8-.78.8-2.07 0-2.86zM5.41 20L4 18.59l7.72-7.72 1.47 1.35L5.41 20z\"/>\n",
              "  </svg>\n",
              "      </button>\n",
              "      \n",
              "  <style>\n",
              "    .colab-df-container {\n",
              "      display:flex;\n",
              "      flex-wrap:wrap;\n",
              "      gap: 12px;\n",
              "    }\n",
              "\n",
              "    .colab-df-convert {\n",
              "      background-color: #E8F0FE;\n",
              "      border: none;\n",
              "      border-radius: 50%;\n",
              "      cursor: pointer;\n",
              "      display: none;\n",
              "      fill: #1967D2;\n",
              "      height: 32px;\n",
              "      padding: 0 0 0 0;\n",
              "      width: 32px;\n",
              "    }\n",
              "\n",
              "    .colab-df-convert:hover {\n",
              "      background-color: #E2EBFA;\n",
              "      box-shadow: 0px 1px 2px rgba(60, 64, 67, 0.3), 0px 1px 3px 1px rgba(60, 64, 67, 0.15);\n",
              "      fill: #174EA6;\n",
              "    }\n",
              "\n",
              "    [theme=dark] .colab-df-convert {\n",
              "      background-color: #3B4455;\n",
              "      fill: #D2E3FC;\n",
              "    }\n",
              "\n",
              "    [theme=dark] .colab-df-convert:hover {\n",
              "      background-color: #434B5C;\n",
              "      box-shadow: 0px 1px 3px 1px rgba(0, 0, 0, 0.15);\n",
              "      filter: drop-shadow(0px 1px 2px rgba(0, 0, 0, 0.3));\n",
              "      fill: #FFFFFF;\n",
              "    }\n",
              "  </style>\n",
              "\n",
              "      <script>\n",
              "        const buttonEl =\n",
              "          document.querySelector('#df-67180b7b-01e0-407b-933a-115ad48366c2 button.colab-df-convert');\n",
              "        buttonEl.style.display =\n",
              "          google.colab.kernel.accessAllowed ? 'block' : 'none';\n",
              "\n",
              "        async function convertToInteractive(key) {\n",
              "          const element = document.querySelector('#df-67180b7b-01e0-407b-933a-115ad48366c2');\n",
              "          const dataTable =\n",
              "            await google.colab.kernel.invokeFunction('convertToInteractive',\n",
              "                                                     [key], {});\n",
              "          if (!dataTable) return;\n",
              "\n",
              "          const docLinkHtml = 'Like what you see? Visit the ' +\n",
              "            '<a target=\"_blank\" href=https://colab.research.google.com/notebooks/data_table.ipynb>data table notebook</a>'\n",
              "            + ' to learn more about interactive tables.';\n",
              "          element.innerHTML = '';\n",
              "          dataTable['output_type'] = 'display_data';\n",
              "          await google.colab.output.renderOutput(dataTable, element);\n",
              "          const docLink = document.createElement('div');\n",
              "          docLink.innerHTML = docLinkHtml;\n",
              "          element.appendChild(docLink);\n",
              "        }\n",
              "      </script>\n",
              "    </div>\n",
              "  </div>\n",
              "  "
            ]
          },
          "metadata": {},
          "execution_count": 14
        }
      ],
      "source": [
        "# целевой признак для регресии - это цена закрытия/максимум/минимум дня\n",
        "# добавим его смещением признака с ценой закрытия вверх на единицу\n",
        "data['TARGET_CLOSE'] = data['CLOSE'].shift(-1)\n",
        "data['TARGET_HIGH'] = data['HIGH'].shift(-1)\n",
        "data['TARGET_LOW'] = data['LOW'].shift(-1)\n",
        "data.head(5)"
      ],
      "id": "eaL6KXCDMxzx"
    },
    {
      "cell_type": "code",
      "execution_count": 15,
      "metadata": {
        "id": "P6Z764MgMxzy"
      },
      "outputs": [],
      "source": [
        "# избавимся от nan-ов\n",
        "data = data.dropna()"
      ],
      "id": "P6Z764MgMxzy"
    },
    {
      "cell_type": "markdown",
      "metadata": {
        "id": "xLOiB-6zMxzv"
      },
      "source": [
        "# Feature engineering"
      ],
      "id": "xLOiB-6zMxzv"
    },
    {
      "cell_type": "code",
      "execution_count": 16,
      "metadata": {
        "id": "qzjl9j97Mxzv"
      },
      "outputs": [],
      "source": [
        "def features(data):\n",
        "\n",
        "    # день недели\n",
        "    data['DAY_OF_WEEK'] = data['DATE'].dt.dayofweek\n",
        "\n",
        "    # месяц\n",
        "    data['MONTH'] = data['DATE'].dt.month\n",
        "    \n",
        "    # разность между ценой открытия и закрытия\n",
        "    data['DIF_O_C'] = data['OPEN'] - data['CLOSE']\n",
        "    \n",
        "    # разность между максимальной и минимальной ценой\n",
        "    data['DIF_H_L'] = data['HIGH'] - data['LOW']\n",
        "\n",
        "    # средние цены закрытия за ... дней\n",
        "    data['MEAN_2'] = data['CLOSE'].rolling(window=2, center=False).mean()\n",
        "    data['MEAN_3'] = data['CLOSE'].rolling(window=3, center=False).mean()\n",
        "    data['MEAN_4'] = data['CLOSE'].rolling(window=4, center=False).mean()\n",
        "    data['MEAN_5'] = data['CLOSE'].rolling(window=5, center=False).mean()\n",
        "\n",
        "    # максимальные цены за ... дней\n",
        "    data['HIGH_2'] = data['HIGH'].rolling(window=2, center=False).max()\n",
        "    data['HIGH_3'] = data['HIGH'].rolling(window=3, center=False).max()\n",
        "    data['HIGH_4'] = data['HIGH'].rolling(window=4, center=False).max()\n",
        "    data['HIGH_5'] = data['HIGH'].rolling(window=5, center=False).max()\n",
        "\n",
        "    # минимальные цены за ... дней\n",
        "    data['LOW_2'] = data['LOW'].rolling(window=2, center=False).min()\n",
        "    data['LOW_3'] = data['LOW'].rolling(window=3, center=False).min()\n",
        "    data['LOW_4'] = data['LOW'].rolling(window=4, center=False).min()\n",
        "    data['LOW_5'] = data['LOW'].rolling(window=5, center=False).min()\n",
        "    \n",
        "    # цены и объем за прошлые дни\n",
        "    data[['OPEN_LAG_1', 'HIGH_LAG_1', 'LOW_LAG_1', 'CLOSE_LAG_1', 'VOL_LAG_1']] = data[['OPEN', 'HIGH', 'LOW', 'CLOSE', 'VOL']].shift(1)\n",
        "    data[['OPEN_LAG_2', 'HIGH_LAG_2', 'LOW_LAG_2', 'CLOSE_LAG_2', 'VOL_LAG_2']] = data[['OPEN', 'HIGH', 'LOW', 'CLOSE', 'VOL']].shift(2)\n",
        "    data[['OPEN_LAG_3', 'HIGH_LAG_3', 'LOW_LAG_3', 'CLOSE_LAG_3', 'VOL_LAG_3']] = data[['OPEN', 'HIGH', 'LOW', 'CLOSE', 'VOL']].shift(3)\n",
        "    data[['OPEN_LAG_4', 'HIGH_LAG_4', 'LOW_LAG_4', 'CLOSE_LAG_4', 'VOL_LAG_4']] = data[['OPEN', 'HIGH', 'LOW', 'CLOSE', 'VOL']].shift(4)\n",
        "    data[['OPEN_LAG_5', 'HIGH_LAG_5', 'LOW_LAG_5', 'CLOSE_LAG_5', 'VOL_LAG_5']] = data[['OPEN', 'HIGH', 'LOW', 'CLOSE', 'VOL']].shift(5)\n",
        "\n",
        "  \n",
        "    # цена открытия сегодня\n",
        "    data['OPEN_TODAY'] = data['OPEN'].shift(-1)\n",
        "\n",
        "    data.dropna(inplace=True)\n",
        "\n",
        "    return pd.get_dummies(data, columns=['DAY_OF_WEEK', 'MONTH'], prefix=['DAY_OF_WEEK', 'MONTH'])"
      ],
      "id": "qzjl9j97Mxzv"
    },
    {
      "cell_type": "code",
      "execution_count": 17,
      "metadata": {
        "id": "cwVCgWzOMxzw",
        "colab": {
          "base_uri": "https://localhost:8080/",
          "height": 386
        },
        "outputId": "909b7d25-f56b-4583-b522-6088ee0874a6"
      },
      "outputs": [
        {
          "output_type": "execute_result",
          "data": {
            "text/plain": [
              "        DATE   OPEN   HIGH    LOW  CLOSE        VOL  TARGET_CLOSE  \\\n",
              "5 2010-01-18 87.860 90.650 87.790 90.490  179399350        92.020   \n",
              "6 2010-01-19 90.520 92.200 88.800 92.020  268915291        90.620   \n",
              "7 2010-01-20 92.020 92.490 90.420 90.620  220273259        89.180   \n",
              "8 2010-01-21 91.260 91.650 88.920 89.180  219353508        86.500   \n",
              "9 2010-01-22 88.460 89.060 85.750 86.500  221223200        88.070   \n",
              "\n",
              "   TARGET_HIGH  TARGET_LOW  DIF_O_C  ...  MONTH_3  MONTH_4  MONTH_5  MONTH_6  \\\n",
              "5       92.200      88.800   -2.630  ...        0        0        0        0   \n",
              "6       92.490      90.420   -1.500  ...        0        0        0        0   \n",
              "7       91.650      88.920    1.400  ...        0        0        0        0   \n",
              "8       89.060      85.750    2.080  ...        0        0        0        0   \n",
              "9       88.800      85.330    1.960  ...        0        0        0        0   \n",
              "\n",
              "   MONTH_7  MONTH_8  MONTH_9  MONTH_10  MONTH_11  MONTH_12  \n",
              "5        0        0        0         0         0         0  \n",
              "6        0        0        0         0         0         0  \n",
              "7        0        0        0         0         0         0  \n",
              "8        0        0        0         0         0         0  \n",
              "9        0        0        0         0         0         0  \n",
              "\n",
              "[5 rows x 68 columns]"
            ],
            "text/html": [
              "\n",
              "  <div id=\"df-e967f943-669c-4d1a-86e9-3966f3a9cb2d\">\n",
              "    <div class=\"colab-df-container\">\n",
              "      <div>\n",
              "<style scoped>\n",
              "    .dataframe tbody tr th:only-of-type {\n",
              "        vertical-align: middle;\n",
              "    }\n",
              "\n",
              "    .dataframe tbody tr th {\n",
              "        vertical-align: top;\n",
              "    }\n",
              "\n",
              "    .dataframe thead th {\n",
              "        text-align: right;\n",
              "    }\n",
              "</style>\n",
              "<table border=\"1\" class=\"dataframe\">\n",
              "  <thead>\n",
              "    <tr style=\"text-align: right;\">\n",
              "      <th></th>\n",
              "      <th>DATE</th>\n",
              "      <th>OPEN</th>\n",
              "      <th>HIGH</th>\n",
              "      <th>LOW</th>\n",
              "      <th>CLOSE</th>\n",
              "      <th>VOL</th>\n",
              "      <th>TARGET_CLOSE</th>\n",
              "      <th>TARGET_HIGH</th>\n",
              "      <th>TARGET_LOW</th>\n",
              "      <th>DIF_O_C</th>\n",
              "      <th>...</th>\n",
              "      <th>MONTH_3</th>\n",
              "      <th>MONTH_4</th>\n",
              "      <th>MONTH_5</th>\n",
              "      <th>MONTH_6</th>\n",
              "      <th>MONTH_7</th>\n",
              "      <th>MONTH_8</th>\n",
              "      <th>MONTH_9</th>\n",
              "      <th>MONTH_10</th>\n",
              "      <th>MONTH_11</th>\n",
              "      <th>MONTH_12</th>\n",
              "    </tr>\n",
              "  </thead>\n",
              "  <tbody>\n",
              "    <tr>\n",
              "      <th>5</th>\n",
              "      <td>2010-01-18</td>\n",
              "      <td>87.860</td>\n",
              "      <td>90.650</td>\n",
              "      <td>87.790</td>\n",
              "      <td>90.490</td>\n",
              "      <td>179399350</td>\n",
              "      <td>92.020</td>\n",
              "      <td>92.200</td>\n",
              "      <td>88.800</td>\n",
              "      <td>-2.630</td>\n",
              "      <td>...</td>\n",
              "      <td>0</td>\n",
              "      <td>0</td>\n",
              "      <td>0</td>\n",
              "      <td>0</td>\n",
              "      <td>0</td>\n",
              "      <td>0</td>\n",
              "      <td>0</td>\n",
              "      <td>0</td>\n",
              "      <td>0</td>\n",
              "      <td>0</td>\n",
              "    </tr>\n",
              "    <tr>\n",
              "      <th>6</th>\n",
              "      <td>2010-01-19</td>\n",
              "      <td>90.520</td>\n",
              "      <td>92.200</td>\n",
              "      <td>88.800</td>\n",
              "      <td>92.020</td>\n",
              "      <td>268915291</td>\n",
              "      <td>90.620</td>\n",
              "      <td>92.490</td>\n",
              "      <td>90.420</td>\n",
              "      <td>-1.500</td>\n",
              "      <td>...</td>\n",
              "      <td>0</td>\n",
              "      <td>0</td>\n",
              "      <td>0</td>\n",
              "      <td>0</td>\n",
              "      <td>0</td>\n",
              "      <td>0</td>\n",
              "      <td>0</td>\n",
              "      <td>0</td>\n",
              "      <td>0</td>\n",
              "      <td>0</td>\n",
              "    </tr>\n",
              "    <tr>\n",
              "      <th>7</th>\n",
              "      <td>2010-01-20</td>\n",
              "      <td>92.020</td>\n",
              "      <td>92.490</td>\n",
              "      <td>90.420</td>\n",
              "      <td>90.620</td>\n",
              "      <td>220273259</td>\n",
              "      <td>89.180</td>\n",
              "      <td>91.650</td>\n",
              "      <td>88.920</td>\n",
              "      <td>1.400</td>\n",
              "      <td>...</td>\n",
              "      <td>0</td>\n",
              "      <td>0</td>\n",
              "      <td>0</td>\n",
              "      <td>0</td>\n",
              "      <td>0</td>\n",
              "      <td>0</td>\n",
              "      <td>0</td>\n",
              "      <td>0</td>\n",
              "      <td>0</td>\n",
              "      <td>0</td>\n",
              "    </tr>\n",
              "    <tr>\n",
              "      <th>8</th>\n",
              "      <td>2010-01-21</td>\n",
              "      <td>91.260</td>\n",
              "      <td>91.650</td>\n",
              "      <td>88.920</td>\n",
              "      <td>89.180</td>\n",
              "      <td>219353508</td>\n",
              "      <td>86.500</td>\n",
              "      <td>89.060</td>\n",
              "      <td>85.750</td>\n",
              "      <td>2.080</td>\n",
              "      <td>...</td>\n",
              "      <td>0</td>\n",
              "      <td>0</td>\n",
              "      <td>0</td>\n",
              "      <td>0</td>\n",
              "      <td>0</td>\n",
              "      <td>0</td>\n",
              "      <td>0</td>\n",
              "      <td>0</td>\n",
              "      <td>0</td>\n",
              "      <td>0</td>\n",
              "    </tr>\n",
              "    <tr>\n",
              "      <th>9</th>\n",
              "      <td>2010-01-22</td>\n",
              "      <td>88.460</td>\n",
              "      <td>89.060</td>\n",
              "      <td>85.750</td>\n",
              "      <td>86.500</td>\n",
              "      <td>221223200</td>\n",
              "      <td>88.070</td>\n",
              "      <td>88.800</td>\n",
              "      <td>85.330</td>\n",
              "      <td>1.960</td>\n",
              "      <td>...</td>\n",
              "      <td>0</td>\n",
              "      <td>0</td>\n",
              "      <td>0</td>\n",
              "      <td>0</td>\n",
              "      <td>0</td>\n",
              "      <td>0</td>\n",
              "      <td>0</td>\n",
              "      <td>0</td>\n",
              "      <td>0</td>\n",
              "      <td>0</td>\n",
              "    </tr>\n",
              "  </tbody>\n",
              "</table>\n",
              "<p>5 rows × 68 columns</p>\n",
              "</div>\n",
              "      <button class=\"colab-df-convert\" onclick=\"convertToInteractive('df-e967f943-669c-4d1a-86e9-3966f3a9cb2d')\"\n",
              "              title=\"Convert this dataframe to an interactive table.\"\n",
              "              style=\"display:none;\">\n",
              "        \n",
              "  <svg xmlns=\"http://www.w3.org/2000/svg\" height=\"24px\"viewBox=\"0 0 24 24\"\n",
              "       width=\"24px\">\n",
              "    <path d=\"M0 0h24v24H0V0z\" fill=\"none\"/>\n",
              "    <path d=\"M18.56 5.44l.94 2.06.94-2.06 2.06-.94-2.06-.94-.94-2.06-.94 2.06-2.06.94zm-11 1L8.5 8.5l.94-2.06 2.06-.94-2.06-.94L8.5 2.5l-.94 2.06-2.06.94zm10 10l.94 2.06.94-2.06 2.06-.94-2.06-.94-.94-2.06-.94 2.06-2.06.94z\"/><path d=\"M17.41 7.96l-1.37-1.37c-.4-.4-.92-.59-1.43-.59-.52 0-1.04.2-1.43.59L10.3 9.45l-7.72 7.72c-.78.78-.78 2.05 0 2.83L4 21.41c.39.39.9.59 1.41.59.51 0 1.02-.2 1.41-.59l7.78-7.78 2.81-2.81c.8-.78.8-2.07 0-2.86zM5.41 20L4 18.59l7.72-7.72 1.47 1.35L5.41 20z\"/>\n",
              "  </svg>\n",
              "      </button>\n",
              "      \n",
              "  <style>\n",
              "    .colab-df-container {\n",
              "      display:flex;\n",
              "      flex-wrap:wrap;\n",
              "      gap: 12px;\n",
              "    }\n",
              "\n",
              "    .colab-df-convert {\n",
              "      background-color: #E8F0FE;\n",
              "      border: none;\n",
              "      border-radius: 50%;\n",
              "      cursor: pointer;\n",
              "      display: none;\n",
              "      fill: #1967D2;\n",
              "      height: 32px;\n",
              "      padding: 0 0 0 0;\n",
              "      width: 32px;\n",
              "    }\n",
              "\n",
              "    .colab-df-convert:hover {\n",
              "      background-color: #E2EBFA;\n",
              "      box-shadow: 0px 1px 2px rgba(60, 64, 67, 0.3), 0px 1px 3px 1px rgba(60, 64, 67, 0.15);\n",
              "      fill: #174EA6;\n",
              "    }\n",
              "\n",
              "    [theme=dark] .colab-df-convert {\n",
              "      background-color: #3B4455;\n",
              "      fill: #D2E3FC;\n",
              "    }\n",
              "\n",
              "    [theme=dark] .colab-df-convert:hover {\n",
              "      background-color: #434B5C;\n",
              "      box-shadow: 0px 1px 3px 1px rgba(0, 0, 0, 0.15);\n",
              "      filter: drop-shadow(0px 1px 2px rgba(0, 0, 0, 0.3));\n",
              "      fill: #FFFFFF;\n",
              "    }\n",
              "  </style>\n",
              "\n",
              "      <script>\n",
              "        const buttonEl =\n",
              "          document.querySelector('#df-e967f943-669c-4d1a-86e9-3966f3a9cb2d button.colab-df-convert');\n",
              "        buttonEl.style.display =\n",
              "          google.colab.kernel.accessAllowed ? 'block' : 'none';\n",
              "\n",
              "        async function convertToInteractive(key) {\n",
              "          const element = document.querySelector('#df-e967f943-669c-4d1a-86e9-3966f3a9cb2d');\n",
              "          const dataTable =\n",
              "            await google.colab.kernel.invokeFunction('convertToInteractive',\n",
              "                                                     [key], {});\n",
              "          if (!dataTable) return;\n",
              "\n",
              "          const docLinkHtml = 'Like what you see? Visit the ' +\n",
              "            '<a target=\"_blank\" href=https://colab.research.google.com/notebooks/data_table.ipynb>data table notebook</a>'\n",
              "            + ' to learn more about interactive tables.';\n",
              "          element.innerHTML = '';\n",
              "          dataTable['output_type'] = 'display_data';\n",
              "          await google.colab.output.renderOutput(dataTable, element);\n",
              "          const docLink = document.createElement('div');\n",
              "          docLink.innerHTML = docLinkHtml;\n",
              "          element.appendChild(docLink);\n",
              "        }\n",
              "      </script>\n",
              "    </div>\n",
              "  </div>\n",
              "  "
            ]
          },
          "metadata": {},
          "execution_count": 17
        }
      ],
      "source": [
        "data1 = features(data.copy())\n",
        "data1.head()"
      ],
      "id": "cwVCgWzOMxzw"
    },
    {
      "cell_type": "markdown",
      "metadata": {
        "id": "bTzHPIb3Mxz3"
      },
      "source": [
        "# Обучение"
      ],
      "id": "bTzHPIb3Mxz3"
    },
    {
      "cell_type": "code",
      "execution_count": 21,
      "metadata": {
        "id": "B36Zo2L2Mx0B",
        "colab": {
          "base_uri": "https://localhost:8080/"
        },
        "outputId": "70632d85-1401-439b-bbbb-a2752e6d5d3d"
      },
      "outputs": [
        {
          "output_type": "execute_result",
          "data": {
            "text/plain": [
              "0.014076077093609717"
            ]
          },
          "metadata": {},
          "execution_count": 21
        }
      ],
      "source": [
        "# модель для предсказания CLOSE\n",
        "model_close = LinearRegression()\n",
        "\n",
        "# предикторы\n",
        "X = data1.drop(columns=['DATE', 'TARGET_CLOSE', 'TARGET_HIGH', 'TARGET_LOW'])\n",
        "# целевой признак\n",
        "y = data1['TARGET_CLOSE']\n",
        "\n",
        "# разделим на трейн и тест без перемешивания\n",
        "X_train, X_test, y_train, y_test = train_test_split(X, y, test_size=0.3, shuffle=False)\n",
        "\n",
        "# отбор признаков\n",
        "fs = SelectKBest(score_func=f_regression, k=30)\n",
        "fs.fit(X_train, y_train)\n",
        "\n",
        "# преобразования\n",
        "X_train_fs = fs.transform(X_train)\n",
        "X_test_fs = fs.transform(X_test)\n",
        "\n",
        "# обучение и результаты\n",
        "model_close.fit(X_train_fs, y_train)\n",
        "y_pred_fs = model_close.predict(X_test_fs) \n",
        "mape(y_test, y_pred_fs)"
      ],
      "id": "B36Zo2L2Mx0B"
    },
    {
      "cell_type": "code",
      "execution_count": 23,
      "metadata": {
        "id": "EXmtSvDrMx0B",
        "colab": {
          "base_uri": "https://localhost:8080/"
        },
        "outputId": "217c7409-317a-409b-e25a-aad12537fc66"
      },
      "outputs": [
        {
          "output_type": "execute_result",
          "data": {
            "text/plain": [
              "0.00856981881322237"
            ]
          },
          "metadata": {},
          "execution_count": 23
        }
      ],
      "source": [
        "model_high = LinearRegression()\n",
        "\n",
        "# предикторы\n",
        "X = data1.drop(columns=['DATE', 'TARGET_CLOSE', 'TARGET_HIGH', 'TARGET_LOW'])\n",
        "# целевой признак\n",
        "y = data1['TARGET_HIGH']\n",
        "\n",
        "# разделим на трейн и тест без перемешивания\n",
        "X_train, X_test, y_train, y_test = train_test_split(X, y, test_size=0.3, shuffle=False)\n",
        "\n",
        "# отбор признаков\n",
        "fs = SelectKBest(score_func=f_regression, k=30)\n",
        "fs.fit(X_train, y_train)\n",
        "\n",
        "# преобразования\n",
        "X_train_fs = fs.transform(X_train)\n",
        "X_test_fs = fs.transform(X_test)\n",
        "\n",
        "# обучение и результаты\n",
        "model_high.fit(X_train_fs, y_train)\n",
        "y_pred_fs = model_high.predict(X_test_fs) \n",
        "mape(y_test, y_pred_fs)"
      ],
      "id": "EXmtSvDrMx0B"
    },
    {
      "cell_type": "code",
      "execution_count": 24,
      "metadata": {
        "id": "E22ghEfEMx0B",
        "colab": {
          "base_uri": "https://localhost:8080/"
        },
        "outputId": "d90c04a9-0299-49f0-8b6e-243a8ccb9118"
      },
      "outputs": [
        {
          "output_type": "execute_result",
          "data": {
            "text/plain": [
              "0.009030180342985859"
            ]
          },
          "metadata": {},
          "execution_count": 24
        }
      ],
      "source": [
        "# модель для предсказания LOW\n",
        "model_low = LinearRegression()\n",
        "\n",
        "# предикторы\n",
        "X = data1.drop(columns=['DATE', 'TARGET_CLOSE', 'TARGET_HIGH', 'TARGET_LOW'])\n",
        "# целевой признак\n",
        "y = data1['TARGET_LOW']\n",
        "\n",
        "# разделим на трейн и тест без перемешивания\n",
        "X_train, X_test, y_train, y_test = train_test_split(X, y, test_size=0.3, shuffle=False)\n",
        "\n",
        "# отбор признаков\n",
        "fs = SelectKBest(score_func=f_regression, k=30)\n",
        "fs.fit(X_train, y_train)\n",
        "\n",
        "# преобразования\n",
        "X_train_fs = fs.transform(X_train)\n",
        "X_test_fs = fs.transform(X_test)\n",
        "\n",
        "# обучение и результаты\n",
        "model_high.fit(X_train_fs, y_train)\n",
        "y_pred_fs = model_high.predict(X_test_fs) \n",
        "mape(y_test, y_pred_fs)"
      ],
      "id": "E22ghEfEMx0B"
    },
    {
      "cell_type": "code",
      "execution_count": null,
      "metadata": {
        "id": "vJEXGgeYMx0B"
      },
      "outputs": [],
      "source": [],
      "id": "vJEXGgeYMx0B"
    },
    {
      "cell_type": "markdown",
      "source": [
        "# Сохранение моделей"
      ],
      "metadata": {
        "id": "4oqjSkjStVmc"
      },
      "id": "4oqjSkjStVmc"
    },
    {
      "cell_type": "code",
      "execution_count": 25,
      "metadata": {
        "id": "m-i228PEMx0B",
        "colab": {
          "base_uri": "https://localhost:8080/"
        },
        "outputId": "df2b8aff-95ac-4684-c327-ad8f300a4363"
      },
      "outputs": [
        {
          "output_type": "execute_result",
          "data": {
            "text/plain": [
              "['./saved_models/sber_model_close.joblib']"
            ]
          },
          "metadata": {},
          "execution_count": 25
        }
      ],
      "source": [
        "dump(model_close, './saved_models/sber_model_close.joblib')"
      ],
      "id": "m-i228PEMx0B"
    },
    {
      "cell_type": "code",
      "source": [
        "dump(model_high, './saved_models/sber_model_high.joblib')"
      ],
      "metadata": {
        "colab": {
          "base_uri": "https://localhost:8080/"
        },
        "id": "Te2Yl5lNuKnh",
        "outputId": "e9a48209-a8c7-4276-d3f3-e3fce53b6080"
      },
      "id": "Te2Yl5lNuKnh",
      "execution_count": 26,
      "outputs": [
        {
          "output_type": "execute_result",
          "data": {
            "text/plain": [
              "['./saved_models/sber_model_high.joblib']"
            ]
          },
          "metadata": {},
          "execution_count": 26
        }
      ]
    },
    {
      "cell_type": "code",
      "source": [
        "dump(model_low, './saved_models/sber_model_low.joblib')"
      ],
      "metadata": {
        "colab": {
          "base_uri": "https://localhost:8080/"
        },
        "id": "oh4RNi0EuaJh",
        "outputId": "6f3cd1a5-32e7-44e2-c984-79f00d58b68b"
      },
      "id": "oh4RNi0EuaJh",
      "execution_count": 27,
      "outputs": [
        {
          "output_type": "execute_result",
          "data": {
            "text/plain": [
              "['./saved_models/sber_model_low.joblib']"
            ]
          },
          "metadata": {},
          "execution_count": 27
        }
      ]
    },
    {
      "cell_type": "code",
      "source": [],
      "metadata": {
        "id": "UFW9vHHcube5"
      },
      "id": "UFW9vHHcube5",
      "execution_count": null,
      "outputs": []
    },
    {
      "cell_type": "code",
      "source": [],
      "metadata": {
        "id": "YMJrqHJOvrYH"
      },
      "id": "YMJrqHJOvrYH",
      "execution_count": null,
      "outputs": []
    }
  ],
  "metadata": {
    "kernelspec": {
      "display_name": "Python 3",
      "language": "python",
      "name": "python3"
    },
    "language_info": {
      "codemirror_mode": {
        "name": "ipython",
        "version": 3
      },
      "file_extension": ".py",
      "mimetype": "text/x-python",
      "name": "python",
      "nbconvert_exporter": "python",
      "pygments_lexer": "ipython3",
      "version": "3.8.5"
    },
    "colab": {
      "provenance": []
    }
  },
  "nbformat": 4,
  "nbformat_minor": 5
}